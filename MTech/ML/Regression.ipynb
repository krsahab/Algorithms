{
 "cells": [
  {
   "cell_type": "markdown",
   "metadata": {},
   "source": [
    "# Logistic Regression with a Neural Network mindset\n",
    "\n",
    "Welcome to your first (required) programming assignment! You will build a logistic regression classifier to recognize  cats. This assignment will step you through how to do this with a Neural Network mindset, and so will also hone your intuitions about deep learning.\n",
    "\n",
    "**Instructions:**\n",
    "- Do not use loops (for/while) in your code, unless the instructions explicitly ask you to do so.\n",
    "\n",
    "**You will learn to:**\n",
    "- Build the general architecture of a learning algorithm, including:\n",
    "    - Initializing parameters\n",
    "    - Calculating the cost function and its gradient\n",
    "    - Using an optimization algorithm (gradient descent) \n",
    "- Gather all three functions above into a main model function, in the right order."
   ]
  },
  {
   "cell_type": "markdown",
   "metadata": {},
   "source": [
    "## <font color='darkblue'>Updates</font>\n",
    "This notebook has been updated over the past few months.  The prior version was named \"v5\", and the current versionis now named '6a'\n",
    "\n",
    "#### If you were working on a previous version:\n",
    "* You can find your prior work by looking in the file directory for the older files (named by version name).\n",
    "* To view the file directory, click on the \"Coursera\" icon in the top left corner of this notebook.\n",
    "* Please copy your work from the older versions to the new version, in order to submit your work for grading.\n",
    "\n",
    "#### List of Updates\n",
    "* Forward propagation formula, indexing now starts at 1 instead of 0.\n",
    "* Optimization function comment now says \"print cost every 100 training iterations\" instead of \"examples\".\n",
    "* Fixed grammar in the comments.\n",
    "* Y_prediction_test variable name is used consistently.\n",
    "* Plot's axis label now says \"iterations (hundred)\" instead of \"iterations\".\n",
    "* When testing the model, the test image is normalized by dividing by 255."
   ]
  },
  {
   "cell_type": "markdown",
   "metadata": {},
   "source": [
    "## 1 - Packages ##\n",
    "\n",
    "First, let's run the cell below to import all the packages that you will need during this assignment. \n",
    "- [numpy](www.numpy.org) is the fundamental package for scientific computing with Python.\n",
    "- [h5py](http://www.h5py.org) is a common package to interact with a dataset that is stored on an H5 file.\n",
    "- [matplotlib](http://matplotlib.org) is a famous library to plot graphs in Python.\n",
    "- [PIL](http://www.pythonware.com/products/pil/) and [scipy](https://www.scipy.org/) are used here to test your model with your own picture at the end."
   ]
  },
  {
   "cell_type": "code",
   "execution_count": 138,
   "metadata": {},
   "outputs": [],
   "source": [
    "import numpy as np\n",
    "import matplotlib.pyplot as plt\n",
    "import h5py\n",
    "import scipy\n",
    "from PIL import Image\n",
    "from scipy import ndimage\n",
    "import scipy.misc\n",
    "from lr_utils import load_dataset\n",
    "\n",
    "%matplotlib inline"
   ]
  },
  {
   "cell_type": "markdown",
   "metadata": {},
   "source": [
    "## 2 - Overview of the Problem set ##\n",
    "\n",
    "**Problem Statement**: You are given a dataset (\"data.h5\") containing:\n",
    "    - a training set of m_train images labeled as cat (y=1) or non-cat (y=0)\n",
    "    - a test set of m_test images labeled as cat or non-cat\n",
    "    - each image is of shape (num_px, num_px, 3) where 3 is for the 3 channels (RGB). Thus, each image is square (height = num_px) and (width = num_px).\n",
    "\n",
    "You will build a simple image-recognition algorithm that can correctly classify pictures as cat or non-cat.\n",
    "\n",
    "Let's get more familiar with the dataset. Load the data by running the following code."
   ]
  },
  {
   "cell_type": "code",
   "execution_count": 139,
   "metadata": {},
   "outputs": [
    {
     "output_type": "stream",
     "name": "stdout",
     "text": [
      "<class 'numpy.ndarray'>\n209\n(64, 64, 3)\n1\n[[0 0 1 0 0 0 0 1 0 0 0 1 0 1 1 0 0 0 0 1 0 0 0 0 1 1 0 1 0 1 0 0 0 0 0 0\n  0 0 1 0 0 1 1 0 0 0 0 1 0 0 1 0 0 0 1 0 1 1 0 1 1 1 0 0 0 0 0 0 1 0 0 1\n  0 0 0 0 0 0 0 0 0 0 0 1 1 0 0 0 1 0 0 0 1 1 1 0 0 1 0 0 0 0 1 0 1 0 1 1\n  1 1 1 1 0 0 0 0 0 1 0 0 0 1 0 0 1 0 1 0 1 1 0 0 0 1 1 1 1 1 0 0 0 0 1 0\n  1 1 1 0 1 1 0 0 0 1 0 0 1 0 0 0 0 0 1 0 1 0 1 0 0 1 1 1 0 0 1 1 0 1 0 1\n  0 0 0 0 0 1 0 0 1 0 0 0 1 0 0 0 0 1 0 0 1 0 0 0 0 0 0 0 0]]\n(1, 209)\n50\n1\n(209, 64, 64, 3)\n"
     ]
    }
   ],
   "source": [
    "# Loading the data (cat/non-cat)\n",
    "train_set_x_orig, train_set_y, test_set_x_orig, test_set_y, classes = load_dataset()\n",
    "print (type(train_set_x_orig))\n",
    "print (len(train_set_x_orig))\n",
    "print (train_set_x_orig[0].shape)\n",
    "\n",
    "print (len(train_set_y))\n",
    "print (train_set_y)\n",
    "print (train_set_y.shape)\n",
    "\n",
    "print (len(test_set_x_orig))\n",
    "print (len(test_set_y))\n",
    "print (train_set_x_orig.shape)\n",
    "\n"
   ]
  },
  {
   "cell_type": "markdown",
   "metadata": {},
   "source": [
    "We added \"_orig\" at the end of image datasets (train and test) because we are going to preprocess them. After preprocessing, we will end up with train_set_x and test_set_x (the labels train_set_y and test_set_y don't need any preprocessing).\n",
    "\n",
    "Each line of your train_set_x_orig and test_set_x_orig is an array representing an image. You can visualize an example by running the following code. Feel free also to change the `index` value and re-run to see other images. "
   ]
  },
  {
   "cell_type": "code",
   "execution_count": 140,
   "metadata": {},
   "outputs": [
    {
     "output_type": "stream",
     "name": "stdout",
     "text": [
      "y = [1], it's a 'cat' picture.\n"
     ]
    },
    {
     "output_type": "display_data",
     "data": {
      "text/plain": "<Figure size 432x288 with 1 Axes>",
      "image/svg+xml": "<?xml version=\"1.0\" encoding=\"utf-8\" standalone=\"no\"?>\r\n<!DOCTYPE svg PUBLIC \"-//W3C//DTD SVG 1.1//EN\"\r\n  \"http://www.w3.org/Graphics/SVG/1.1/DTD/svg11.dtd\">\r\n<!-- Created with matplotlib (https://matplotlib.org/) -->\r\n<svg height=\"250.618594pt\" version=\"1.1\" viewBox=\"0 0 251.565 250.618594\" width=\"251.565pt\" xmlns=\"http://www.w3.org/2000/svg\" xmlns:xlink=\"http://www.w3.org/1999/xlink\">\r\n <metadata>\r\n  <rdf:RDF xmlns:cc=\"http://creativecommons.org/ns#\" xmlns:dc=\"http://purl.org/dc/elements/1.1/\" xmlns:rdf=\"http://www.w3.org/1999/02/22-rdf-syntax-ns#\">\r\n   <cc:Work>\r\n    <dc:type rdf:resource=\"http://purl.org/dc/dcmitype/StillImage\"/>\r\n    <dc:date>2020-12-10T17:20:49.931918</dc:date>\r\n    <dc:format>image/svg+xml</dc:format>\r\n    <dc:creator>\r\n     <cc:Agent>\r\n      <dc:title>Matplotlib v3.3.2, https://matplotlib.org/</dc:title>\r\n     </cc:Agent>\r\n    </dc:creator>\r\n   </cc:Work>\r\n  </rdf:RDF>\r\n </metadata>\r\n <defs>\r\n  <style type=\"text/css\">*{stroke-linecap:butt;stroke-linejoin:round;}</style>\r\n </defs>\r\n <g id=\"figure_1\">\r\n  <g id=\"patch_1\">\r\n   <path d=\"M 0 250.618594 \r\nL 251.565 250.618594 \r\nL 251.565 0 \r\nL 0 0 \r\nz\r\n\" style=\"fill:none;\"/>\r\n  </g>\r\n  <g id=\"axes_1\">\r\n   <g id=\"patch_2\">\r\n    <path d=\"M 26.925 226.740469 \r\nL 244.365 226.740469 \r\nL 244.365 9.300469 \r\nL 26.925 9.300469 \r\nz\r\n\" style=\"fill:#ffffff;\"/>\r\n   </g>\r\n   <g clip-path=\"url(#p3b5762f635)\">\r\n    <image height=\"218\" id=\"imagedaa3e07ac9\" transform=\"scale(1 -1)translate(0 -218)\" width=\"218\" x=\"26.925\" xlink:href=\"data:image/png;base64,\r\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\" y=\"-8.740469\"/>\r\n   </g>\r\n   <g id=\"matplotlib.axis_1\">\r\n    <g id=\"xtick_1\">\r\n     <g id=\"line2d_1\">\r\n      <defs>\r\n       <path d=\"M 0 0 \r\nL 0 3.5 \r\n\" id=\"mc7d82aad8d\" style=\"stroke:#000000;stroke-width:0.8;\"/>\r\n      </defs>\r\n      <g>\r\n       <use style=\"stroke:#000000;stroke-width:0.8;\" x=\"28.62375\" xlink:href=\"#mc7d82aad8d\" y=\"226.740469\"/>\r\n      </g>\r\n     </g>\r\n     <g id=\"text_1\">\r\n      <!-- 0 -->\r\n      <g transform=\"translate(25.4425 241.338906)scale(0.1 -0.1)\">\r\n       <defs>\r\n        <path d=\"M 31.78125 66.40625 \r\nQ 24.171875 66.40625 20.328125 58.90625 \r\nQ 16.5 51.421875 16.5 36.375 \r\nQ 16.5 21.390625 20.328125 13.890625 \r\nQ 24.171875 6.390625 31.78125 6.390625 \r\nQ 39.453125 6.390625 43.28125 13.890625 \r\nQ 47.125 21.390625 47.125 36.375 \r\nQ 47.125 51.421875 43.28125 58.90625 \r\nQ 39.453125 66.40625 31.78125 66.40625 \r\nz\r\nM 31.78125 74.21875 \r\nQ 44.046875 74.21875 50.515625 64.515625 \r\nQ 56.984375 54.828125 56.984375 36.375 \r\nQ 56.984375 17.96875 50.515625 8.265625 \r\nQ 44.046875 -1.421875 31.78125 -1.421875 \r\nQ 19.53125 -1.421875 13.0625 8.265625 \r\nQ 6.59375 17.96875 6.59375 36.375 \r\nQ 6.59375 54.828125 13.0625 64.515625 \r\nQ 19.53125 74.21875 31.78125 74.21875 \r\nz\r\n\" id=\"DejaVuSans-48\"/>\r\n       </defs>\r\n       <use xlink:href=\"#DejaVuSans-48\"/>\r\n      </g>\r\n     </g>\r\n    </g>\r\n    <g id=\"xtick_2\">\r\n     <g id=\"line2d_2\">\r\n      <g>\r\n       <use style=\"stroke:#000000;stroke-width:0.8;\" x=\"62.59875\" xlink:href=\"#mc7d82aad8d\" y=\"226.740469\"/>\r\n      </g>\r\n     </g>\r\n     <g id=\"text_2\">\r\n      <!-- 10 -->\r\n      <g transform=\"translate(56.23625 241.338906)scale(0.1 -0.1)\">\r\n       <defs>\r\n        <path d=\"M 12.40625 8.296875 \r\nL 28.515625 8.296875 \r\nL 28.515625 63.921875 \r\nL 10.984375 60.40625 \r\nL 10.984375 69.390625 \r\nL 28.421875 72.90625 \r\nL 38.28125 72.90625 \r\nL 38.28125 8.296875 \r\nL 54.390625 8.296875 \r\nL 54.390625 0 \r\nL 12.40625 0 \r\nz\r\n\" id=\"DejaVuSans-49\"/>\r\n       </defs>\r\n       <use xlink:href=\"#DejaVuSans-49\"/>\r\n       <use x=\"63.623047\" xlink:href=\"#DejaVuSans-48\"/>\r\n      </g>\r\n     </g>\r\n    </g>\r\n    <g id=\"xtick_3\">\r\n     <g id=\"line2d_3\">\r\n      <g>\r\n       <use style=\"stroke:#000000;stroke-width:0.8;\" x=\"96.57375\" xlink:href=\"#mc7d82aad8d\" y=\"226.740469\"/>\r\n      </g>\r\n     </g>\r\n     <g id=\"text_3\">\r\n      <!-- 20 -->\r\n      <g transform=\"translate(90.21125 241.338906)scale(0.1 -0.1)\">\r\n       <defs>\r\n        <path d=\"M 19.1875 8.296875 \r\nL 53.609375 8.296875 \r\nL 53.609375 0 \r\nL 7.328125 0 \r\nL 7.328125 8.296875 \r\nQ 12.9375 14.109375 22.625 23.890625 \r\nQ 32.328125 33.6875 34.8125 36.53125 \r\nQ 39.546875 41.84375 41.421875 45.53125 \r\nQ 43.3125 49.21875 43.3125 52.78125 \r\nQ 43.3125 58.59375 39.234375 62.25 \r\nQ 35.15625 65.921875 28.609375 65.921875 \r\nQ 23.96875 65.921875 18.8125 64.3125 \r\nQ 13.671875 62.703125 7.8125 59.421875 \r\nL 7.8125 69.390625 \r\nQ 13.765625 71.78125 18.9375 73 \r\nQ 24.125 74.21875 28.421875 74.21875 \r\nQ 39.75 74.21875 46.484375 68.546875 \r\nQ 53.21875 62.890625 53.21875 53.421875 \r\nQ 53.21875 48.921875 51.53125 44.890625 \r\nQ 49.859375 40.875 45.40625 35.40625 \r\nQ 44.1875 33.984375 37.640625 27.21875 \r\nQ 31.109375 20.453125 19.1875 8.296875 \r\nz\r\n\" id=\"DejaVuSans-50\"/>\r\n       </defs>\r\n       <use xlink:href=\"#DejaVuSans-50\"/>\r\n       <use x=\"63.623047\" xlink:href=\"#DejaVuSans-48\"/>\r\n      </g>\r\n     </g>\r\n    </g>\r\n    <g id=\"xtick_4\">\r\n     <g id=\"line2d_4\">\r\n      <g>\r\n       <use style=\"stroke:#000000;stroke-width:0.8;\" x=\"130.54875\" xlink:href=\"#mc7d82aad8d\" y=\"226.740469\"/>\r\n      </g>\r\n     </g>\r\n     <g id=\"text_4\">\r\n      <!-- 30 -->\r\n      <g transform=\"translate(124.18625 241.338906)scale(0.1 -0.1)\">\r\n       <defs>\r\n        <path d=\"M 40.578125 39.3125 \r\nQ 47.65625 37.796875 51.625 33 \r\nQ 55.609375 28.21875 55.609375 21.1875 \r\nQ 55.609375 10.40625 48.1875 4.484375 \r\nQ 40.765625 -1.421875 27.09375 -1.421875 \r\nQ 22.515625 -1.421875 17.65625 -0.515625 \r\nQ 12.796875 0.390625 7.625 2.203125 \r\nL 7.625 11.71875 \r\nQ 11.71875 9.328125 16.59375 8.109375 \r\nQ 21.484375 6.890625 26.8125 6.890625 \r\nQ 36.078125 6.890625 40.9375 10.546875 \r\nQ 45.796875 14.203125 45.796875 21.1875 \r\nQ 45.796875 27.640625 41.28125 31.265625 \r\nQ 36.765625 34.90625 28.71875 34.90625 \r\nL 20.21875 34.90625 \r\nL 20.21875 43.015625 \r\nL 29.109375 43.015625 \r\nQ 36.375 43.015625 40.234375 45.921875 \r\nQ 44.09375 48.828125 44.09375 54.296875 \r\nQ 44.09375 59.90625 40.109375 62.90625 \r\nQ 36.140625 65.921875 28.71875 65.921875 \r\nQ 24.65625 65.921875 20.015625 65.03125 \r\nQ 15.375 64.15625 9.8125 62.3125 \r\nL 9.8125 71.09375 \r\nQ 15.4375 72.65625 20.34375 73.4375 \r\nQ 25.25 74.21875 29.59375 74.21875 \r\nQ 40.828125 74.21875 47.359375 69.109375 \r\nQ 53.90625 64.015625 53.90625 55.328125 \r\nQ 53.90625 49.265625 50.4375 45.09375 \r\nQ 46.96875 40.921875 40.578125 39.3125 \r\nz\r\n\" id=\"DejaVuSans-51\"/>\r\n       </defs>\r\n       <use xlink:href=\"#DejaVuSans-51\"/>\r\n       <use x=\"63.623047\" xlink:href=\"#DejaVuSans-48\"/>\r\n      </g>\r\n     </g>\r\n    </g>\r\n    <g id=\"xtick_5\">\r\n     <g id=\"line2d_5\">\r\n      <g>\r\n       <use style=\"stroke:#000000;stroke-width:0.8;\" x=\"164.52375\" xlink:href=\"#mc7d82aad8d\" y=\"226.740469\"/>\r\n      </g>\r\n     </g>\r\n     <g id=\"text_5\">\r\n      <!-- 40 -->\r\n      <g transform=\"translate(158.16125 241.338906)scale(0.1 -0.1)\">\r\n       <defs>\r\n        <path d=\"M 37.796875 64.3125 \r\nL 12.890625 25.390625 \r\nL 37.796875 25.390625 \r\nz\r\nM 35.203125 72.90625 \r\nL 47.609375 72.90625 \r\nL 47.609375 25.390625 \r\nL 58.015625 25.390625 \r\nL 58.015625 17.1875 \r\nL 47.609375 17.1875 \r\nL 47.609375 0 \r\nL 37.796875 0 \r\nL 37.796875 17.1875 \r\nL 4.890625 17.1875 \r\nL 4.890625 26.703125 \r\nz\r\n\" id=\"DejaVuSans-52\"/>\r\n       </defs>\r\n       <use xlink:href=\"#DejaVuSans-52\"/>\r\n       <use x=\"63.623047\" xlink:href=\"#DejaVuSans-48\"/>\r\n      </g>\r\n     </g>\r\n    </g>\r\n    <g id=\"xtick_6\">\r\n     <g id=\"line2d_6\">\r\n      <g>\r\n       <use style=\"stroke:#000000;stroke-width:0.8;\" x=\"198.49875\" xlink:href=\"#mc7d82aad8d\" y=\"226.740469\"/>\r\n      </g>\r\n     </g>\r\n     <g id=\"text_6\">\r\n      <!-- 50 -->\r\n      <g transform=\"translate(192.13625 241.338906)scale(0.1 -0.1)\">\r\n       <defs>\r\n        <path d=\"M 10.796875 72.90625 \r\nL 49.515625 72.90625 \r\nL 49.515625 64.59375 \r\nL 19.828125 64.59375 \r\nL 19.828125 46.734375 \r\nQ 21.96875 47.46875 24.109375 47.828125 \r\nQ 26.265625 48.1875 28.421875 48.1875 \r\nQ 40.625 48.1875 47.75 41.5 \r\nQ 54.890625 34.8125 54.890625 23.390625 \r\nQ 54.890625 11.625 47.5625 5.09375 \r\nQ 40.234375 -1.421875 26.90625 -1.421875 \r\nQ 22.3125 -1.421875 17.546875 -0.640625 \r\nQ 12.796875 0.140625 7.71875 1.703125 \r\nL 7.71875 11.625 \r\nQ 12.109375 9.234375 16.796875 8.0625 \r\nQ 21.484375 6.890625 26.703125 6.890625 \r\nQ 35.15625 6.890625 40.078125 11.328125 \r\nQ 45.015625 15.765625 45.015625 23.390625 \r\nQ 45.015625 31 40.078125 35.4375 \r\nQ 35.15625 39.890625 26.703125 39.890625 \r\nQ 22.75 39.890625 18.8125 39.015625 \r\nQ 14.890625 38.140625 10.796875 36.28125 \r\nz\r\n\" id=\"DejaVuSans-53\"/>\r\n       </defs>\r\n       <use xlink:href=\"#DejaVuSans-53\"/>\r\n       <use x=\"63.623047\" xlink:href=\"#DejaVuSans-48\"/>\r\n      </g>\r\n     </g>\r\n    </g>\r\n    <g id=\"xtick_7\">\r\n     <g id=\"line2d_7\">\r\n      <g>\r\n       <use style=\"stroke:#000000;stroke-width:0.8;\" x=\"232.47375\" xlink:href=\"#mc7d82aad8d\" y=\"226.740469\"/>\r\n      </g>\r\n     </g>\r\n     <g id=\"text_7\">\r\n      <!-- 60 -->\r\n      <g transform=\"translate(226.11125 241.338906)scale(0.1 -0.1)\">\r\n       <defs>\r\n        <path d=\"M 33.015625 40.375 \r\nQ 26.375 40.375 22.484375 35.828125 \r\nQ 18.609375 31.296875 18.609375 23.390625 \r\nQ 18.609375 15.53125 22.484375 10.953125 \r\nQ 26.375 6.390625 33.015625 6.390625 \r\nQ 39.65625 6.390625 43.53125 10.953125 \r\nQ 47.40625 15.53125 47.40625 23.390625 \r\nQ 47.40625 31.296875 43.53125 35.828125 \r\nQ 39.65625 40.375 33.015625 40.375 \r\nz\r\nM 52.59375 71.296875 \r\nL 52.59375 62.3125 \r\nQ 48.875 64.0625 45.09375 64.984375 \r\nQ 41.3125 65.921875 37.59375 65.921875 \r\nQ 27.828125 65.921875 22.671875 59.328125 \r\nQ 17.53125 52.734375 16.796875 39.40625 \r\nQ 19.671875 43.65625 24.015625 45.921875 \r\nQ 28.375 48.1875 33.59375 48.1875 \r\nQ 44.578125 48.1875 50.953125 41.515625 \r\nQ 57.328125 34.859375 57.328125 23.390625 \r\nQ 57.328125 12.15625 50.6875 5.359375 \r\nQ 44.046875 -1.421875 33.015625 -1.421875 \r\nQ 20.359375 -1.421875 13.671875 8.265625 \r\nQ 6.984375 17.96875 6.984375 36.375 \r\nQ 6.984375 53.65625 15.1875 63.9375 \r\nQ 23.390625 74.21875 37.203125 74.21875 \r\nQ 40.921875 74.21875 44.703125 73.484375 \r\nQ 48.484375 72.75 52.59375 71.296875 \r\nz\r\n\" id=\"DejaVuSans-54\"/>\r\n       </defs>\r\n       <use xlink:href=\"#DejaVuSans-54\"/>\r\n       <use x=\"63.623047\" xlink:href=\"#DejaVuSans-48\"/>\r\n      </g>\r\n     </g>\r\n    </g>\r\n   </g>\r\n   <g id=\"matplotlib.axis_2\">\r\n    <g id=\"ytick_1\">\r\n     <g id=\"line2d_8\">\r\n      <defs>\r\n       <path d=\"M 0 0 \r\nL -3.5 0 \r\n\" id=\"mbefd58391a\" style=\"stroke:#000000;stroke-width:0.8;\"/>\r\n      </defs>\r\n      <g>\r\n       <use style=\"stroke:#000000;stroke-width:0.8;\" x=\"26.925\" xlink:href=\"#mbefd58391a\" y=\"10.999219\"/>\r\n      </g>\r\n     </g>\r\n     <g id=\"text_8\">\r\n      <!-- 0 -->\r\n      <g transform=\"translate(13.5625 14.798437)scale(0.1 -0.1)\">\r\n       <use xlink:href=\"#DejaVuSans-48\"/>\r\n      </g>\r\n     </g>\r\n    </g>\r\n    <g id=\"ytick_2\">\r\n     <g id=\"line2d_9\">\r\n      <g>\r\n       <use style=\"stroke:#000000;stroke-width:0.8;\" x=\"26.925\" xlink:href=\"#mbefd58391a\" y=\"44.974219\"/>\r\n      </g>\r\n     </g>\r\n     <g id=\"text_9\">\r\n      <!-- 10 -->\r\n      <g transform=\"translate(7.2 48.773437)scale(0.1 -0.1)\">\r\n       <use xlink:href=\"#DejaVuSans-49\"/>\r\n       <use x=\"63.623047\" xlink:href=\"#DejaVuSans-48\"/>\r\n      </g>\r\n     </g>\r\n    </g>\r\n    <g id=\"ytick_3\">\r\n     <g id=\"line2d_10\">\r\n      <g>\r\n       <use style=\"stroke:#000000;stroke-width:0.8;\" x=\"26.925\" xlink:href=\"#mbefd58391a\" y=\"78.949219\"/>\r\n      </g>\r\n     </g>\r\n     <g id=\"text_10\">\r\n      <!-- 20 -->\r\n      <g transform=\"translate(7.2 82.748437)scale(0.1 -0.1)\">\r\n       <use xlink:href=\"#DejaVuSans-50\"/>\r\n       <use x=\"63.623047\" xlink:href=\"#DejaVuSans-48\"/>\r\n      </g>\r\n     </g>\r\n    </g>\r\n    <g id=\"ytick_4\">\r\n     <g id=\"line2d_11\">\r\n      <g>\r\n       <use style=\"stroke:#000000;stroke-width:0.8;\" x=\"26.925\" xlink:href=\"#mbefd58391a\" y=\"112.924219\"/>\r\n      </g>\r\n     </g>\r\n     <g id=\"text_11\">\r\n      <!-- 30 -->\r\n      <g transform=\"translate(7.2 116.723437)scale(0.1 -0.1)\">\r\n       <use xlink:href=\"#DejaVuSans-51\"/>\r\n       <use x=\"63.623047\" xlink:href=\"#DejaVuSans-48\"/>\r\n      </g>\r\n     </g>\r\n    </g>\r\n    <g id=\"ytick_5\">\r\n     <g id=\"line2d_12\">\r\n      <g>\r\n       <use style=\"stroke:#000000;stroke-width:0.8;\" x=\"26.925\" xlink:href=\"#mbefd58391a\" y=\"146.899219\"/>\r\n      </g>\r\n     </g>\r\n     <g id=\"text_12\">\r\n      <!-- 40 -->\r\n      <g transform=\"translate(7.2 150.698437)scale(0.1 -0.1)\">\r\n       <use xlink:href=\"#DejaVuSans-52\"/>\r\n       <use x=\"63.623047\" xlink:href=\"#DejaVuSans-48\"/>\r\n      </g>\r\n     </g>\r\n    </g>\r\n    <g id=\"ytick_6\">\r\n     <g id=\"line2d_13\">\r\n      <g>\r\n       <use style=\"stroke:#000000;stroke-width:0.8;\" x=\"26.925\" xlink:href=\"#mbefd58391a\" y=\"180.874219\"/>\r\n      </g>\r\n     </g>\r\n     <g id=\"text_13\">\r\n      <!-- 50 -->\r\n      <g transform=\"translate(7.2 184.673437)scale(0.1 -0.1)\">\r\n       <use xlink:href=\"#DejaVuSans-53\"/>\r\n       <use x=\"63.623047\" xlink:href=\"#DejaVuSans-48\"/>\r\n      </g>\r\n     </g>\r\n    </g>\r\n    <g id=\"ytick_7\">\r\n     <g id=\"line2d_14\">\r\n      <g>\r\n       <use style=\"stroke:#000000;stroke-width:0.8;\" x=\"26.925\" xlink:href=\"#mbefd58391a\" y=\"214.849219\"/>\r\n      </g>\r\n     </g>\r\n     <g id=\"text_14\">\r\n      <!-- 60 -->\r\n      <g transform=\"translate(7.2 218.648437)scale(0.1 -0.1)\">\r\n       <use xlink:href=\"#DejaVuSans-54\"/>\r\n       <use x=\"63.623047\" xlink:href=\"#DejaVuSans-48\"/>\r\n      </g>\r\n     </g>\r\n    </g>\r\n   </g>\r\n   <g id=\"patch_3\">\r\n    <path d=\"M 26.925 226.740469 \r\nL 26.925 9.300469 \r\n\" style=\"fill:none;stroke:#000000;stroke-linecap:square;stroke-linejoin:miter;stroke-width:0.8;\"/>\r\n   </g>\r\n   <g id=\"patch_4\">\r\n    <path d=\"M 244.365 226.740469 \r\nL 244.365 9.300469 \r\n\" style=\"fill:none;stroke:#000000;stroke-linecap:square;stroke-linejoin:miter;stroke-width:0.8;\"/>\r\n   </g>\r\n   <g id=\"patch_5\">\r\n    <path d=\"M 26.925 226.740469 \r\nL 244.365 226.740469 \r\n\" style=\"fill:none;stroke:#000000;stroke-linecap:square;stroke-linejoin:miter;stroke-width:0.8;\"/>\r\n   </g>\r\n   <g id=\"patch_6\">\r\n    <path d=\"M 26.925 9.300469 \r\nL 244.365 9.300469 \r\n\" style=\"fill:none;stroke:#000000;stroke-linecap:square;stroke-linejoin:miter;stroke-width:0.8;\"/>\r\n   </g>\r\n  </g>\r\n </g>\r\n <defs>\r\n  <clipPath id=\"p3b5762f635\">\r\n   <rect height=\"217.44\" width=\"217.44\" x=\"26.925\" y=\"9.300469\"/>\r\n  </clipPath>\r\n </defs>\r\n</svg>\r\n",
      "image/png": "[encoded data removed]"
     },
     "metadata": {
      "needs_background": "light"
     }
    }
   ],
   "source": [
    "# Example of a picture\n",
    "index = 25\n",
    "plt.imshow(train_set_x_orig[index])\n",
    "print (\"y = \" + str(train_set_y[:, index]) + \", it's a '\" + classes[np.squeeze(train_set_y[:, index])].decode(\"utf-8\") +  \"' picture.\")"
   ]
  },
  {
   "cell_type": "markdown",
   "metadata": {},
   "source": [
    "Many software bugs in deep learning come from having matrix/vector dimensions that don't fit. If you can keep your matrix/vector dimensions straight you will go a long way toward eliminating many bugs. \n",
    "\n",
    "**Exercise:** Find the values for:\n",
    "    - m_train (number of training examples)\n",
    "    - m_test (number of test examples)\n",
    "    - num_px (= height = width of a training image)\n",
    "Remember that `train_set_x_orig` is a numpy-array of shape (m_train, num_px, num_px, 3). For instance, you can access `m_train` by writing `train_set_x_orig.shape[0]`."
   ]
  },
  {
   "cell_type": "code",
   "execution_count": 141,
   "metadata": {
    "scrolled": true
   },
   "outputs": [
    {
     "output_type": "stream",
     "name": "stdout",
     "text": [
      "Number of training examples: m_train = 209\nNumber of testing examples: m_test = 50\nHeight/Width of each image: num_px = 64\nEach image is of size: (64, 64, 3)\ntrain_set_x shape: (209, 64, 64, 3)\ntrain_set_y shape: (1, 209)\ntest_set_x shape: (50, 64, 64, 3)\ntest_set_y shape: (1, 50)\n"
     ]
    }
   ],
   "source": [
    "### START CODE HERE ### (≈ 3 lines of code)\n",
    "m_train = train_set_x_orig.shape[0]\n",
    "m_test = test_set_x_orig.shape[0]\n",
    "num_px = train_set_x_orig.shape[1]\n",
    "### END CODE HERE ###\n",
    "\n",
    "print (\"Number of training examples: m_train = \" + str(m_train))\n",
    "print (\"Number of testing examples: m_test = \" + str(m_test))\n",
    "print (\"Height/Width of each image: num_px = \" + str(num_px))\n",
    "print (\"Each image is of size: (\" + str(num_px) + \", \" + str(num_px) + \", 3)\")\n",
    "print (\"train_set_x shape: \" + str(train_set_x_orig.shape))\n",
    "print (\"train_set_y shape: \" + str(train_set_y.shape))\n",
    "print (\"test_set_x shape: \" + str(test_set_x_orig.shape))\n",
    "print (\"test_set_y shape: \" + str(test_set_y.shape))"
   ]
  },
  {
   "cell_type": "markdown",
   "metadata": {},
   "source": [
    "**Expected Output for m_train, m_test and num_px**: \n",
    "<table style=\"width:15%\">\n",
    "  <tr>\n",
    "    <td>**m_train**</td>\n",
    "    <td> 209 </td> \n",
    "  </tr>\n",
    "  \n",
    "  <tr>\n",
    "    <td>**m_test**</td>\n",
    "    <td> 50 </td> \n",
    "  </tr>\n",
    "  \n",
    "  <tr>\n",
    "    <td>**num_px**</td>\n",
    "    <td> 64 </td> \n",
    "  </tr>\n",
    "  \n",
    "</table>\n"
   ]
  },
  {
   "cell_type": "markdown",
   "metadata": {},
   "source": [
    "For convenience, you should now reshape images of shape (num_px, num_px, 3) in a numpy-array of shape (num_px $*$ num_px $*$ 3, 1). After this, our training (and test) dataset is a numpy-array where each column represents a flattened image. There should be m_train (respectively m_test) columns.\n",
    "\n",
    "**Exercise:** Reshape the training and test data sets so that images of size (num_px, num_px, 3) are flattened into single vectors of shape (num\\_px $*$ num\\_px $*$ 3, 1).\n",
    "\n",
    "A trick when you want to flatten a matrix X of shape (a,b,c,d) to a matrix X_flatten of shape (b$*$c$*$d, a) is to use: \n",
    "```python\n",
    "X_flatten = X.reshape(X.shape[0], -1).T      # X.T is the transpose of X\n",
    "```"
   ]
  },
  {
   "cell_type": "code",
   "execution_count": 142,
   "metadata": {},
   "outputs": [
    {
     "output_type": "stream",
     "name": "stdout",
     "text": [
      "train_set_x_flatten shape: (12288, 209)\ntrain_set_y shape: (1, 209)\ntest_set_x_flatten shape: (12288, 50)\ntest_set_y shape: (1, 50)\nsanity check after reshaping: [17 31 56 22 33]\n"
     ]
    }
   ],
   "source": [
    "# Reshape the training and test examples\n",
    "\n",
    "### START CODE HERE ### (≈ 2 lines of code)\n",
    "train_set_x_flatten = train_set_x_orig.reshape(train_set_x_orig.shape[0],-1).T\n",
    "test_set_x_flatten = test_set_x_orig.reshape(test_set_x_orig.shape[0],-1).T\n",
    "### END CODE HERE ###\n",
    "\n",
    "print (\"train_set_x_flatten shape: \" + str(train_set_x_flatten.shape))\n",
    "print (\"train_set_y shape: \" + str(train_set_y.shape))\n",
    "print (\"test_set_x_flatten shape: \" + str(test_set_x_flatten.shape))\n",
    "print (\"test_set_y shape: \" + str(test_set_y.shape))\n",
    "print (\"sanity check after reshaping: \" + str(train_set_x_flatten[0:5,0]))"
   ]
  },
  {
   "cell_type": "markdown",
   "metadata": {},
   "source": [
    "**Expected Output**: \n",
    "\n",
    "<table style=\"width:35%\">\n",
    "  <tr>\n",
    "    <td>**train_set_x_flatten shape**</td>\n",
    "    <td> (12288, 209)</td> \n",
    "  </tr>\n",
    "  <tr>\n",
    "    <td>**train_set_y shape**</td>\n",
    "    <td>(1, 209)</td> \n",
    "  </tr>\n",
    "  <tr>\n",
    "    <td>**test_set_x_flatten shape**</td>\n",
    "    <td>(12288, 50)</td> \n",
    "  </tr>\n",
    "  <tr>\n",
    "    <td>**test_set_y shape**</td>\n",
    "    <td>(1, 50)</td> \n",
    "  </tr>\n",
    "  <tr>\n",
    "  <td>**sanity check after reshaping**</td>\n",
    "  <td>[17 31 56 22 33]</td> \n",
    "  </tr>\n",
    "</table>"
   ]
  },
  {
   "cell_type": "markdown",
   "metadata": {},
   "source": [
    "To represent color images, the red, green and blue channels (RGB) must be specified for each pixel, and so the pixel value is actually a vector of three numbers ranging from 0 to 255.\n",
    "\n",
    "One common preprocessing step in machine learning is to center and standardize your dataset, meaning that you substract the mean of the whole numpy array from each example, and then divide each example by the standard deviation of the whole numpy array. But for picture datasets, it is simpler and more convenient and works almost as well to just divide every row of the dataset by 255 (the maximum value of a pixel channel).\n",
    "\n",
    "<!-- During the training of your model, you're going to multiply weights and add biases to some initial inputs in order to observe neuron activations. Then you backpropogate with the gradients to train the model. But, it is extremely important for each feature to have a similar range such that our gradients don't explode. You will see that more in detail later in the lectures. !--> \n",
    "\n",
    "Let's standardize our dataset."
   ]
  },
  {
   "cell_type": "code",
   "execution_count": 143,
   "metadata": {},
   "outputs": [
    {
     "output_type": "stream",
     "name": "stdout",
     "text": [
      "train_data is: 12288 209\ntest_data is: [[0.61960784 0.45098039 1.         ... 0.16078431 0.07058824 0.52156863]\n [0.40784314 0.43137255 0.99215686 ... 0.18431373 0.07058824 0.63921569]\n [0.3254902  0.43529412 0.99607843 ... 0.32941176 0.0627451  0.29411765]\n ...\n [0.67843137 0.67058824 0.52156863 ... 0.71764706 0.56470588 0.01960784]\n [0.50196078 0.69019608 0.39607843 ... 0.55294118 0.5372549  0.08627451]\n [0.43137255 0.72941176 0.4745098  ... 0.45490196 0.42352941 0.01960784]]\n"
     ]
    }
   ],
   "source": [
    "train_set_x = train_set_x_flatten/255.\n",
    "test_set_x = test_set_x_flatten/255.\n",
    "print (\"train_data is:\",len(train_set_x),len(train_set_x[0]))\n",
    "print (\"test_data is:\",test_set_x)"
   ]
  },
  {
   "cell_type": "markdown",
   "metadata": {},
   "source": [
    "<font color='blue'>\n",
    "**What you need to remember:**\n",
    "\n",
    "Common steps for pre-processing a new dataset are:\n",
    "- Figure out the dimensions and shapes of the problem (m_train, m_test, num_px, ...)\n",
    "- Reshape the datasets such that each example is now a vector of size (num_px \\* num_px \\* 3, 1)\n",
    "- \"Standardize\" the data"
   ]
  },
  {
   "cell_type": "markdown",
   "metadata": {},
   "source": [
    "## 3 - General Architecture of the learning algorithm ##\n",
    "\n",
    "It's time to design a simple algorithm to distinguish cat images from non-cat images.\n",
    "\n",
    "You will build a Logistic Regression, using a Neural Network mindset. The following Figure explains why **Logistic Regression is actually a very simple Neural Network!**\n",
    "\n",
    "<img src=\"images/LogReg_kiank.png\" style=\"width:650px;height:400px;\">\n",
    "\n",
    "**Mathematical expression of the algorithm**:\n",
    "\n",
    "For one example $x^{(i)}$:\n",
    "$$z^{(i)} = w^T x^{(i)} + b \\tag{1}$$\n",
    "$$\\hat{y}^{(i)} = a^{(i)} = sigmoid(z^{(i)})\\tag{2}$$ \n",
    "$$ \\mathcal{L}(a^{(i)}, y^{(i)}) =  - y^{(i)}  \\log(a^{(i)}) - (1-y^{(i)} )  \\log(1-a^{(i)})\\tag{3}$$\n",
    "\n",
    "The cost is then computed by summing over all training examples:\n",
    "$$ J = \\frac{1}{m} \\sum_{i=1}^m \\mathcal{L}(a^{(i)}, y^{(i)})\\tag{6}$$\n",
    "\n",
    "**Key steps**:\n",
    "In this exercise, you will carry out the following steps: \n",
    "    - Initialize the parameters of the model\n",
    "    - Learn the parameters for the model by minimizing the cost  \n",
    "    - Use the learned parameters to make predictions (on the test set)\n",
    "    - Analyse the results and conclude"
   ]
  },
  {
   "cell_type": "markdown",
   "metadata": {},
   "source": [
    "## 4 - Building the parts of our algorithm ## \n",
    "\n",
    "The main steps for building a Neural Network are:\n",
    "1. Define the model structure (such as number of input features) \n",
    "2. Initialize the model's parameters\n",
    "3. Loop:\n",
    "    - Calculate current loss (forward propagation)\n",
    "    - Calculate current gradient (backward propagation)\n",
    "    - Update parameters (gradient descent)\n",
    "\n",
    "You often build 1-3 separately and integrate them into one function we call `model()`.\n",
    "\n",
    "### 4.1 - Helper functions\n",
    "\n",
    "**Exercise**: Using your code from \"Python Basics\", implement `sigmoid()`. As you've seen in the figure above, you need to compute $sigmoid( w^T x + b) = \\frac{1}{1 + e^{-(w^T x + b)}}$ to make predictions. Use np.exp()."
   ]
  },
  {
   "cell_type": "code",
   "execution_count": 144,
   "metadata": {
    "collapsed": true
   },
   "outputs": [],
   "source": [
    "# GRADED FUNCTION: sigmoid\n",
    "\n",
    "def sigmoid(z):\n",
    "    \"\"\"\n",
    "    Compute the sigmoid of z\n",
    "\n",
    "    Arguments:\n",
    "    z -- A scalar or numpy array of any size.\n",
    "\n",
    "    Return:\n",
    "    s -- sigmoid(z)\n",
    "    \"\"\"\n",
    "\n",
    "    ### START CODE HERE ### (≈ 1 line of code)\n",
    "    s = 1.0/(1+np.exp(-z))\n",
    "    ### END CODE HERE ###\n",
    "    \n",
    "    return s"
   ]
  },
  {
   "cell_type": "code",
   "execution_count": 145,
   "metadata": {
    "scrolled": true
   },
   "outputs": [
    {
     "output_type": "stream",
     "name": "stdout",
     "text": [
      "sigmoid([0, 2]) = [0.5        0.88079708]\n"
     ]
    }
   ],
   "source": [
    "print (\"sigmoid([0, 2]) = \" + str(sigmoid(np.array([0,2]))))"
   ]
  },
  {
   "cell_type": "markdown",
   "metadata": {},
   "source": [
    "**Expected Output**: \n",
    "\n",
    "<table>\n",
    "  <tr>\n",
    "    <td>**sigmoid([0, 2])**</td>\n",
    "    <td> [ 0.5         0.88079708]</td> \n",
    "  </tr>\n",
    "</table>"
   ]
  },
  {
   "cell_type": "markdown",
   "metadata": {},
   "source": [
    "### 4.2 - Initializing parameters\n",
    "\n",
    "**Exercise:** Implement parameter initialization in the cell below. You have to initialize w as a vector of zeros. If you don't know what numpy function to use, look up np.zeros() in the Numpy library's documentation."
   ]
  },
  {
   "cell_type": "code",
   "execution_count": 146,
   "metadata": {
    "collapsed": true
   },
   "outputs": [],
   "source": [
    "# GRADED FUNCTION: initialize_with_zeros\n",
    "\n",
    "def initialize_with_zeros(dim):\n",
    "    \"\"\"\n",
    "    This function creates a vector of zeros of shape (dim, 1) for w and initializes b to 0.\n",
    "    \n",
    "    Argument:\n",
    "    dim -- size of the w vector we want (or number of parameters in this case)\n",
    "    \n",
    "    Returns:\n",
    "    w -- initialized vector of shape (dim, 1)\n",
    "    b -- initialized scalar (corresponds to the bias)\n",
    "    \"\"\"\n",
    "    \n",
    "    ### START CODE HERE ### (≈ 1 line of code)\n",
    "    w = np.zeros((dim,1))\n",
    "    b = 0\n",
    "    ### END CODE HERE ###\n",
    "\n",
    "    assert(w.shape == (dim, 1))\n",
    "    assert(isinstance(b, float) or isinstance(b, int))\n",
    "    \n",
    "    return w, b"
   ]
  },
  {
   "cell_type": "code",
   "execution_count": 147,
   "metadata": {},
   "outputs": [
    {
     "output_type": "stream",
     "name": "stdout",
     "text": [
      "w = [[0.]\n [0.]]\nb = 0\n"
     ]
    }
   ],
   "source": [
    "dim = 2\n",
    "w, b = initialize_with_zeros(dim)\n",
    "print (\"w = \" + str(w))\n",
    "print (\"b = \" + str(b))"
   ]
  },
  {
   "cell_type": "markdown",
   "metadata": {},
   "source": [
    "**Expected Output**: \n",
    "\n",
    "\n",
    "<table style=\"width:15%\">\n",
    "    <tr>\n",
    "        <td>  ** w **  </td>\n",
    "        <td> [[ 0.]\n",
    " [ 0.]] </td>\n",
    "    </tr>\n",
    "    <tr>\n",
    "        <td>  ** b **  </td>\n",
    "        <td> 0 </td>\n",
    "    </tr>\n",
    "</table>\n",
    "\n",
    "For image inputs, w will be of shape (num_px $\\times$ num_px $\\times$ 3, 1)."
   ]
  },
  {
   "cell_type": "markdown",
   "metadata": {},
   "source": [
    "### 4.3 - Forward and Backward propagation\n",
    "\n",
    "Now that your parameters are initialized, you can do the \"forward\" and \"backward\" propagation steps for learning the parameters.\n",
    "\n",
    "**Exercise:** Implement a function `propagate()` that computes the cost function and its gradient.\n",
    "\n",
    "**Hints**:\n",
    "\n",
    "Forward Propagation:\n",
    "- You get X\n",
    "- You compute $A = \\sigma(w^T X + b) = (a^{(1)}, a^{(2)}, ..., a^{(m-1)}, a^{(m)})$\n",
    "- You calculate the cost function: $J = -\\frac{1}{m}\\sum_{i=1}^{m}y^{(i)}\\log(a^{(i)})+(1-y^{(i)})\\log(1-a^{(i)})$\n",
    "\n",
    "Here are the two formulas you will be using: \n",
    "\n",
    "$$ \\frac{\\partial J}{\\partial w} = \\frac{1}{m}X(A-Y)^T\\tag{7}$$\n",
    "$$ \\frac{\\partial J}{\\partial b} = \\frac{1}{m} \\sum_{i=1}^m (a^{(i)}-y^{(i)})\\tag{8}$$"
   ]
  },
  {
   "cell_type": "code",
   "execution_count": 148,
   "metadata": {
    "collapsed": true
   },
   "outputs": [],
   "source": [
    "# GRADED FUNCTION: propagate\n",
    "\n",
    "def propagate(w, b, X, Y):\n",
    "    \"\"\"\n",
    "    Implement the cost function and its gradient for the propagation explained above\n",
    "\n",
    "    Arguments:\n",
    "    w -- weights, a numpy array of size (num_px * num_px * 3, 1)\n",
    "    b -- bias, a scalar\n",
    "    X -- data of size (num_px * num_px * 3, number of examples)\n",
    "    Y -- true \"label\" vector (containing 0 if non-cat, 1 if cat) of size (1, number of examples)\n",
    "\n",
    "    Return:\n",
    "    cost -- negative log-likelihood cost for logistic regression\n",
    "    dw -- gradient of the loss with respect to w, thus same shape as w\n",
    "    db -- gradient of the loss with respect to b, thus same shape as b\n",
    "    \n",
    "    Tips:\n",
    "    - Write your code step by step for the propagation. np.log(), np.dot()\n",
    "    \"\"\"\n",
    "    \n",
    "    m = X.shape[1]\n",
    "    \n",
    "    # FORWARD PROPAGATION (FROM X TO COST)\n",
    "    ### START CODE HERE ### (≈ 2 lines of code)\n",
    "    A = sigmoid(np.dot(w.T,X)+b)                                    \n",
    "    cost = -np.sum((Y*np.log(A)+(1-Y)*np.log(1-A)))/m\n",
    "   \n",
    "    ### END CODE HERE ###\n",
    "    \n",
    "    # BACKWARD PROPAGATION (TO FIND GRAD)\n",
    "    ### START CODE HERE ### (≈ 2 lines of code)\n",
    "    dw = np.dot(X,(A-Y).T)/m\n",
    "    db = np.sum(A-Y)/m\n",
    "    ### END CODE HERE ###\n",
    "\n",
    "    assert(dw.shape == w.shape)\n",
    "    assert(db.dtype == float)\n",
    "    cost = np.squeeze(cost)\n",
    "    assert(cost.shape == ())\n",
    "    \n",
    "    grads = {\"dw\": dw,\n",
    "             \"db\": db}\n",
    "    \n",
    "    return grads, cost"
   ]
  },
  {
   "cell_type": "code",
   "execution_count": 149,
   "metadata": {},
   "outputs": [
    {
     "output_type": "stream",
     "name": "stdout",
     "text": [
      "dw = [[0.99845601]\n [2.39507239]]\ndb = 0.001455578136784208\ncost = 5.801545319394553\n"
     ]
    }
   ],
   "source": [
    "w, b, X, Y = np.array([[1.],[2.]]), 2., np.array([[1.,2.,-1.],[3.,4.,-3.2]]), np.array([[1,0,1]])\n",
    "grads, cost = propagate(w, b, X, Y)\n",
    "print (\"dw = \" + str(grads[\"dw\"]))\n",
    "print (\"db = \" + str(grads[\"db\"]))\n",
    "print (\"cost = \" + str(cost))"
   ]
  },
  {
   "cell_type": "markdown",
   "metadata": {},
   "source": [
    "**Expected Output**:\n",
    "\n",
    "<table style=\"width:50%\">\n",
    "    <tr>\n",
    "        <td>  ** dw **  </td>\n",
    "      <td> [[ 0.99845601]\n",
    "     [ 2.39507239]]</td>\n",
    "    </tr>\n",
    "    <tr>\n",
    "        <td>  ** db **  </td>\n",
    "        <td> 0.00145557813678 </td>\n",
    "    </tr>\n",
    "    <tr>\n",
    "        <td>  ** cost **  </td>\n",
    "        <td> 5.801545319394553 </td>\n",
    "    </tr>\n",
    "\n",
    "</table>"
   ]
  },
  {
   "cell_type": "markdown",
   "metadata": {},
   "source": [
    "### 4.4 - Optimization\n",
    "- You have initialized your parameters.\n",
    "- You are also able to compute a cost function and its gradient.\n",
    "- Now, you want to update the parameters using gradient descent.\n",
    "\n",
    "**Exercise:** Write down the optimization function. The goal is to learn $w$ and $b$ by minimizing the cost function $J$. For a parameter $\\theta$, the update rule is $ \\theta = \\theta - \\alpha \\text{ } d\\theta$, where $\\alpha$ is the learning rate."
   ]
  },
  {
   "cell_type": "code",
   "execution_count": 150,
   "metadata": {
    "collapsed": true
   },
   "outputs": [],
   "source": [
    "# GRADED FUNCTION: optimize\n",
    "\n",
    "def optimize(w, b, X, Y, num_iterations, learning_rate, print_cost = False):\n",
    "    \"\"\"\n",
    "    This function optimizes w and b by running a gradient descent algorithm\n",
    "    \n",
    "    Arguments:\n",
    "    w -- weights, a numpy array of size (num_px * num_px * 3, 1)\n",
    "    b -- bias, a scalar\n",
    "    X -- data of shape (num_px * num_px * 3, number of examples)\n",
    "    Y -- true \"label\" vector (containing 0 if non-cat, 1 if cat), of shape (1, number of examples)\n",
    "    num_iterations -- number of iterations of the optimization loop\n",
    "    learning_rate -- learning rate of the gradient descent update rule\n",
    "    print_cost -- True to print the loss every 100 steps\n",
    "    \n",
    "    Returns:\n",
    "    params -- dictionary containing the weights w and bias b\n",
    "    grads -- dictionary containing the gradients of the weights and bias with respect to the cost function\n",
    "    costs -- list of all the costs computed during the optimization, this will be used to plot the learning curve.\n",
    "    \n",
    "    Tips:\n",
    "    You basically need to write down two steps and iterate through them:\n",
    "        1) Calculate the cost and the gradient for the current parameters. Use propagate().\n",
    "        2) Update the parameters using gradient descent rule for w and b.\n",
    "    \"\"\"\n",
    "    \n",
    "    costs = []\n",
    "    \n",
    "    for i in range(num_iterations):\n",
    "        \n",
    "        \n",
    "        # Cost and gradient calculation (≈ 1-4 lines of code)\n",
    "        ### START CODE HERE ### \n",
    "        grads, cost = propagate(w, b, X, Y)\n",
    "        ### END CODE HERE ###\n",
    "        \n",
    "        # Retrieve derivatives from grads\n",
    "        dw = grads[\"dw\"]\n",
    "        db = grads[\"db\"]\n",
    "        \n",
    "        # update rule (≈ 2 lines of code)\n",
    "        ### START CODE HERE ###\n",
    "        w = w - learning_rate*dw\n",
    "        b = b - learning_rate*db\n",
    "        ### END CODE HERE ###\n",
    "        \n",
    "        # Record the costs\n",
    "        if i % 100 == 0:\n",
    "            costs.append(cost)\n",
    "        \n",
    "        # Print the cost every 100 training iterations\n",
    "        if print_cost and i % 100 == 0:\n",
    "            print (\"Cost after iteration %i: %f\" %(i, cost))\n",
    "    \n",
    "    params = {\"w\": w,\n",
    "              \"b\": b}\n",
    "    \n",
    "    grads = {\"dw\": dw,\n",
    "             \"db\": db}\n",
    "    \n",
    "    return params, grads, costs"
   ]
  },
  {
   "cell_type": "code",
   "execution_count": 151,
   "metadata": {},
   "outputs": [
    {
     "output_type": "stream",
     "name": "stdout",
     "text": [
      "w = [[0.19033591]\n [0.12259159]]\nb = 1.9253598300845747\ndw = [[0.67752042]\n [1.41625495]]\ndb = 0.21919450454067657\n"
     ]
    }
   ],
   "source": [
    "params, grads, costs = optimize(w, b, X, Y, num_iterations= 100, learning_rate = 0.009, print_cost = False)\n",
    "\n",
    "print (\"w = \" + str(params[\"w\"]))\n",
    "print (\"b = \" + str(params[\"b\"]))\n",
    "print (\"dw = \" + str(grads[\"dw\"]))\n",
    "print (\"db = \" + str(grads[\"db\"]))"
   ]
  },
  {
   "cell_type": "markdown",
   "metadata": {},
   "source": [
    "**Expected Output**: \n",
    "\n",
    "<table style=\"width:40%\">\n",
    "    <tr>\n",
    "       <td> **w** </td>\n",
    "       <td>[[ 0.19033591]\n",
    " [ 0.12259159]] </td>\n",
    "    </tr>\n",
    "    \n",
    "    <tr>\n",
    "       <td> **b** </td>\n",
    "       <td> 1.92535983008 </td>\n",
    "    </tr>\n",
    "    <tr>\n",
    "       <td> **dw** </td>\n",
    "       <td> [[ 0.67752042]\n",
    " [ 1.41625495]] </td>\n",
    "    </tr>\n",
    "    <tr>\n",
    "       <td> **db** </td>\n",
    "       <td> 0.219194504541 </td>\n",
    "    </tr>\n",
    "\n",
    "</table>"
   ]
  },
  {
   "cell_type": "markdown",
   "metadata": {},
   "source": [
    "**Exercise:** The previous function will output the learned w and b. We are able to use w and b to predict the labels for a dataset X. Implement the `predict()` function. There are two steps to computing predictions:\n",
    "\n",
    "1. Calculate $\\hat{Y} = A = \\sigma(w^T X + b)$\n",
    "\n",
    "2. Convert the entries of a into 0 (if activation <= 0.5) or 1 (if activation > 0.5), stores the predictions in a vector `Y_prediction`. If you wish, you can use an `if`/`else` statement in a `for` loop (though there is also a way to vectorize this). "
   ]
  },
  {
   "cell_type": "code",
   "execution_count": 152,
   "metadata": {
    "collapsed": true
   },
   "outputs": [],
   "source": [
    "# GRADED FUNCTION: predict\n",
    "\n",
    "def predict(w, b, X):\n",
    "    '''\n",
    "    Predict whether the label is 0 or 1 using learned logistic regression parameters (w, b)\n",
    "    \n",
    "    Arguments:\n",
    "    w -- weights, a numpy array of size (num_px * num_px * 3, 1)\n",
    "    b -- bias, a scalar\n",
    "    X -- data of size (num_px * num_px * 3, number of examples)\n",
    "    \n",
    "    Returns:\n",
    "    Y_prediction -- a numpy array (vector) containing all predictions (0/1) for the examples in X\n",
    "    '''\n",
    "    \n",
    "    m = X.shape[1]\n",
    "    Y_prediction = np.zeros((1,m))\n",
    "    w = w.reshape(X.shape[0], 1)\n",
    "    \n",
    "    # Compute vector \"A\" predicting the probabilities of a cat being present in the picture\n",
    "    ### START CODE HERE ### (≈ 1 line of code)\n",
    "    A = sigmoid(np.dot(w.T,X)+b)\n",
    "    \n",
    "    \n",
    "    ### END CODE HERE ###\n",
    "    \n",
    "    for i in range(A.shape[1]):\n",
    "        \n",
    "        # Convert probabilities A[0,i] to actual predictions p[0,i]\n",
    "        ### START CODE HERE ### (≈ 4 lines of code)\n",
    "        if A[0,i] > 0.5:\n",
    "            Y_prediction[0,i] = 1\n",
    "        else:\n",
    "            Y_prediction[0,i] = 0\n",
    "        ### END CODE HERE ###\n",
    "    \n",
    "    assert(Y_prediction.shape == (1, m))\n",
    "    \n",
    "    return Y_prediction"
   ]
  },
  {
   "cell_type": "code",
   "execution_count": 153,
   "metadata": {},
   "outputs": [
    {
     "output_type": "stream",
     "name": "stdout",
     "text": [
      "predictions = [[1. 1. 0.]]\n"
     ]
    }
   ],
   "source": [
    "w = np.array([[0.1124579],[0.23106775]])\n",
    "b = -0.3\n",
    "X = np.array([[1.,-1.1,-3.2],[1.2,2.,0.1]])\n",
    "print (\"predictions = \" + str(predict(w, b, X)))"
   ]
  },
  {
   "cell_type": "markdown",
   "metadata": {},
   "source": [
    "**Expected Output**: \n",
    "\n",
    "<table style=\"width:30%\">\n",
    "    <tr>\n",
    "         <td>\n",
    "             **predictions**\n",
    "         </td>\n",
    "          <td>\n",
    "            [[ 1.  1.  0.]]\n",
    "         </td>  \n",
    "   </tr>\n",
    "\n",
    "</table>\n"
   ]
  },
  {
   "cell_type": "markdown",
   "metadata": {},
   "source": [
    "<font color='blue'>\n",
    "**What to remember:**\n",
    "You've implemented several functions that:\n",
    "- Initialize (w,b)\n",
    "- Optimize the loss iteratively to learn parameters (w,b):\n",
    "    - computing the cost and its gradient \n",
    "    - updating the parameters using gradient descent\n",
    "- Use the learned (w,b) to predict the labels for a given set of examples"
   ]
  },
  {
   "cell_type": "markdown",
   "metadata": {},
   "source": [
    "## 5 - Merge all functions into a model ##\n",
    "\n",
    "You will now see how the overall model is structured by putting together all the building blocks (functions implemented in the previous parts) together, in the right order.\n",
    "\n",
    "**Exercise:** Implement the model function. Use the following notation:\n",
    "    - Y_prediction_test for your predictions on the test set\n",
    "    - Y_prediction_train for your predictions on the train set\n",
    "    - w, costs, grads for the outputs of optimize()"
   ]
  },
  {
   "cell_type": "code",
   "execution_count": 154,
   "metadata": {
    "collapsed": true
   },
   "outputs": [],
   "source": [
    "# GRADED FUNCTION: model\n",
    "\n",
    "def model(X_train, Y_train, X_test, Y_test, num_iterations = 2000, learning_rate = 0.5, print_cost = False):\n",
    "    \"\"\"\n",
    "    Builds the logistic regression model by calling the function you've implemented previously\n",
    "    \n",
    "    Arguments:\n",
    "    X_train -- training set represented by a numpy array of shape (num_px * num_px * 3, m_train)\n",
    "    Y_train -- training labels represented by a numpy array (vector) of shape (1, m_train)\n",
    "    X_test -- test set represented by a numpy array of shape (num_px * num_px * 3, m_test)\n",
    "    Y_test -- test labels represented by a numpy array (vector) of shape (1, m_test)\n",
    "    num_iterations -- hyperparameter representing the number of iterations to optimize the parameters\n",
    "    learning_rate -- hyperparameter representing the learning rate used in the update rule of optimize()\n",
    "    print_cost -- Set to true to print the cost every 100 iterations\n",
    "    \n",
    "    Returns:\n",
    "    d -- dictionary containing information about the model.\n",
    "    \"\"\"\n",
    "    \n",
    "    ### START CODE HERE ###\n",
    "    \n",
    "    # initialize parameters with zeros (≈ 1 line of code)\n",
    "    w, b = initialize_with_zeros(X_train.shape[0])\n",
    "   \n",
    "\n",
    "    # Gradient descent (≈ 1 line of code)\n",
    "    parameters, grads, costs = optimize(w, b, X_train, Y_train, num_iterations, learning_rate, print_cost = False)\n",
    "    \n",
    "    # Retrieve parameters w and b from dictionary \"parameters\"\n",
    "    w = parameters[\"w\"]\n",
    "    b = parameters[\"b\"]\n",
    "    \n",
    "    # Predict test/train set examples (≈ 2 lines of code)\n",
    "    Y_prediction_test = predict(w, b, X_test)\n",
    "    Y_prediction_train = predict(w, b, X_train)\n",
    "\n",
    "    ### END CODE HERE ###\n",
    "\n",
    "    # Print train/test Errors\n",
    "    print(\"train accuracy: {} %\".format(100 - np.mean(np.abs(Y_prediction_train - Y_train)) * 100))\n",
    "    print(\"test accuracy: {} %\".format(100 - np.mean(np.abs(Y_prediction_test - Y_test)) * 100))\n",
    "\n",
    "    \n",
    "    d = {\"costs\": costs,\n",
    "         \"Y_prediction_test\": Y_prediction_test, \n",
    "         \"Y_prediction_train\" : Y_prediction_train, \n",
    "         \"w\" : w, \n",
    "         \"b\" : b,\n",
    "         \"learning_rate\" : learning_rate,\n",
    "         \"num_iterations\": num_iterations}\n",
    "    \n",
    "    return d"
   ]
  },
  {
   "cell_type": "markdown",
   "metadata": {},
   "source": [
    "Run the following cell to train your model."
   ]
  },
  {
   "cell_type": "code",
   "execution_count": 155,
   "metadata": {},
   "outputs": [
    {
     "output_type": "stream",
     "name": "stdout",
     "text": [
      "train accuracy: 99.04306220095694 %\ntest accuracy: 70.0 %\n"
     ]
    }
   ],
   "source": [
    "d = model(train_set_x, train_set_y, test_set_x, test_set_y, num_iterations = 2000, learning_rate = 0.005, print_cost = True)"
   ]
  },
  {
   "cell_type": "markdown",
   "metadata": {},
   "source": [
    "**Expected Output**: \n",
    "\n",
    "<table style=\"width:40%\"> \n",
    "\n",
    "    <tr>\n",
    "        <td> **Cost after iteration 0 **  </td> \n",
    "        <td> 0.693147 </td>\n",
    "    </tr>\n",
    "      <tr>\n",
    "        <td> <center> $\\vdots$ </center> </td> \n",
    "        <td> <center> $\\vdots$ </center> </td> \n",
    "    </tr>  \n",
    "    <tr>\n",
    "        <td> **Train Accuracy**  </td> \n",
    "        <td> 99.04306220095694 % </td>\n",
    "    </tr>\n",
    "\n",
    "    <tr>\n",
    "        <td>**Test Accuracy** </td> \n",
    "        <td> 70.0 % </td>\n",
    "    </tr>\n",
    "</table> \n",
    "\n",
    "\n"
   ]
  },
  {
   "cell_type": "markdown",
   "metadata": {},
   "source": [
    "**Comment**: Training accuracy is close to 100%. This is a good sanity check: your model is working and has high enough capacity to fit the training data. Test accuracy is 68%. It is actually not bad for this simple model, given the small dataset we used and that logistic regression is a linear classifier. But no worries, you'll build an even better classifier next week!\n",
    "\n",
    "Also, you see that the model is clearly overfitting the training data. Later in this specialization you will learn how to reduce overfitting, for example by using regularization. Using the code below (and changing the `index` variable) you can look at predictions on pictures of the test set."
   ]
  },
  {
   "cell_type": "code",
   "execution_count": 156,
   "metadata": {},
   "outputs": [
    {
     "output_type": "stream",
     "name": "stdout",
     "text": [
      "y = 1, you predicted that it is a \"cat\" picture.\n"
     ]
    },
    {
     "output_type": "display_data",
     "data": {
      "text/plain": "<Figure size 432x288 with 1 Axes>",
      "image/svg+xml": "<?xml version=\"1.0\" encoding=\"utf-8\" standalone=\"no\"?>\r\n<!DOCTYPE svg PUBLIC \"-//W3C//DTD SVG 1.1//EN\"\r\n  \"http://www.w3.org/Graphics/SVG/1.1/DTD/svg11.dtd\">\r\n<!-- Created with matplotlib (https://matplotlib.org/) -->\r\n<svg height=\"250.618594pt\" version=\"1.1\" viewBox=\"0 0 251.565 250.618594\" width=\"251.565pt\" xmlns=\"http://www.w3.org/2000/svg\" xmlns:xlink=\"http://www.w3.org/1999/xlink\">\r\n <metadata>\r\n  <rdf:RDF xmlns:cc=\"http://creativecommons.org/ns#\" xmlns:dc=\"http://purl.org/dc/elements/1.1/\" xmlns:rdf=\"http://www.w3.org/1999/02/22-rdf-syntax-ns#\">\r\n   <cc:Work>\r\n    <dc:type rdf:resource=\"http://purl.org/dc/dcmitype/StillImage\"/>\r\n    <dc:date>2020-12-10T17:20:59.725309</dc:date>\r\n    <dc:format>image/svg+xml</dc:format>\r\n    <dc:creator>\r\n     <cc:Agent>\r\n      <dc:title>Matplotlib v3.3.2, https://matplotlib.org/</dc:title>\r\n     </cc:Agent>\r\n    </dc:creator>\r\n   </cc:Work>\r\n  </rdf:RDF>\r\n </metadata>\r\n <defs>\r\n  <style type=\"text/css\">*{stroke-linecap:butt;stroke-linejoin:round;}</style>\r\n </defs>\r\n <g id=\"figure_1\">\r\n  <g id=\"patch_1\">\r\n   <path d=\"M 0 250.618594 \r\nL 251.565 250.618594 \r\nL 251.565 0 \r\nL 0 0 \r\nz\r\n\" style=\"fill:none;\"/>\r\n  </g>\r\n  <g id=\"axes_1\">\r\n   <g id=\"patch_2\">\r\n    <path d=\"M 26.925 226.740469 \r\nL 244.365 226.740469 \r\nL 244.365 9.300469 \r\nL 26.925 9.300469 \r\nz\r\n\" style=\"fill:#ffffff;\"/>\r\n   </g>\r\n   <g clip-path=\"url(#pbfe97c27e0)\">\r\n    <image height=\"218\" id=\"imageefd17dd1e8\" transform=\"scale(1 -1)translate(0 -218)\" width=\"218\" x=\"26.925\" xlink:href=\"data:image/png;base64,\r\niVBORw0KGgoAAAANSUhEUgAAANoAAADaCAYAAADAHVzbAAAyr0lEQVR4nO19V88k2ZXcTVP28777az/dPcMx9CAIcSWAwC6wEqQn/VNBD9JKFLCrFZdLaunJ8dPTPe0/b8pXZpYeRqoTEfVl7kiayacTT7c687uVlVW3M865ceJE/+m//N0s/G+sriwHxNJSZz5uNlI6Fs1sPCsyG88CnwcnxnFMx5Ikmo/TxOZP4gafF9nfxUnC86c2fxrbsSgKfB7MkSR8HXxeVHoMMdMP+jWci+fp3+R5/pXmo2NyWlFMr5wvyzI6D+9B1f2IG835uNVq8TH4nvR6h0O7jkeffjwfj0cXdN7ezvX5eH1zg461l+y3mqT825wVNi5ye5EVOZ2XZfa6KPgaI7h5UWzz54Hvx2AwnI+Pjk/p2OGRvS7/xTkcjq8NvtAcjhqQtpr2+G82mbI14JEcC4WYBXg+w7FkgWkADalY1/iojpXzVFCZmB7lNla6gn+3SG9LL0v+rpwGV9G5oihKj33VOcooXPXn5PdFeoR0Ua8vEXqOQEqIdFF/HwXQsjjl+QqgrUVu15HETAFjoPj6+YnezuS3WXYfF+ghzsfHEvh+Gy1bI8WMv/fp1K6/CWsphBBasJ78ieZw1ABfaA5HDfCF5nDUgLSVGq9sSJoU4xDlsBHGQ3QevwGm1RcA586QZ2scVn6IuTpeR9DY5avNUYWq82bA/3NJI5fFDF/1favmmGncAVPmOaftC7mu/4OqeFPjtUbD4jJ876nMnUK8oiHqeDyyY3CNjQbnCPC69BopJtTbCK8x/ly4hxhzy++00cDcBaT35RbimmlpjAaxnT/RHI4a4AvN4agBaZKWKybwab2Q3qft9/K0dAyUMwrlKdoYVB1xLOfFONbcPB6MrhqGEDhdu5AqRjGF/F1Zal7//f8lNV+FmVBffDWj9+bzMIWv11j2WZSW4fUmiagu4HsvcnsvTIF/OafNMZ0w3xoMB3BNphJBWhoCp/cVUcV3zSfC/dGQAa4xFdrawNQ8UlGZI4VrVPWUp/cdjprhC83hqAG+0ByOGpA2QB6jcVhcMg4hhBmcW0SQQpXzCpBqJVF5ijaKK9K1dCFyEGO2Cj5OMU+FmF5USxTXVKaKAQsxWdnnrIhtZxoT40XDHLNc467y+A1fVSn0cZuk6j42QIKl2wB4r6bZhI6NIEbD+TVOSiBuD7oFQS8Wf3U2f/nvKoXf/qL8EO8BrJEZb5lgXiOV7bFWy2M0h6NW+EJzOGpAio/8hXRqVQEg8ZDi6n//8iAMdX571EYlafoFVClDWI5N5xVYVKlpb9juVzWFnjufXlPiQHMS3Z5ART3OreoVqnQop3OUppf7kefl9DYqkcfEQnmYOvLnTEExoUoOvg67p5MJU8fx2KhjgqFLUn4dVVsQ+l0wJceKC75ZeP2pVBjg98kVKAwMfxoyB1JJf6I5HDXAF5rDUQPSqh32qIL24alxsEdmIXSIMov67mVZwoosWKWwt4IeZhNTIGSSBcvFMwOB1DqCcVKRWVSBKmUJkc4tZBbxhWQMMeNZ4dGC8yvpJcUH0JokZQqIougFMW/JZynkQiZTu99DzDKGEKYZqEGALlYrh8qpo6Isu6oqlxQ+dxwrbYWsOtyPxQwt3lMVYDt1dDhqhS80h6MG+EJzOGpAypx7Qd48H8Yx809UUOBqXYzzQL2/YLBytfZEr6PK7xBTucUMvAohRtDXUzmG3n+RpICp+BXTzfJZMObJJeZBQxsqmFWRS4T3QKoD0NeRVC6q/iiPAaOSlD7eN8WiFyd8FrhX2ZjvKd7jwaDPk0K8GUOKXe+H7NeUXuPiNgaqNUChn2qMllz5N1/+A76G38fCPYX5ZHuMYsCrL93hcHyd8IXmcNSAtNLTA6AqBlaNAK3Ux3jFYxfpAM+v1BHGuRYzgqoD0saqRkD/vTxXTw98a37vFCzHo1k5ZYtgiyCO+b0TSPMi9UqEjhcR0tQKUfHVwocvX1b4OgZ4b1SXqBqm0TSxsHoV4vVnpKjhezoaWUpf0/szLAYmn5dyeri4zQA0W8+lXSlQboiSJYJ0v3qv0Hn4XlVFzrFSR0/vOxy1wheaw1EDfKE5HDUgJR4fqed6eVodffQp1BAOW1BYwzEDmf+EctV5lXV9AXKkKj/5HFv0yPxYcJg0VUZztTdfITFJDu+nkQbGlTOKSyuKWGe6nYLfRfkNwThHYwaMK7Pc4lkt2kSpUq73EV7j/Z5MxnTeaDiEYyM6xsp7jFlFBgVjlbVRjFbh14RbKws9BXBrq0LSFcF3oTkCzjuIfz9WxpTO7nA4vjb4QnM4agA9qxeKHBNUQuijGx7D6BkivosxbvdLy5soupouLqi44ZGsaWRKMQOVUfUHnqdbGrhFEOeSVo/h/UgVUa5qXyAhX7HjJ5EQtRVHGv/V3LAX3hY/J/o/6rYLqutzVajAb2QyMko4Gg3pvCGoQbIpb3c0S7xGqhT6RQVdVtV8mWJfqeOsfEdpoQplfo0yB66DKIgtOvQw8yeaw1EDfKE5HDUgjSizqIcrunmgHRcJe8sVDVVWIFWC2pxUDPx4xuzfZGwUZTJltQM+8htt7frRno9TEQRTdxYoGFU1RZXnCXVFQfVHlQ/Lgp/I1Re1UOBaodaYYoErzNGFxushcCFoljEFR0o4xsziuDzruGDPntj8WPipnh6kcqnwCKwKa8rGCs1042+wSjlU5bmTFPC9l76zw+H42uALzeGoAb7QHI4akCL/XHDbjspjtGhWEtvpLn3pC5mj4iKRP2cZxx1jSDGjIYyqLlBJrdbT3L6HP2e3uzQfY6oYu1aGEMLlxcV8PBWVBBUYQsq3rI3SPwfcxhgMuaiy3+/ZeblstcA9aIAqv93t0nmo8lDlPcdodg9ySeFjbKemOGUp/YXiYvhVFGp9XrFlEpeZ+mjRJo7VB7S4OrcQL6inyo2d0tRjNIejVvhCczhqQIr0JdGncZWbN75AzrkgCAaxrRYp0ongiSFzoAB2OuF08wgbj8N7pdI9Ei94pD6DY0hFC3/eu3ZjPl5ZXZuPlyQl3u4Y/epfXtKx8/MzuH57Ly1EREql6ezexel8/PjzT+fjJ48/o/P6A6OO+zfv0THc8rjsGdV96+3v0HnXrt+06xWFDapBxnDfwoLviF1/q9mmIymKh/F+CysjZYiKuCGEwOLcEMoFwouWJOX7Tdz5CL0yZdsITtOOuSgU8Seaw1EDfKE5HDXAF5rDUQPSyiJCIKALRXPouw7Fl4kWGwZMZyuPv9rjMBfZD0qrxiL1ybKrWxjlBXPp3qXFFhfnJ3Ts5bPH8/FgwPHb9vb2fLy3tzcfNyRlPYLYZXl1g46tbWxddYlh0Dvja4S46cnnHHt99OEH8/HhiV2/xpu4lXBwdEzHnjx9Ph9f9iyWOzw+pfP+4l/+dD5uNji+wq0LNF7Srx3jH2z1FEIIEaS9UzIrKlfva8yawW8pFTkcbmNEC+l4A/dBkIPU4qqiWyytnwpzodIjDofja4MvNIejBqRVmgzsXKlK8EDKECiqlMdnQpl/VeVfbeed50IdIS091RZL5DNh8x8dHtBpL198Ph8fH76mYwNQUxSipjh8/XI+/vMf/mDzv+L5P/nYUu7b2zt07F/85Mfz8dqabQtoE/VXcM1Pn/M1jmBbAwszURkTQghNoE1Pn7+kY09f2OsMtkIazd/SeTu7RpGvQ6r/y/ltS6LdAkooP6OEWiKJJwmkzpOKaoaowqMSlSeThe6r8BoLimMt2kRvUmlGX7JjpRSW7erLPUf9ieZw1ABfaA5HDfCF5nDUABKvJFrhCjxevRBRqoSeg4U2dKX2qxqjgR8+SGqyMccuE1SGS7q2AensS5ApnRxzDPX480fz8cUZp/exMrbV6tCx61vX5+P9vd35+JH8F/XxB5/Mx69fvqJjo8vz+fjhPYt/Lo97fF5icUdvmdPqL44srd7rm4Je/fsPT+0evHrF1zEAA52isO/vyZOndN4H7/9pPl5aWqJjW5sWf6KBjcbmncbVBjwLr8kov6q1rhrr2G9pKttBiCn1RCh/rixUp1BPABtnkiOY4u9Wj8Hv1p9oDkcN8IXmcNSAdJYj7WNkFY/dZIap16vT9CGIl6AU72EBYzbBlkui/oC/a3dYlT/oGS17+eKL+fj58yd03uWFnTcYckocDXl2N7fp2O0dS8dHhf3dz3/+Szrv/MzmH0lx6s/+29/Px3d2jYq1Gnw/uk1Lzd/Z5uqAy77RvtMLu/dn8LlCCOHgwCjzxSVTUxJCQDp7NOL7fQr0M5uqCdHVXTiTVNo7oc26dNqMSXEE5jxV7k0Lh8qV/Ugk45ICzhCqU/Nl92oh/AFlUiF2+GiU5E80h6MG+EJzOGoAPdPVwwJf6454DnSuAFFn1SNYba7zkm4kYyk2XFpesb+ZMu07O4NM48mRjQ+P6LwJNTMv91Nc7zLNaeVG2f7054/hT/j/qO+885b9Tcrzv375Yj7+5He/mY83Nzmj18uNfl27fYOO3dy2cz/54tl8fHB4yHMM8P5Idxa4rKKi0BYLUtWrEOkdZjxTEVk3sQuPKjLKCjOrRMULDeFxDvndYuegCFRL/xe+jtx5ZwJj/g2z74hev439ieZw1ABfaA5HDfCF5nDUgDSqMtaBeCsR55SClPdwQLz3Kb0vO+eTiXFf9CNUT8Zh38xuLi8v6Njhoakfjo8sXtEtAooTZnwdq11Tg6Q5/92zzyxdfvjUtgzeu7tL522tmXFPNuEWRmev7P0++MiqCPYlhf/yAtQfPU7bb+3atsP1TYtZXx+yyiVNwPNROm2i+iauKOrFGE2NdRqg+Eghpa9GQ+gbqSEZqkiovpJPo1hu0UgH0/bShgvPAvVRVOEFuXgE48Pya6Q8hmxtzTxGczjqhS80h6MGUE62SgWgolE+D3fOy/33lM71wP/wFFLzanON4uZM/CEOD4w6np+aR8ZQvD9Q/KkMYrVt1OmLR4/p2Fpk73dwYDRthwUkoblqlKrI+HNi0eyzI6O+d/ZW6Lzv3rVJm8zEQjq2e/Jgy+jc4RbP8Rm0S0pFkYEEia24peMnfE8qWm5A2h79SZR+4px6jLw+1TAUQdSxIvUviowZbV2gckNUSxV+H7SdRe+twmf4G21ZBvP7E83hqAG+0ByOGuALzeGoAWTOo/EVhnCqWsaWvJi2H0+4aHMMKeZsyvNjC6bh0OKCF8+5EBELNVUhjfP3Li2OmUgbIYzRWpKKLvom4+pknJrH9PDJpcV926tcILrWsPnXmhwb3QL51EnP5hhO+bOswi0uJBY9em0x7KODs/m4f8Hx4PWdTXuvC1bvH5/a32Eco2ZIWDR7esImQWjWg17zi/GgoUo+RRKvSGMc9A7l3x/GfVqUTH8HUsFcYjTKLVTFbxW5CjxPPSTxqvyJ5nDUAF9oDkcNSHNs2ySpXCyoU5tupDbY7fHinBUNSyvr8/HGxiod6wHduIQixShiGnJyYtTu4uKMjqEnBNJF9W+YQGHpzjLTvqQN3S8TpigHYJe93LHzum0uQIVMd2ivrNGx+/dBadEGGnnG92oWytPZuCexArn/Rs70MM/s2NYqK0/QTn0Ixa/6v+0lXNcffvMrOrazZVsQN+/ctzlEeY+/nXJNB0PV+6zO0OoRmH9BGYJW86CAScvV+yESVUdhf4dper127IqbS1iTu6+jw1EvfKE5HDUgzafYTZNFqH1QOExGrLTonZkKA7OCowk/gltdUy5gAWcIIbThGCowG9LBBOc8PWeqNIVrxMziQhYJaXDMNPjizOhW1OaM5PnA6OgK+JW0hB5OEqOjjZSbr6NqZB2yq58856LN+0vrdt4+i5b7r+0eb3Ttmm5KovgcCj9HQsXWV426Y4GoFmKiVdwL6EATQgj//Wf/eT7+8V/8q/n4wVvf5jm6RpE1U4cCign4lbQ6YiffQKrHx6r8bJBm4jGln/ha6SeKWWYgqF8ojs4we8vhCoZl/kRzOGqALzSHowb4QnM4akD66UfWiuj8hG20e6AKGA3FIxB23DGFvwzjEEI4AGOal2IkU8B2Anr/nZ9zB8qnz0wpMhQPQlQnROwEROc10cJc1CuzwtL2GFOGEML6hs359MCua2Wdtyo6a/Z3rSXePpih4Q/EjqvrZ3Tes3Pj+L2UKxjWN81K/P5NU2dsXvuCzvviE+sM+vKc4+oLiA9XliwO1qLK4djit8uBxCSPrfj11u3bdk0P36bzsHtnJu2pUMkxg7ZbUVKu0I9jNRrCc0V5UjqHbAPgdUjsRXb4WD0i20ZU2CzpfZzfn2gORw3wheZw1ID0/d/84/zFBaTsQwjhyTNoLi6dJa9tWQP0uzfMgzCbiCID/BRfPONU8RevrWhzAvRiNGKqgZbdy8usdkig8TgKgFupCIdh62Ia8yO+Fxl1vL69z383NOqxvm1p7/YSp/ALSIlPtAAQXrZXbVvg5hv36by//Z/vz8dnf2JKiBT5pz/54Xz8kx+9R+etQBea9ief0LGNHaNAHz8xSj8YspB6A2jwNBMxOVC2vWt2rzY2t+i8Vsuuo9djnxfcUoqbFj5MhNIjZcP5Qgih0ShvCI+CY/KyVHHzDI/RIXo9hetVsTf5m1aoV/yJ5nDUAF9oDkcN8IXmcNSAdAtirWfPn9HB0z74DIrZDRZtYuudLGee+hy6Xz6WGO0YChNbUCx5eMLpfYzLVlc5rR4Rlzb+3FBZEdD4rR2WN+3fezgf//mRdAp9YlscP/7um/a+mhIHVddYePysALMbiHFu3b3Fc/z8t/Pxx1+8oGMF/J/48vhsPt7ZYinYd969Nx8fHfN2SgRFpxvLFmOqWdG1LSseXeryVsUA5HArq/jefD9GsEUwEmnf8pL93TLI8haKhqHzq8qb0BhowU+xRIK1YMCD/vpSnYKxFwZsscSDIQETIvlNYKzoTzSHowb4QnM4akB6HYr3Do6YahycWAHgWU+8FoFuNBu2Xpvc+DG8Pjavi6eveH4syluGYsyOFFVicV2kpXczTAHbm3fEGPH6iqnJb99/SMd+/5EpT/7hNx/QsbVVozZb0Cw+z7locwLbH1Pp+Ik0pwUKlc1N3iL43rv2Xbz/mGk8ppUvwD79F7/+PZ23u2VzvjpkCv4MlC0fP3k5H48n0iYL7v/9W9w+6tqeNYvvrhiNj8W78bJnnp3a4qrTtWuke9NiVU68bt/h+QVvEfT7/HtEoCoFr0v9H4keVliOx0RTpQIAGG0m7cbQG9KfaA5HDfCF5nDUgLQDGaCtnT06OJz8bj7eXF+nY7e27e/2dzbm41ajvJtMu81UaRUUCHFkj/Fui6ljo2mvF43J7fHcgb/b3+Ts5LUNy1xOJTP6D7/+43x8eMkqiZs37J4sdW3+6YU0Dc/Rck8oxAwKB0EB07vgrqRIHY+P2OYtbRm17o3Ar2XM1/vLX1lH0Z//+s90DItCkTbdu86qDiySPTpjynbrjTfm49XV9flYxbaYlV5a4s6mqC5BH5NICnJ3duw3tiSKoNNTK4Q9OuRMcR+E50j7GgmHEwmoS7RjKV4jfhYVSJOlnHYsjT3r6HDUCl9oDkcN8IXmcNSANId4pStFm8uQvl1ucd6+2UAzHVB1HHLc0QP/wGt7HAs8BGVED1LWr6RAFNX8I6kiwN33nU2LFdOYYyjk6p9Ia6b7d62Q8kHg1Py37lt6ezY1ZYWmeVF5jhULIYSAjtsRmAk1L7haIkotlrm7y6numxAbjTL7LOdnZ3ReD3wv711bp2NDiB17A7uOe3sczxaJfdeTnO9jZ9nObcBv4vyCtzvQI7Td5JgbPUIxtlPPRFSXrKzw/dhYt+9a204dwe9nDPFaJp1eqfBTCoXZ1Mf+vSX5g6Ulix1jiQGxNtWfaA5HDfCF5nDUgBSrEjc2dujgj3704/n4/DULgnNoiD4c2PhDUByEEEICzcbv32GVwc1dE6/2+kZDioKp1wvopDKVNDIKms/PLRWdDfj/kMEYusl0WIj7b//KPAnPXknBJSgG0PIxF3vpHOit+mNOgHsswSRr60yHjqFLzOPHfB/bQON3t4GCL3Fa+saO0fH9NT4WQ2FsH6jjRBQNF5ndu0kkUh/gQ1Ogy9OcKffqst1jLMgNgYXnRYXt9wDCiU5bbNwhZFhdEaE5jM9AoD4Y8vdSULca7XhT1h2Vv/cuqFzaHSlKBsWUP9EcjhrgC83hqAG+0ByOGpCm0P2y0dqgg++++535+OUym6OcQMz2FApG+xmnWt984+58fO8GS7xQuX0K8dVwyJye4wmJ0cDv7+krU4xnct73vmXp8R885Fh0Y9nikE+POeWOXZy+/bb5GI7HzNUvoLphIEWyIUL1t02YNvmeYoJ7OOGY4f2PzE+xCdspA1Gxd2KLV7rSebQFafuNFYsnTqATaAghrILRUD/n/4sziM37EEO12yyzmkILrd6l9GNo2+dOGxADiv89buWMRiw164K3fypGTN2ufbYC4sEo4i0I9AjNpOIC41by25c4Eq9xC1pahRDCChQp+xPN4agBvtAcjhqQNmF3v5CDnYY9+vZv3aVj05HRtOP3jb6oD2AbqGkuqfnDY1NgfwyFjoeiGA8xpnKZbrXB17HdMap05zbT4PfevAPXztTus8dGSz59yqqUt/aNZqInyZPnrK5/9so+Sy6p7vHUXqOK5tr+GZ3XbEFn0Bb/H3hyYff44MQo2+MnT+i8cd9S/w9vM1XHjpcjtFaXkgj04Ej1v2JskwXp/UIUJMcH5hXTbDC12962e7oM9CoVBQn6eAwGTJGbcG5Tqo0b8H4d8DxZsPMGGjiViosMzTixq6fMgQWpalffPbEwxJ9oDkcN8IXmcNSANAarae1miLvvS2tMxaKGPZJPL0FsK/zzHJrAj8e8M//kpdG0S+h0sioWZxc9yG41ONt3c8OyT/f3rs/HKzLHEjR6//CxWLnFRjW0aBN3988vjC7/9sPHdN4xdG7JhEZhphStvVdWOFP3w7fvzsery0yHjvp279pA93OxH3/01BQl+1usPGmgmgXokAqHc1DmzBKeH6nTGXjM9C6529DFkSkydrc5G7cEHTQToJ/ddVbsxFAoPBpw1nHcgeLOhSbzBiy+bCjFnAClVbtw7CaDhcIJ36vZzObQLrOXl0Yr/YnmcNQAX2gORw3wheZw1IAUjVi08o7Uxwnz2+V1492ra+swBafmz/vGrQ9POf7pQYHkNhZtRsx1URVwbXuTju2tGkdeB29ItSb/8OPP5uNPX7Lf4cP7pvhQvp9CTPgcfCk/e8qGMOhFednXrqQW53Q7tj3x+w8/p/Pu37K09+42xysvIKU/g0rSB7ev0Xnn4KM57PM2xgRitAgUGYV00+yPLQ6LG6KEgBZPp0fQzfXpKzpvAHH7dpdV7c0pxDlwjTPx82wuWYyZS/5gOLR0f0M8JTH+xC6wDfH6xNea+qc7AtPH/NMki/fpQmdT+LvgcDi+cfhCczhqQIqPzFjEmVTwJmtyd9dS6T/64Q/m4z/94Xd03nMo2hyIl0YTujjubhpVGkiHyDZQiqYUXK4t2zG0FR/LezVA4vDg9nU6ttaBjqJtplENoM+PnpkaRDLiYXvN6JFaT3fbRtO2odjzT4+4mPZ3H5rK484OFzOiUOTgtV3HUpeVMnj9uXZIweuCcRZzWLB32wTYL1+yUqaAOVegI83znOnyFMTHWviZpnaNDfjNqTi4CaLrTMKaERRxNhriZwOqEfwNJ0IxUdys1BG3E7AgVbsINaDwWKxLQh7D2goOh+Mbhy80h6MG+EJzOGpAiil95bAx8NFYJN5L4O/39jvvzcen0mXy8QuLJyIp7GtDenV73eY7mLLcBnn2gpo8Mo48mUruFbC9BnIniQWOTy0mXO3wsfHIYpKnr2xbYEeMdbotjPM4ZsBuplurXTiP09n/9GdL9/dvc3HqCGLO83MrYIzFh7Id7LxhT0xx4P/VFAonN27s03mz1GKXmXS4vH3XqiCa4HH4/ID9PFc7Fi9PJSc+An/FTtdic7ymEEIIIFcTm86Qg3RrKIW2aNiEMZX6RsYxVktwrIsVGBgPaoEoxrqR1L/MAq4fh8PxjcMXmsNRA0i9n2h+EqBpTaSZXaCRN2/fofP2oKCzJ/4WEaow4L1V/d7AdHCD0+/noGpvAI1qxUwUsGVPX/wnBj2jYjNRYH/wuakfngB1/P637tJ5OagCZkJSLuAaI7hvd24wPfzFHz+dj3/7EVc6rELLqJ217pX/HkIIadvmH0+k0BG+wwg8MbbRJzKEMCrsHr/z1ht0bA28Y/7r3/3TfPzL33KLqH//7/7a/uYab6dEsC2QgHdJ3Gb6hr+CQstC4B6jWiUEVunPAtJgniHDbQcJa3DrCb/NmXhDTnP0FuHfDl6zP9EcjhrgC83hqAEpNflW7wgaa0blastkpY7f+47Rsk8++ZiOvT42KtaHws9Yui/ubK3Px02hjjP4r2IIBZazmXhA5JaZ6k2Z2hWQSTo4uaRjHzw33we0r+5IZnE6sfvTE3qBnhkoON6SQse9zXW7jlNWx1we23W1IFvbG7KQNRR2Q7oJf068jtVVy/BtwfuGEEIGKtpswNfxwYdGb//D3/z9fLx/nYs7H779znx87Rb/JpZBhN6AbixBurFgweVMRMWYER9P+R4M0V8EM+cJP1d0TkQCmekWZg+FYo4Te+9MlDhoeehPNIejBvhCczhqgC80h6MGpFU755RSFfMS3DmPgMOur3Oq+L1vW0ukbMxp2IMji3/QxGdtmQsFO037/2AsKoAl6AS51bJr6h+xQgWVLZMJK81PLsHXUYpCL8GO/PquFae2JFbs9wv4G47R1lfs3NcnFrO+ucbqkvs3d+165b/Az5/Z5zk6s3t1fZ1NiAqIw4biL9kFJcomxGUSuoQ+ehVeso323/ztr+bjGSg8/uovf0rn3X3jzfl4dXWdjnU6Fh/GcL36+8OtlkIqAHC3KZLkAio5EtgaakrXWorf5IajqiNKr1aahMAqFK0AwEJQf6I5HDXAF5rDUQNSfl7Lwxvoono2FLk9JiNQdTQbrFRY37S0742b3PFz8zPz8WjA371x7y5fBxQVvnzBVtx3bluj9+bAfDyGJ3RayMCqfCLejafga4L+kiGE0AK6sbthCpilDn/Og2ObX6kM3sezHmwzyHttApXMRR3z4sDo3MXQrv/FMfspzgqjkutLTJWQHjXBC6UpSu0M/Dh+98dP6NijR1ac+t3vvQfjH9B5G1sWQqhYPcBrfGdt2J7nWekxDAVU0TQCwTEWcGp6H1P4+pVpqDQ/Tagjbo8lsn4KELz7E83hqAG+0ByOGuALzeGoASnFZcJLqWu9yEuQMzdTi1dSadGDspSlZU5n7+1aOntrx/wJH775gM5rghL/4X1Wk690jCOfPbOY5/VLVoJPxhZ3KPtOQVaTSJp3ZcliHi72ZK6O1L0jaWQ0o0GfwddHvJXw3hsWb2arXASJ4cVFzz7npy85GI2j9fl4rSvpbPhs6C0/EjOkVy8t1v0zSK5CCGF712Kvv/7X/2Y+fuP+QzqvCb75hfral2wpaeUEpvRnGjNFGlTRX85HQ6jUSGRLpt1GeZZI+6pyF6Xn6W8Cza0cDsc3Dl9oDkcNoOelPp2xi6N2OkSb64SKRxM5z16rL0MHPCfOz0CBkJd7MjbbTE0jUCe0QQkeCQWcksiFH/ETUO/rNga1WYKUviq/h+DpodQR362ZVBRmAlVqC81pQTFjURgNHo54jlOglZOppMvh+8WumAcHTD9//8cPbL4L3j54+3vfn48fvvnWfNxdZqpbQFnFTBQqZdRR24bpd4FA78yFmlC44xkUuKq3CG53iDUkzVFOHOWaFrYI4L2+4hwOh+P/A77QHI4akNIjUrI+OfohyPM5jYx6oLBSxZkx7NqjwPPL+W3O//GLX87Hjx4/pvN++O69+fgWCHtDCGETrLixq8iG2MGdQsHl6QELZZ8cWtZNrb6pGwmw4mzKqo4eCImXpCgUBdh9UKUsiVIhhveKA1PCTht9U+xC1H58OIHvUIoUkbL1pjb+/Ycf0XmfQWeYrT3uVvPTv/zL+fjmTSvoVFvuCVC2CiuaEIAe5rlaucGXIZ+lIMGxduG012hHPh4KdVTFCh7DzjtE/kV8DN/ZTH48eI3+RHM4aoAvNIejBvhCczhqQIr8Fgv5QuAYTXk2qh0wha87+BiHFcJhcac+Te3v3n+fPQI/BVMfbI8UQgjff3hrPn77gVUHoF11CCFkUOw5FVvnKeS9p3KNYzBYOTm3VPfeJrdVmoxNMb4sWxAYsx1DkWlTrMkvIf2sYc3NbYtNz2EO9IwMgWNiLZbsQ5XCf/zZP87HZ5fiVQj//771ztt07MEDS+ljIWWi8WCoAlaFYKyllu5otz2TI/g5JUaDedBEappxXB0NIQ7TdkywnZJQvKbXATGm5jjguvyJ5nDUAF9oDkcNSLGAsxAvRFQ/pAtCWaM9KJ7UAj1KcUo6dWfHLLGv79pYV/8QCiSfv2YvkEnfUvNHR9bRRLt6klJE6zIjoDKSYu6P7L174B+ytcxegpipn0yVgts9yeCe9qUrKdJAtfq+e93EvMdA9S763DUUaXw24zv5HLwhD0+NRrZaTGH3rllK/81vvUPH1jeMwrbbJrheoH0YQkg4wYeAOsq9Rw9FVfpEIDTXLkUzsIaHr5Y7noYQxiA4VuqIIVBa2P1Z8IZE4b0WRxe4XeNwOL5x+EJzOGqALzSHowakaICiPDsGhX5DCjqxfRLS2yzn+ARjtlQkWJ0udL8EL8cXr9iAB+dfW+X0/lnfUuIfPTHp0PE5t4jahHZDQ/GrRzV/I+U4cgW8EOF2hIH462M8e95j/8oIumYuQ2uiocRyB6egyh/zses7FiNjR1E1vsGWV4MJxyT9oc3ZgO2PrU3uAfCt996dj+8/uE/H1tfX4b3t+1yUQYVSYMqd/071bxijiSkOfGdatJlAbJQnEK9xSEy+ixq44/U34BoT+X1EFAdr6h+uNzgcjm8cvtAcjhqQ5gU+T7XoEbxAUvUItMc1pThz9X1ANTk/njsdo45rq0ZfWrKVgP8baFFlF2jUBRQpPhU/jtEEVP5CYZeAHmq3UfRyXIGU+3mfVQY5NQ3nz4nqkpUlmwO9FUMIoYB2Sa9OmfpeA2XIPlQwfP6Km7Q3gd8OZPtgBF9Fq2XvtQp0MIQQHrxpdt67u6zexxACv06t/OBtHq0oBjUS/F5UVYQpd03h45y6bZRiUShcR54yHUc/G7WJn8F7o+eJhj9xXK4uwTn8ieZw1ABfaA5HDfCF5nDUgBQrdBe8ydEjXUx3kI4WFVWyyJFVRtOEVPcKtF9aW2Vl/KBn8YrGV5trdi6meQfSOmkECv2kyXNc27KYJ9YtCFDit0Gq9PSQq7SnkG5eFV9+dAbKIR3cbnK8OYZr7I3V/Ae2YSCOxFZMIXBl81RT7BjzwPe5JXHY9p7J19Snk7/rDMaa3p9dOf7yH6Cig9L76ouIQWAQRFcOQwghghR8Cv5TrSbfK4yrJxOpYIDXuEZyMU1idwE+hr93f6I5HDXAF5rDUQNSTI2mqXoyws58JLves6sL9lRdgqlRTdFi25yNzc35eHebu4a+RvV7xqoO7LyJqotClNpofJPJsS7Qw9ZAqCPQjWYTrc+ZhqQZpIPlc6ZAEVFRPxBfxyi5uiIihBAmGRZL2li9ITOg7m2hSkixloGqb+7u0Wkb0Gqr02EvTiwsZeooIUOFsQ4e49ClgjpGukWAryWtjkeAIqdyP9pYdcKzh2w6uXKsn7OR2uskZfocJU4dHY5a4QvN4agBaRNozcLmO0AzR2WZxsXsk42VDrVA2LoN9OX46IDOOz+34s520qVjKK5AmtqU7FCelSsVMvAQQf+QEEJ4fmIZz5SysExX8LOMp2JpDvcYadOF+Aw2IcHXlszoKQiVE6JU0rw8Ri8Xvt9doIG7e9bJZ3+fO7HGFEKIWoO8OsoVQZhZVP+QHI/BQb1e9AhVtU1RwSrxzKIq602+MqLmASH4BGmk2NXj5061cBUy2P5EczhqgC80h6MG+EJzOGpAimrsfKZFm1igpwnQq2O0RY89GysHD8E4cqdrbX80DYuqlJb42i+BWuMSfAvPLy/pvD7wbN3BRyOclQ4rIc4G9tkOLkzhrS2FurC1kEv/HmzpNAHP/qGo69s5qEuW+B6cQDumTgr9ElR0AUHPmahjlkFxc/vO3fn4xs1bfB60v1K1ejHDeBx/HxXbOloQCXNgQacWscYUf0rqH88LDO4iCgqVoIXN9tmaotKh4BFiu9lIFCRQAZCNpT0VVG34E83hqAG+0ByOGkC8QC278fmMj/sQQsBMZpZVKASwFZEs6ySOrjxvWZrKr4FwOJcCvSZQx801o5+9PhdO5pDCHwrN6eAcK9y58rRv4uFL8AnBJvIhcNuiltDss0vbnsDC0iiI3wdQjaZsYxxd2lZAaxW8Vrqs3MD5u12eY/+GpfF3r5uQGFUiIYTQgH0GbcNVKiouyr1iqgxEkC4qdUQOuCBMrgT8riJUsshvE1pj6efkAlcQY+tlwHXptg7a0PsTzeGoAb7QHI4a4AvN4agBKbdVkvQkpOMX0/ughs/KCwBZgyUSG+C+KGG6tse++cOeme68ev6Mjk2glSz6My54SELckY+5AgA99dtNTu/jjgTdA0nvH5xZHLbc4vdOcRK4B5m0j8JU90j4/hgKP0cTe++tFY7DElDA37rJ9/Hhw4fz8Q4Ue2qxK1ZxaGyE3zWOF30dMa0ulRQQD+H3pBI9knjJ74+8IRfCN9xauPqa9PoTidESVP1jel/MoXAbQ9R7YTr11roOR63wheZw1IC0qniPfUFUvY8KgaqujYZYFBNIIdotS5fP1piGbG1bS6eLM/Fr7ButRPbSkp1+tHJOpkJR4PrPL2X7AGgfKvsnGaez+0A/Z4XYpwOdG47tPLVZj2ALZSrzoyID1SVrm+t03vaG+WPeuXePjt0CNcjGhhXaNit9Qcop4Veljgr83mNQyQf5fczIW0RT85DC198m+ZXg3zDykgLUEEKYwWUhjdQtCNwKUU/Q8QQ65gaHw/GNwxeaw1ED0rxC1YGPeH10l1HOyjmETuAqR6s77CQZQgh71/fn47GIOp89fnTlsVirWOF1quJmoBCF2KLjK2yMudB5B+jFSMTC2CweVQaxFG0iNHnbAorSBBrcabMyZBNo9p4UdG5umhfL8gpYpAt1xFxdldKnyiuGks3yvYN2mroPJSL2rrKsw5eFdpmFm8cZTyliRVqpv2/8q4rvDH/fC6Lo2As/HY5a4QvN4agBvtAcjhqQZhWp+Rl4EKo6u0wh8FXTuiFIOxyIodDvMYQQVqCl03UpUhwOTNV+AcWeuaRrO+itWOFBGElwNBqAigSUG62U52/AR1sokYV714SizVgVE+Qqw+qVNsRlO9BKam1rm85b3zGTo3VI4YcQQrtjsW8zLVfok0Jd7mNO2zoV6fEKVQd+76NgcXVDWoNhPLtQ4FqRty/C1XGkXiNZk0uch0Ea7joUcq8wBlzQTmHtaHA4HN84fKE5HDUgxWLDEGm3TktPsi8i068q6oipY1UPoJCTbJzVqxBozuraBh27eefOfDwaGw3Js8d03nRiVEyFwylwNlVkTNATAi4/lY4xSYRehdKBEj4O+n3gFkkI3L1UfSk7y1aQev8NU3zcuXObztvAFP7yMh1jRQYUM4ZyVPl5FlXKihKKGUIIBShsMripmXTkTKvoLW3fqJ9IideI0EOitwvbB0A5YbcmTsobwqsoHz+3P9EcjhrgC83hqAG+0ByOGpBiTBLHwqUrOnlmUJiYox+5xFd5ga2f5BjMST59Fd1FVS6Eyn4yShkN6byTMzPZiZXTA9FuSREkdu8861sMWMh2B8YQk7z8GBeB0mmhu2Rx2I1r3Erp2r4Vce7fuGnn7e/Teejz3+1IUWiJ5GshDitRv4cgcQ3EWgsSJpRnaYwGv6sM8uhT7VnQAF97+V7IMCfS+A3z8XiNch1V1QG4exDh/eD3wmLPyZS/d/w8/kRzOGqALzSHowak45E93ppNUW408FHLj/Uc0t5YAaCtcbD75Uwe8WUloonwlaQkLR1CCM2WqdfXILV9HehVCCEcHB3Px69evKRjA1CXKFdCrxG08E4qcuJKP1G9n8CxRou3CPbBa/GtN9+kY3fuWkof/VU2Nni7A2n3giof7l3B8nc6bVYmiwjl6f0qeqiUDakq+m1OxTQR6WeaSZEsUUdV1GN7Lfj9VapX9PqxUy2GUPwbxmLgkXjRDLGaJDgcjm8cvtAcjhqQDrHrZMSizgZQySLnxzM20MYdcS3yK+jRrYJMA9FI3aWHsdqC4VVhM/drUvQ4BmVIKgV6XzwzC7uLiws6NoHMEdqw5aIyaELr0a2NdTq2u23CX7Q739zaovP2rhl13Bfqu7dnWUi8fu2Cwp1UysXTmDGMpNgV6eKCQDpHGgX0cKFAVOYERCXn5Qt+M1dnOP85IJVMkqtpZAjMmKs8cagQVq5xjFbzkunuDey1P9EcjhrgC83hqAG+0ByOGpBegt12nHDLoha60Ug6e0oFdcazpfFOZQqVuDrECdGsPJbT+C0uUQig+UwIIdwBT8NlaWe0uWkFkh9/+hkdOzk5gQu2T6cp5e1tm+MBqOtDCGFnx9Qra+vrV45D4K6nS13+LlYgtktA2a9xB6ptphPeksH4KotQxcDbETHc/wUvRDJisvk1RqNKAVH6kIU8quS1ayg+B+LyLYIFT0n4LcVQmRHF2lG0/HMWNL+NpxJGonfjcMjGUX1oteVPNIejBvhCczhqQNrr2eOtLaniaRu6YagVYkbtGG0oD+ECCvvySKjj7OpxLunmGFOvkpontQlMosLhJaCLDUn9L0Fz9DUpLL28NGpN3SlF/bG9Yyn8GzdY6NsG9QoqWZpagApdQxsyfwOKIJOKDix46zJV8yDtBuFzITSYrEs07Q3p7BkWySr3Qr8PoXZYbJyD2mah60wDqbo+E8q7cGJqfgqdd1Twjj/qRWGyjZEVT4U7TkBZNewLdYSus/5EczhqgC80h6MG+EJzOGpAOgLZyGTMnvcZ8Oe0KS11SiQqC0ptMPxRhU0BaWU0VImEq3Mql4vrkFtjHKniekzHq2xpHRTw3aUVOobzoxpefdY7Xbt3bfHDJ7/9Cq/2JMH55f9AkEVh3DuTGogCWylJR9GMinwrCifh7mnqnNL7cB2LNaXlPR2wKHcMhkpqahRXtEsi+x1574ikVbClMSvfXqqKAXNs1zXhzzIambRvMGAJ1rDv6X2Ho1b4QnM4asD/AthWj0SjEWotAAAAAElFTkSuQmCC\" y=\"-8.740469\"/>\r\n   </g>\r\n   <g id=\"matplotlib.axis_1\">\r\n    <g id=\"xtick_1\">\r\n     <g id=\"line2d_1\">\r\n      <defs>\r\n       <path d=\"M 0 0 \r\nL 0 3.5 \r\n\" id=\"m2a4340f65f\" style=\"stroke:#000000;stroke-width:0.8;\"/>\r\n      </defs>\r\n      <g>\r\n       <use style=\"stroke:#000000;stroke-width:0.8;\" x=\"28.62375\" xlink:href=\"#m2a4340f65f\" y=\"226.740469\"/>\r\n      </g>\r\n     </g>\r\n     <g id=\"text_1\">\r\n      <!-- 0 -->\r\n      <g transform=\"translate(25.4425 241.338906)scale(0.1 -0.1)\">\r\n       <defs>\r\n        <path d=\"M 31.78125 66.40625 \r\nQ 24.171875 66.40625 20.328125 58.90625 \r\nQ 16.5 51.421875 16.5 36.375 \r\nQ 16.5 21.390625 20.328125 13.890625 \r\nQ 24.171875 6.390625 31.78125 6.390625 \r\nQ 39.453125 6.390625 43.28125 13.890625 \r\nQ 47.125 21.390625 47.125 36.375 \r\nQ 47.125 51.421875 43.28125 58.90625 \r\nQ 39.453125 66.40625 31.78125 66.40625 \r\nz\r\nM 31.78125 74.21875 \r\nQ 44.046875 74.21875 50.515625 64.515625 \r\nQ 56.984375 54.828125 56.984375 36.375 \r\nQ 56.984375 17.96875 50.515625 8.265625 \r\nQ 44.046875 -1.421875 31.78125 -1.421875 \r\nQ 19.53125 -1.421875 13.0625 8.265625 \r\nQ 6.59375 17.96875 6.59375 36.375 \r\nQ 6.59375 54.828125 13.0625 64.515625 \r\nQ 19.53125 74.21875 31.78125 74.21875 \r\nz\r\n\" id=\"DejaVuSans-48\"/>\r\n       </defs>\r\n       <use xlink:href=\"#DejaVuSans-48\"/>\r\n      </g>\r\n     </g>\r\n    </g>\r\n    <g id=\"xtick_2\">\r\n     <g id=\"line2d_2\">\r\n      <g>\r\n       <use style=\"stroke:#000000;stroke-width:0.8;\" x=\"62.59875\" xlink:href=\"#m2a4340f65f\" y=\"226.740469\"/>\r\n      </g>\r\n     </g>\r\n     <g id=\"text_2\">\r\n      <!-- 10 -->\r\n      <g transform=\"translate(56.23625 241.338906)scale(0.1 -0.1)\">\r\n       <defs>\r\n        <path d=\"M 12.40625 8.296875 \r\nL 28.515625 8.296875 \r\nL 28.515625 63.921875 \r\nL 10.984375 60.40625 \r\nL 10.984375 69.390625 \r\nL 28.421875 72.90625 \r\nL 38.28125 72.90625 \r\nL 38.28125 8.296875 \r\nL 54.390625 8.296875 \r\nL 54.390625 0 \r\nL 12.40625 0 \r\nz\r\n\" id=\"DejaVuSans-49\"/>\r\n       </defs>\r\n       <use xlink:href=\"#DejaVuSans-49\"/>\r\n       <use x=\"63.623047\" xlink:href=\"#DejaVuSans-48\"/>\r\n      </g>\r\n     </g>\r\n    </g>\r\n    <g id=\"xtick_3\">\r\n     <g id=\"line2d_3\">\r\n      <g>\r\n       <use style=\"stroke:#000000;stroke-width:0.8;\" x=\"96.57375\" xlink:href=\"#m2a4340f65f\" y=\"226.740469\"/>\r\n      </g>\r\n     </g>\r\n     <g id=\"text_3\">\r\n      <!-- 20 -->\r\n      <g transform=\"translate(90.21125 241.338906)scale(0.1 -0.1)\">\r\n       <defs>\r\n        <path d=\"M 19.1875 8.296875 \r\nL 53.609375 8.296875 \r\nL 53.609375 0 \r\nL 7.328125 0 \r\nL 7.328125 8.296875 \r\nQ 12.9375 14.109375 22.625 23.890625 \r\nQ 32.328125 33.6875 34.8125 36.53125 \r\nQ 39.546875 41.84375 41.421875 45.53125 \r\nQ 43.3125 49.21875 43.3125 52.78125 \r\nQ 43.3125 58.59375 39.234375 62.25 \r\nQ 35.15625 65.921875 28.609375 65.921875 \r\nQ 23.96875 65.921875 18.8125 64.3125 \r\nQ 13.671875 62.703125 7.8125 59.421875 \r\nL 7.8125 69.390625 \r\nQ 13.765625 71.78125 18.9375 73 \r\nQ 24.125 74.21875 28.421875 74.21875 \r\nQ 39.75 74.21875 46.484375 68.546875 \r\nQ 53.21875 62.890625 53.21875 53.421875 \r\nQ 53.21875 48.921875 51.53125 44.890625 \r\nQ 49.859375 40.875 45.40625 35.40625 \r\nQ 44.1875 33.984375 37.640625 27.21875 \r\nQ 31.109375 20.453125 19.1875 8.296875 \r\nz\r\n\" id=\"DejaVuSans-50\"/>\r\n       </defs>\r\n       <use xlink:href=\"#DejaVuSans-50\"/>\r\n       <use x=\"63.623047\" xlink:href=\"#DejaVuSans-48\"/>\r\n      </g>\r\n     </g>\r\n    </g>\r\n    <g id=\"xtick_4\">\r\n     <g id=\"line2d_4\">\r\n      <g>\r\n       <use style=\"stroke:#000000;stroke-width:0.8;\" x=\"130.54875\" xlink:href=\"#m2a4340f65f\" y=\"226.740469\"/>\r\n      </g>\r\n     </g>\r\n     <g id=\"text_4\">\r\n      <!-- 30 -->\r\n      <g transform=\"translate(124.18625 241.338906)scale(0.1 -0.1)\">\r\n       <defs>\r\n        <path d=\"M 40.578125 39.3125 \r\nQ 47.65625 37.796875 51.625 33 \r\nQ 55.609375 28.21875 55.609375 21.1875 \r\nQ 55.609375 10.40625 48.1875 4.484375 \r\nQ 40.765625 -1.421875 27.09375 -1.421875 \r\nQ 22.515625 -1.421875 17.65625 -0.515625 \r\nQ 12.796875 0.390625 7.625 2.203125 \r\nL 7.625 11.71875 \r\nQ 11.71875 9.328125 16.59375 8.109375 \r\nQ 21.484375 6.890625 26.8125 6.890625 \r\nQ 36.078125 6.890625 40.9375 10.546875 \r\nQ 45.796875 14.203125 45.796875 21.1875 \r\nQ 45.796875 27.640625 41.28125 31.265625 \r\nQ 36.765625 34.90625 28.71875 34.90625 \r\nL 20.21875 34.90625 \r\nL 20.21875 43.015625 \r\nL 29.109375 43.015625 \r\nQ 36.375 43.015625 40.234375 45.921875 \r\nQ 44.09375 48.828125 44.09375 54.296875 \r\nQ 44.09375 59.90625 40.109375 62.90625 \r\nQ 36.140625 65.921875 28.71875 65.921875 \r\nQ 24.65625 65.921875 20.015625 65.03125 \r\nQ 15.375 64.15625 9.8125 62.3125 \r\nL 9.8125 71.09375 \r\nQ 15.4375 72.65625 20.34375 73.4375 \r\nQ 25.25 74.21875 29.59375 74.21875 \r\nQ 40.828125 74.21875 47.359375 69.109375 \r\nQ 53.90625 64.015625 53.90625 55.328125 \r\nQ 53.90625 49.265625 50.4375 45.09375 \r\nQ 46.96875 40.921875 40.578125 39.3125 \r\nz\r\n\" id=\"DejaVuSans-51\"/>\r\n       </defs>\r\n       <use xlink:href=\"#DejaVuSans-51\"/>\r\n       <use x=\"63.623047\" xlink:href=\"#DejaVuSans-48\"/>\r\n      </g>\r\n     </g>\r\n    </g>\r\n    <g id=\"xtick_5\">\r\n     <g id=\"line2d_5\">\r\n      <g>\r\n       <use style=\"stroke:#000000;stroke-width:0.8;\" x=\"164.52375\" xlink:href=\"#m2a4340f65f\" y=\"226.740469\"/>\r\n      </g>\r\n     </g>\r\n     <g id=\"text_5\">\r\n      <!-- 40 -->\r\n      <g transform=\"translate(158.16125 241.338906)scale(0.1 -0.1)\">\r\n       <defs>\r\n        <path d=\"M 37.796875 64.3125 \r\nL 12.890625 25.390625 \r\nL 37.796875 25.390625 \r\nz\r\nM 35.203125 72.90625 \r\nL 47.609375 72.90625 \r\nL 47.609375 25.390625 \r\nL 58.015625 25.390625 \r\nL 58.015625 17.1875 \r\nL 47.609375 17.1875 \r\nL 47.609375 0 \r\nL 37.796875 0 \r\nL 37.796875 17.1875 \r\nL 4.890625 17.1875 \r\nL 4.890625 26.703125 \r\nz\r\n\" id=\"DejaVuSans-52\"/>\r\n       </defs>\r\n       <use xlink:href=\"#DejaVuSans-52\"/>\r\n       <use x=\"63.623047\" xlink:href=\"#DejaVuSans-48\"/>\r\n      </g>\r\n     </g>\r\n    </g>\r\n    <g id=\"xtick_6\">\r\n     <g id=\"line2d_6\">\r\n      <g>\r\n       <use style=\"stroke:#000000;stroke-width:0.8;\" x=\"198.49875\" xlink:href=\"#m2a4340f65f\" y=\"226.740469\"/>\r\n      </g>\r\n     </g>\r\n     <g id=\"text_6\">\r\n      <!-- 50 -->\r\n      <g transform=\"translate(192.13625 241.338906)scale(0.1 -0.1)\">\r\n       <defs>\r\n        <path d=\"M 10.796875 72.90625 \r\nL 49.515625 72.90625 \r\nL 49.515625 64.59375 \r\nL 19.828125 64.59375 \r\nL 19.828125 46.734375 \r\nQ 21.96875 47.46875 24.109375 47.828125 \r\nQ 26.265625 48.1875 28.421875 48.1875 \r\nQ 40.625 48.1875 47.75 41.5 \r\nQ 54.890625 34.8125 54.890625 23.390625 \r\nQ 54.890625 11.625 47.5625 5.09375 \r\nQ 40.234375 -1.421875 26.90625 -1.421875 \r\nQ 22.3125 -1.421875 17.546875 -0.640625 \r\nQ 12.796875 0.140625 7.71875 1.703125 \r\nL 7.71875 11.625 \r\nQ 12.109375 9.234375 16.796875 8.0625 \r\nQ 21.484375 6.890625 26.703125 6.890625 \r\nQ 35.15625 6.890625 40.078125 11.328125 \r\nQ 45.015625 15.765625 45.015625 23.390625 \r\nQ 45.015625 31 40.078125 35.4375 \r\nQ 35.15625 39.890625 26.703125 39.890625 \r\nQ 22.75 39.890625 18.8125 39.015625 \r\nQ 14.890625 38.140625 10.796875 36.28125 \r\nz\r\n\" id=\"DejaVuSans-53\"/>\r\n       </defs>\r\n       <use xlink:href=\"#DejaVuSans-53\"/>\r\n       <use x=\"63.623047\" xlink:href=\"#DejaVuSans-48\"/>\r\n      </g>\r\n     </g>\r\n    </g>\r\n    <g id=\"xtick_7\">\r\n     <g id=\"line2d_7\">\r\n      <g>\r\n       <use style=\"stroke:#000000;stroke-width:0.8;\" x=\"232.47375\" xlink:href=\"#m2a4340f65f\" y=\"226.740469\"/>\r\n      </g>\r\n     </g>\r\n     <g id=\"text_7\">\r\n      <!-- 60 -->\r\n      <g transform=\"translate(226.11125 241.338906)scale(0.1 -0.1)\">\r\n       <defs>\r\n        <path d=\"M 33.015625 40.375 \r\nQ 26.375 40.375 22.484375 35.828125 \r\nQ 18.609375 31.296875 18.609375 23.390625 \r\nQ 18.609375 15.53125 22.484375 10.953125 \r\nQ 26.375 6.390625 33.015625 6.390625 \r\nQ 39.65625 6.390625 43.53125 10.953125 \r\nQ 47.40625 15.53125 47.40625 23.390625 \r\nQ 47.40625 31.296875 43.53125 35.828125 \r\nQ 39.65625 40.375 33.015625 40.375 \r\nz\r\nM 52.59375 71.296875 \r\nL 52.59375 62.3125 \r\nQ 48.875 64.0625 45.09375 64.984375 \r\nQ 41.3125 65.921875 37.59375 65.921875 \r\nQ 27.828125 65.921875 22.671875 59.328125 \r\nQ 17.53125 52.734375 16.796875 39.40625 \r\nQ 19.671875 43.65625 24.015625 45.921875 \r\nQ 28.375 48.1875 33.59375 48.1875 \r\nQ 44.578125 48.1875 50.953125 41.515625 \r\nQ 57.328125 34.859375 57.328125 23.390625 \r\nQ 57.328125 12.15625 50.6875 5.359375 \r\nQ 44.046875 -1.421875 33.015625 -1.421875 \r\nQ 20.359375 -1.421875 13.671875 8.265625 \r\nQ 6.984375 17.96875 6.984375 36.375 \r\nQ 6.984375 53.65625 15.1875 63.9375 \r\nQ 23.390625 74.21875 37.203125 74.21875 \r\nQ 40.921875 74.21875 44.703125 73.484375 \r\nQ 48.484375 72.75 52.59375 71.296875 \r\nz\r\n\" id=\"DejaVuSans-54\"/>\r\n       </defs>\r\n       <use xlink:href=\"#DejaVuSans-54\"/>\r\n       <use x=\"63.623047\" xlink:href=\"#DejaVuSans-48\"/>\r\n      </g>\r\n     </g>\r\n    </g>\r\n   </g>\r\n   <g id=\"matplotlib.axis_2\">\r\n    <g id=\"ytick_1\">\r\n     <g id=\"line2d_8\">\r\n      <defs>\r\n       <path d=\"M 0 0 \r\nL -3.5 0 \r\n\" id=\"m6184633fd1\" style=\"stroke:#000000;stroke-width:0.8;\"/>\r\n      </defs>\r\n      <g>\r\n       <use style=\"stroke:#000000;stroke-width:0.8;\" x=\"26.925\" xlink:href=\"#m6184633fd1\" y=\"10.999219\"/>\r\n      </g>\r\n     </g>\r\n     <g id=\"text_8\">\r\n      <!-- 0 -->\r\n      <g transform=\"translate(13.5625 14.798437)scale(0.1 -0.1)\">\r\n       <use xlink:href=\"#DejaVuSans-48\"/>\r\n      </g>\r\n     </g>\r\n    </g>\r\n    <g id=\"ytick_2\">\r\n     <g id=\"line2d_9\">\r\n      <g>\r\n       <use style=\"stroke:#000000;stroke-width:0.8;\" x=\"26.925\" xlink:href=\"#m6184633fd1\" y=\"44.974219\"/>\r\n      </g>\r\n     </g>\r\n     <g id=\"text_9\">\r\n      <!-- 10 -->\r\n      <g transform=\"translate(7.2 48.773437)scale(0.1 -0.1)\">\r\n       <use xlink:href=\"#DejaVuSans-49\"/>\r\n       <use x=\"63.623047\" xlink:href=\"#DejaVuSans-48\"/>\r\n      </g>\r\n     </g>\r\n    </g>\r\n    <g id=\"ytick_3\">\r\n     <g id=\"line2d_10\">\r\n      <g>\r\n       <use style=\"stroke:#000000;stroke-width:0.8;\" x=\"26.925\" xlink:href=\"#m6184633fd1\" y=\"78.949219\"/>\r\n      </g>\r\n     </g>\r\n     <g id=\"text_10\">\r\n      <!-- 20 -->\r\n      <g transform=\"translate(7.2 82.748437)scale(0.1 -0.1)\">\r\n       <use xlink:href=\"#DejaVuSans-50\"/>\r\n       <use x=\"63.623047\" xlink:href=\"#DejaVuSans-48\"/>\r\n      </g>\r\n     </g>\r\n    </g>\r\n    <g id=\"ytick_4\">\r\n     <g id=\"line2d_11\">\r\n      <g>\r\n       <use style=\"stroke:#000000;stroke-width:0.8;\" x=\"26.925\" xlink:href=\"#m6184633fd1\" y=\"112.924219\"/>\r\n      </g>\r\n     </g>\r\n     <g id=\"text_11\">\r\n      <!-- 30 -->\r\n      <g transform=\"translate(7.2 116.723437)scale(0.1 -0.1)\">\r\n       <use xlink:href=\"#DejaVuSans-51\"/>\r\n       <use x=\"63.623047\" xlink:href=\"#DejaVuSans-48\"/>\r\n      </g>\r\n     </g>\r\n    </g>\r\n    <g id=\"ytick_5\">\r\n     <g id=\"line2d_12\">\r\n      <g>\r\n       <use style=\"stroke:#000000;stroke-width:0.8;\" x=\"26.925\" xlink:href=\"#m6184633fd1\" y=\"146.899219\"/>\r\n      </g>\r\n     </g>\r\n     <g id=\"text_12\">\r\n      <!-- 40 -->\r\n      <g transform=\"translate(7.2 150.698437)scale(0.1 -0.1)\">\r\n       <use xlink:href=\"#DejaVuSans-52\"/>\r\n       <use x=\"63.623047\" xlink:href=\"#DejaVuSans-48\"/>\r\n      </g>\r\n     </g>\r\n    </g>\r\n    <g id=\"ytick_6\">\r\n     <g id=\"line2d_13\">\r\n      <g>\r\n       <use style=\"stroke:#000000;stroke-width:0.8;\" x=\"26.925\" xlink:href=\"#m6184633fd1\" y=\"180.874219\"/>\r\n      </g>\r\n     </g>\r\n     <g id=\"text_13\">\r\n      <!-- 50 -->\r\n      <g transform=\"translate(7.2 184.673437)scale(0.1 -0.1)\">\r\n       <use xlink:href=\"#DejaVuSans-53\"/>\r\n       <use x=\"63.623047\" xlink:href=\"#DejaVuSans-48\"/>\r\n      </g>\r\n     </g>\r\n    </g>\r\n    <g id=\"ytick_7\">\r\n     <g id=\"line2d_14\">\r\n      <g>\r\n       <use style=\"stroke:#000000;stroke-width:0.8;\" x=\"26.925\" xlink:href=\"#m6184633fd1\" y=\"214.849219\"/>\r\n      </g>\r\n     </g>\r\n     <g id=\"text_14\">\r\n      <!-- 60 -->\r\n      <g transform=\"translate(7.2 218.648437)scale(0.1 -0.1)\">\r\n       <use xlink:href=\"#DejaVuSans-54\"/>\r\n       <use x=\"63.623047\" xlink:href=\"#DejaVuSans-48\"/>\r\n      </g>\r\n     </g>\r\n    </g>\r\n   </g>\r\n   <g id=\"patch_3\">\r\n    <path d=\"M 26.925 226.740469 \r\nL 26.925 9.300469 \r\n\" style=\"fill:none;stroke:#000000;stroke-linecap:square;stroke-linejoin:miter;stroke-width:0.8;\"/>\r\n   </g>\r\n   <g id=\"patch_4\">\r\n    <path d=\"M 244.365 226.740469 \r\nL 244.365 9.300469 \r\n\" style=\"fill:none;stroke:#000000;stroke-linecap:square;stroke-linejoin:miter;stroke-width:0.8;\"/>\r\n   </g>\r\n   <g id=\"patch_5\">\r\n    <path d=\"M 26.925 226.740469 \r\nL 244.365 226.740469 \r\n\" style=\"fill:none;stroke:#000000;stroke-linecap:square;stroke-linejoin:miter;stroke-width:0.8;\"/>\r\n   </g>\r\n   <g id=\"patch_6\">\r\n    <path d=\"M 26.925 9.300469 \r\nL 244.365 9.300469 \r\n\" style=\"fill:none;stroke:#000000;stroke-linecap:square;stroke-linejoin:miter;stroke-width:0.8;\"/>\r\n   </g>\r\n  </g>\r\n </g>\r\n <defs>\r\n  <clipPath id=\"pbfe97c27e0\">\r\n   <rect height=\"217.44\" width=\"217.44\" x=\"26.925\" y=\"9.300469\"/>\r\n  </clipPath>\r\n </defs>\r\n</svg>\r\n",
      "image/png": "[encoded data removed]"
     },
     "metadata": {
      "needs_background": "light"
     }
    }
   ],
   "source": [
    "# Example of a picture that was wrongly classified.\n",
    "index = 1\n",
    "plt.imshow(test_set_x[:,index].reshape((num_px, num_px, 3)))\n",
    "print (\"y = \" + str(test_set_y[0,index]) + \", you predicted that it is a \\\"\" + classes[int(d[\"Y_prediction_test\"][0,index])].decode(\"utf-8\") +  \"\\\" picture.\")"
   ]
  },
  {
   "cell_type": "markdown",
   "metadata": {},
   "source": [
    "Let's also plot the cost function and the gradients."
   ]
  },
  {
   "cell_type": "code",
   "execution_count": 157,
   "metadata": {},
   "outputs": [
    {
     "output_type": "display_data",
     "data": {
      "text/plain": "<Figure size 432x288 with 1 Axes>",
      "image/svg+xml": "<?xml version=\"1.0\" encoding=\"utf-8\" standalone=\"no\"?>\r\n<!DOCTYPE svg PUBLIC \"-//W3C//DTD SVG 1.1//EN\"\r\n  \"http://www.w3.org/Graphics/SVG/1.1/DTD/svg11.dtd\">\r\n<!-- Created with matplotlib (https://matplotlib.org/) -->\r\n<svg height=\"277.314375pt\" version=\"1.1\" viewBox=\"0 0 385.78125 277.314375\" width=\"385.78125pt\" xmlns=\"http://www.w3.org/2000/svg\" xmlns:xlink=\"http://www.w3.org/1999/xlink\">\r\n <metadata>\r\n  <rdf:RDF xmlns:cc=\"http://creativecommons.org/ns#\" xmlns:dc=\"http://purl.org/dc/elements/1.1/\" xmlns:rdf=\"http://www.w3.org/1999/02/22-rdf-syntax-ns#\">\r\n   <cc:Work>\r\n    <dc:type rdf:resource=\"http://purl.org/dc/dcmitype/StillImage\"/>\r\n    <dc:date>2020-12-10T17:21:00.187796</dc:date>\r\n    <dc:format>image/svg+xml</dc:format>\r\n    <dc:creator>\r\n     <cc:Agent>\r\n      <dc:title>Matplotlib v3.3.2, https://matplotlib.org/</dc:title>\r\n     </cc:Agent>\r\n    </dc:creator>\r\n   </cc:Work>\r\n  </rdf:RDF>\r\n </metadata>\r\n <defs>\r\n  <style type=\"text/css\">*{stroke-linecap:butt;stroke-linejoin:round;}</style>\r\n </defs>\r\n <g id=\"figure_1\">\r\n  <g id=\"patch_1\">\r\n   <path d=\"M 0 277.314375 \r\nL 385.78125 277.314375 \r\nL 385.78125 0 \r\nL 0 0 \r\nz\r\n\" style=\"fill:none;\"/>\r\n  </g>\r\n  <g id=\"axes_1\">\r\n   <g id=\"patch_2\">\r\n    <path d=\"M 43.78125 239.758125 \r\nL 378.58125 239.758125 \r\nL 378.58125 22.318125 \r\nL 43.78125 22.318125 \r\nz\r\n\" style=\"fill:#ffffff;\"/>\r\n   </g>\r\n   <g id=\"matplotlib.axis_1\">\r\n    <g id=\"xtick_1\">\r\n     <g id=\"line2d_1\">\r\n      <defs>\r\n       <path d=\"M 0 0 \r\nL 0 3.5 \r\n\" id=\"mb24eefb62d\" style=\"stroke:#000000;stroke-width:0.8;\"/>\r\n      </defs>\r\n      <g>\r\n       <use style=\"stroke:#000000;stroke-width:0.8;\" x=\"58.999432\" xlink:href=\"#mb24eefb62d\" y=\"239.758125\"/>\r\n      </g>\r\n     </g>\r\n     <g id=\"text_1\">\r\n      <!-- 0.0 -->\r\n      <g transform=\"translate(51.047869 254.356562)scale(0.1 -0.1)\">\r\n       <defs>\r\n        <path d=\"M 31.78125 66.40625 \r\nQ 24.171875 66.40625 20.328125 58.90625 \r\nQ 16.5 51.421875 16.5 36.375 \r\nQ 16.5 21.390625 20.328125 13.890625 \r\nQ 24.171875 6.390625 31.78125 6.390625 \r\nQ 39.453125 6.390625 43.28125 13.890625 \r\nQ 47.125 21.390625 47.125 36.375 \r\nQ 47.125 51.421875 43.28125 58.90625 \r\nQ 39.453125 66.40625 31.78125 66.40625 \r\nz\r\nM 31.78125 74.21875 \r\nQ 44.046875 74.21875 50.515625 64.515625 \r\nQ 56.984375 54.828125 56.984375 36.375 \r\nQ 56.984375 17.96875 50.515625 8.265625 \r\nQ 44.046875 -1.421875 31.78125 -1.421875 \r\nQ 19.53125 -1.421875 13.0625 8.265625 \r\nQ 6.59375 17.96875 6.59375 36.375 \r\nQ 6.59375 54.828125 13.0625 64.515625 \r\nQ 19.53125 74.21875 31.78125 74.21875 \r\nz\r\n\" id=\"DejaVuSans-48\"/>\r\n        <path d=\"M 10.6875 12.40625 \r\nL 21 12.40625 \r\nL 21 0 \r\nL 10.6875 0 \r\nz\r\n\" id=\"DejaVuSans-46\"/>\r\n       </defs>\r\n       <use xlink:href=\"#DejaVuSans-48\"/>\r\n       <use x=\"63.623047\" xlink:href=\"#DejaVuSans-46\"/>\r\n       <use x=\"95.410156\" xlink:href=\"#DejaVuSans-48\"/>\r\n      </g>\r\n     </g>\r\n    </g>\r\n    <g id=\"xtick_2\">\r\n     <g id=\"line2d_2\">\r\n      <g>\r\n       <use style=\"stroke:#000000;stroke-width:0.8;\" x=\"99.047279\" xlink:href=\"#mb24eefb62d\" y=\"239.758125\"/>\r\n      </g>\r\n     </g>\r\n     <g id=\"text_2\">\r\n      <!-- 2.5 -->\r\n      <g transform=\"translate(91.095716 254.356562)scale(0.1 -0.1)\">\r\n       <defs>\r\n        <path d=\"M 19.1875 8.296875 \r\nL 53.609375 8.296875 \r\nL 53.609375 0 \r\nL 7.328125 0 \r\nL 7.328125 8.296875 \r\nQ 12.9375 14.109375 22.625 23.890625 \r\nQ 32.328125 33.6875 34.8125 36.53125 \r\nQ 39.546875 41.84375 41.421875 45.53125 \r\nQ 43.3125 49.21875 43.3125 52.78125 \r\nQ 43.3125 58.59375 39.234375 62.25 \r\nQ 35.15625 65.921875 28.609375 65.921875 \r\nQ 23.96875 65.921875 18.8125 64.3125 \r\nQ 13.671875 62.703125 7.8125 59.421875 \r\nL 7.8125 69.390625 \r\nQ 13.765625 71.78125 18.9375 73 \r\nQ 24.125 74.21875 28.421875 74.21875 \r\nQ 39.75 74.21875 46.484375 68.546875 \r\nQ 53.21875 62.890625 53.21875 53.421875 \r\nQ 53.21875 48.921875 51.53125 44.890625 \r\nQ 49.859375 40.875 45.40625 35.40625 \r\nQ 44.1875 33.984375 37.640625 27.21875 \r\nQ 31.109375 20.453125 19.1875 8.296875 \r\nz\r\n\" id=\"DejaVuSans-50\"/>\r\n        <path d=\"M 10.796875 72.90625 \r\nL 49.515625 72.90625 \r\nL 49.515625 64.59375 \r\nL 19.828125 64.59375 \r\nL 19.828125 46.734375 \r\nQ 21.96875 47.46875 24.109375 47.828125 \r\nQ 26.265625 48.1875 28.421875 48.1875 \r\nQ 40.625 48.1875 47.75 41.5 \r\nQ 54.890625 34.8125 54.890625 23.390625 \r\nQ 54.890625 11.625 47.5625 5.09375 \r\nQ 40.234375 -1.421875 26.90625 -1.421875 \r\nQ 22.3125 -1.421875 17.546875 -0.640625 \r\nQ 12.796875 0.140625 7.71875 1.703125 \r\nL 7.71875 11.625 \r\nQ 12.109375 9.234375 16.796875 8.0625 \r\nQ 21.484375 6.890625 26.703125 6.890625 \r\nQ 35.15625 6.890625 40.078125 11.328125 \r\nQ 45.015625 15.765625 45.015625 23.390625 \r\nQ 45.015625 31 40.078125 35.4375 \r\nQ 35.15625 39.890625 26.703125 39.890625 \r\nQ 22.75 39.890625 18.8125 39.015625 \r\nQ 14.890625 38.140625 10.796875 36.28125 \r\nz\r\n\" id=\"DejaVuSans-53\"/>\r\n       </defs>\r\n       <use xlink:href=\"#DejaVuSans-50\"/>\r\n       <use x=\"63.623047\" xlink:href=\"#DejaVuSans-46\"/>\r\n       <use x=\"95.410156\" xlink:href=\"#DejaVuSans-53\"/>\r\n      </g>\r\n     </g>\r\n    </g>\r\n    <g id=\"xtick_3\">\r\n     <g id=\"line2d_3\">\r\n      <g>\r\n       <use style=\"stroke:#000000;stroke-width:0.8;\" x=\"139.095126\" xlink:href=\"#mb24eefb62d\" y=\"239.758125\"/>\r\n      </g>\r\n     </g>\r\n     <g id=\"text_3\">\r\n      <!-- 5.0 -->\r\n      <g transform=\"translate(131.143563 254.356562)scale(0.1 -0.1)\">\r\n       <use xlink:href=\"#DejaVuSans-53\"/>\r\n       <use x=\"63.623047\" xlink:href=\"#DejaVuSans-46\"/>\r\n       <use x=\"95.410156\" xlink:href=\"#DejaVuSans-48\"/>\r\n      </g>\r\n     </g>\r\n    </g>\r\n    <g id=\"xtick_4\">\r\n     <g id=\"line2d_4\">\r\n      <g>\r\n       <use style=\"stroke:#000000;stroke-width:0.8;\" x=\"179.142972\" xlink:href=\"#mb24eefb62d\" y=\"239.758125\"/>\r\n      </g>\r\n     </g>\r\n     <g id=\"text_4\">\r\n      <!-- 7.5 -->\r\n      <g transform=\"translate(171.19141 254.356562)scale(0.1 -0.1)\">\r\n       <defs>\r\n        <path d=\"M 8.203125 72.90625 \r\nL 55.078125 72.90625 \r\nL 55.078125 68.703125 \r\nL 28.609375 0 \r\nL 18.3125 0 \r\nL 43.21875 64.59375 \r\nL 8.203125 64.59375 \r\nz\r\n\" id=\"DejaVuSans-55\"/>\r\n       </defs>\r\n       <use xlink:href=\"#DejaVuSans-55\"/>\r\n       <use x=\"63.623047\" xlink:href=\"#DejaVuSans-46\"/>\r\n       <use x=\"95.410156\" xlink:href=\"#DejaVuSans-53\"/>\r\n      </g>\r\n     </g>\r\n    </g>\r\n    <g id=\"xtick_5\">\r\n     <g id=\"line2d_5\">\r\n      <g>\r\n       <use style=\"stroke:#000000;stroke-width:0.8;\" x=\"219.190819\" xlink:href=\"#mb24eefb62d\" y=\"239.758125\"/>\r\n      </g>\r\n     </g>\r\n     <g id=\"text_5\">\r\n      <!-- 10.0 -->\r\n      <g transform=\"translate(208.058007 254.356562)scale(0.1 -0.1)\">\r\n       <defs>\r\n        <path d=\"M 12.40625 8.296875 \r\nL 28.515625 8.296875 \r\nL 28.515625 63.921875 \r\nL 10.984375 60.40625 \r\nL 10.984375 69.390625 \r\nL 28.421875 72.90625 \r\nL 38.28125 72.90625 \r\nL 38.28125 8.296875 \r\nL 54.390625 8.296875 \r\nL 54.390625 0 \r\nL 12.40625 0 \r\nz\r\n\" id=\"DejaVuSans-49\"/>\r\n       </defs>\r\n       <use xlink:href=\"#DejaVuSans-49\"/>\r\n       <use x=\"63.623047\" xlink:href=\"#DejaVuSans-48\"/>\r\n       <use x=\"127.246094\" xlink:href=\"#DejaVuSans-46\"/>\r\n       <use x=\"159.033203\" xlink:href=\"#DejaVuSans-48\"/>\r\n      </g>\r\n     </g>\r\n    </g>\r\n    <g id=\"xtick_6\">\r\n     <g id=\"line2d_6\">\r\n      <g>\r\n       <use style=\"stroke:#000000;stroke-width:0.8;\" x=\"259.238666\" xlink:href=\"#mb24eefb62d\" y=\"239.758125\"/>\r\n      </g>\r\n     </g>\r\n     <g id=\"text_6\">\r\n      <!-- 12.5 -->\r\n      <g transform=\"translate(248.105854 254.356562)scale(0.1 -0.1)\">\r\n       <use xlink:href=\"#DejaVuSans-49\"/>\r\n       <use x=\"63.623047\" xlink:href=\"#DejaVuSans-50\"/>\r\n       <use x=\"127.246094\" xlink:href=\"#DejaVuSans-46\"/>\r\n       <use x=\"159.033203\" xlink:href=\"#DejaVuSans-53\"/>\r\n      </g>\r\n     </g>\r\n    </g>\r\n    <g id=\"xtick_7\">\r\n     <g id=\"line2d_7\">\r\n      <g>\r\n       <use style=\"stroke:#000000;stroke-width:0.8;\" x=\"299.286513\" xlink:href=\"#mb24eefb62d\" y=\"239.758125\"/>\r\n      </g>\r\n     </g>\r\n     <g id=\"text_7\">\r\n      <!-- 15.0 -->\r\n      <g transform=\"translate(288.153701 254.356562)scale(0.1 -0.1)\">\r\n       <use xlink:href=\"#DejaVuSans-49\"/>\r\n       <use x=\"63.623047\" xlink:href=\"#DejaVuSans-53\"/>\r\n       <use x=\"127.246094\" xlink:href=\"#DejaVuSans-46\"/>\r\n       <use x=\"159.033203\" xlink:href=\"#DejaVuSans-48\"/>\r\n      </g>\r\n     </g>\r\n    </g>\r\n    <g id=\"xtick_8\">\r\n     <g id=\"line2d_8\">\r\n      <g>\r\n       <use style=\"stroke:#000000;stroke-width:0.8;\" x=\"339.33436\" xlink:href=\"#mb24eefb62d\" y=\"239.758125\"/>\r\n      </g>\r\n     </g>\r\n     <g id=\"text_8\">\r\n      <!-- 17.5 -->\r\n      <g transform=\"translate(328.201548 254.356562)scale(0.1 -0.1)\">\r\n       <use xlink:href=\"#DejaVuSans-49\"/>\r\n       <use x=\"63.623047\" xlink:href=\"#DejaVuSans-55\"/>\r\n       <use x=\"127.246094\" xlink:href=\"#DejaVuSans-46\"/>\r\n       <use x=\"159.033203\" xlink:href=\"#DejaVuSans-53\"/>\r\n      </g>\r\n     </g>\r\n    </g>\r\n    <g id=\"text_9\">\r\n     <!-- iterations (per hundreds) -->\r\n     <g transform=\"translate(148.589063 268.034687)scale(0.1 -0.1)\">\r\n      <defs>\r\n       <path d=\"M 9.421875 54.6875 \r\nL 18.40625 54.6875 \r\nL 18.40625 0 \r\nL 9.421875 0 \r\nz\r\nM 9.421875 75.984375 \r\nL 18.40625 75.984375 \r\nL 18.40625 64.59375 \r\nL 9.421875 64.59375 \r\nz\r\n\" id=\"DejaVuSans-105\"/>\r\n       <path d=\"M 18.3125 70.21875 \r\nL 18.3125 54.6875 \r\nL 36.8125 54.6875 \r\nL 36.8125 47.703125 \r\nL 18.3125 47.703125 \r\nL 18.3125 18.015625 \r\nQ 18.3125 11.328125 20.140625 9.421875 \r\nQ 21.96875 7.515625 27.59375 7.515625 \r\nL 36.8125 7.515625 \r\nL 36.8125 0 \r\nL 27.59375 0 \r\nQ 17.1875 0 13.234375 3.875 \r\nQ 9.28125 7.765625 9.28125 18.015625 \r\nL 9.28125 47.703125 \r\nL 2.6875 47.703125 \r\nL 2.6875 54.6875 \r\nL 9.28125 54.6875 \r\nL 9.28125 70.21875 \r\nz\r\n\" id=\"DejaVuSans-116\"/>\r\n       <path d=\"M 56.203125 29.59375 \r\nL 56.203125 25.203125 \r\nL 14.890625 25.203125 \r\nQ 15.484375 15.921875 20.484375 11.0625 \r\nQ 25.484375 6.203125 34.421875 6.203125 \r\nQ 39.59375 6.203125 44.453125 7.46875 \r\nQ 49.3125 8.734375 54.109375 11.28125 \r\nL 54.109375 2.78125 \r\nQ 49.265625 0.734375 44.1875 -0.34375 \r\nQ 39.109375 -1.421875 33.890625 -1.421875 \r\nQ 20.796875 -1.421875 13.15625 6.1875 \r\nQ 5.515625 13.8125 5.515625 26.8125 \r\nQ 5.515625 40.234375 12.765625 48.109375 \r\nQ 20.015625 56 32.328125 56 \r\nQ 43.359375 56 49.78125 48.890625 \r\nQ 56.203125 41.796875 56.203125 29.59375 \r\nz\r\nM 47.21875 32.234375 \r\nQ 47.125 39.59375 43.09375 43.984375 \r\nQ 39.0625 48.390625 32.421875 48.390625 \r\nQ 24.90625 48.390625 20.390625 44.140625 \r\nQ 15.875 39.890625 15.1875 32.171875 \r\nz\r\n\" id=\"DejaVuSans-101\"/>\r\n       <path d=\"M 41.109375 46.296875 \r\nQ 39.59375 47.171875 37.8125 47.578125 \r\nQ 36.03125 48 33.890625 48 \r\nQ 26.265625 48 22.1875 43.046875 \r\nQ 18.109375 38.09375 18.109375 28.8125 \r\nL 18.109375 0 \r\nL 9.078125 0 \r\nL 9.078125 54.6875 \r\nL 18.109375 54.6875 \r\nL 18.109375 46.1875 \r\nQ 20.953125 51.171875 25.484375 53.578125 \r\nQ 30.03125 56 36.53125 56 \r\nQ 37.453125 56 38.578125 55.875 \r\nQ 39.703125 55.765625 41.0625 55.515625 \r\nz\r\n\" id=\"DejaVuSans-114\"/>\r\n       <path d=\"M 34.28125 27.484375 \r\nQ 23.390625 27.484375 19.1875 25 \r\nQ 14.984375 22.515625 14.984375 16.5 \r\nQ 14.984375 11.71875 18.140625 8.90625 \r\nQ 21.296875 6.109375 26.703125 6.109375 \r\nQ 34.1875 6.109375 38.703125 11.40625 \r\nQ 43.21875 16.703125 43.21875 25.484375 \r\nL 43.21875 27.484375 \r\nz\r\nM 52.203125 31.203125 \r\nL 52.203125 0 \r\nL 43.21875 0 \r\nL 43.21875 8.296875 \r\nQ 40.140625 3.328125 35.546875 0.953125 \r\nQ 30.953125 -1.421875 24.3125 -1.421875 \r\nQ 15.921875 -1.421875 10.953125 3.296875 \r\nQ 6 8.015625 6 15.921875 \r\nQ 6 25.140625 12.171875 29.828125 \r\nQ 18.359375 34.515625 30.609375 34.515625 \r\nL 43.21875 34.515625 \r\nL 43.21875 35.40625 \r\nQ 43.21875 41.609375 39.140625 45 \r\nQ 35.0625 48.390625 27.6875 48.390625 \r\nQ 23 48.390625 18.546875 47.265625 \r\nQ 14.109375 46.140625 10.015625 43.890625 \r\nL 10.015625 52.203125 \r\nQ 14.9375 54.109375 19.578125 55.046875 \r\nQ 24.21875 56 28.609375 56 \r\nQ 40.484375 56 46.34375 49.84375 \r\nQ 52.203125 43.703125 52.203125 31.203125 \r\nz\r\n\" id=\"DejaVuSans-97\"/>\r\n       <path d=\"M 30.609375 48.390625 \r\nQ 23.390625 48.390625 19.1875 42.75 \r\nQ 14.984375 37.109375 14.984375 27.296875 \r\nQ 14.984375 17.484375 19.15625 11.84375 \r\nQ 23.34375 6.203125 30.609375 6.203125 \r\nQ 37.796875 6.203125 41.984375 11.859375 \r\nQ 46.1875 17.53125 46.1875 27.296875 \r\nQ 46.1875 37.015625 41.984375 42.703125 \r\nQ 37.796875 48.390625 30.609375 48.390625 \r\nz\r\nM 30.609375 56 \r\nQ 42.328125 56 49.015625 48.375 \r\nQ 55.71875 40.765625 55.71875 27.296875 \r\nQ 55.71875 13.875 49.015625 6.21875 \r\nQ 42.328125 -1.421875 30.609375 -1.421875 \r\nQ 18.84375 -1.421875 12.171875 6.21875 \r\nQ 5.515625 13.875 5.515625 27.296875 \r\nQ 5.515625 40.765625 12.171875 48.375 \r\nQ 18.84375 56 30.609375 56 \r\nz\r\n\" id=\"DejaVuSans-111\"/>\r\n       <path d=\"M 54.890625 33.015625 \r\nL 54.890625 0 \r\nL 45.90625 0 \r\nL 45.90625 32.71875 \r\nQ 45.90625 40.484375 42.875 44.328125 \r\nQ 39.84375 48.1875 33.796875 48.1875 \r\nQ 26.515625 48.1875 22.3125 43.546875 \r\nQ 18.109375 38.921875 18.109375 30.90625 \r\nL 18.109375 0 \r\nL 9.078125 0 \r\nL 9.078125 54.6875 \r\nL 18.109375 54.6875 \r\nL 18.109375 46.1875 \r\nQ 21.34375 51.125 25.703125 53.5625 \r\nQ 30.078125 56 35.796875 56 \r\nQ 45.21875 56 50.046875 50.171875 \r\nQ 54.890625 44.34375 54.890625 33.015625 \r\nz\r\n\" id=\"DejaVuSans-110\"/>\r\n       <path d=\"M 44.28125 53.078125 \r\nL 44.28125 44.578125 \r\nQ 40.484375 46.53125 36.375 47.5 \r\nQ 32.28125 48.484375 27.875 48.484375 \r\nQ 21.1875 48.484375 17.84375 46.4375 \r\nQ 14.5 44.390625 14.5 40.28125 \r\nQ 14.5 37.15625 16.890625 35.375 \r\nQ 19.28125 33.59375 26.515625 31.984375 \r\nL 29.59375 31.296875 \r\nQ 39.15625 29.25 43.1875 25.515625 \r\nQ 47.21875 21.78125 47.21875 15.09375 \r\nQ 47.21875 7.46875 41.1875 3.015625 \r\nQ 35.15625 -1.421875 24.609375 -1.421875 \r\nQ 20.21875 -1.421875 15.453125 -0.5625 \r\nQ 10.6875 0.296875 5.421875 2 \r\nL 5.421875 11.28125 \r\nQ 10.40625 8.6875 15.234375 7.390625 \r\nQ 20.0625 6.109375 24.8125 6.109375 \r\nQ 31.15625 6.109375 34.5625 8.28125 \r\nQ 37.984375 10.453125 37.984375 14.40625 \r\nQ 37.984375 18.0625 35.515625 20.015625 \r\nQ 33.0625 21.96875 24.703125 23.78125 \r\nL 21.578125 24.515625 \r\nQ 13.234375 26.265625 9.515625 29.90625 \r\nQ 5.8125 33.546875 5.8125 39.890625 \r\nQ 5.8125 47.609375 11.28125 51.796875 \r\nQ 16.75 56 26.8125 56 \r\nQ 31.78125 56 36.171875 55.265625 \r\nQ 40.578125 54.546875 44.28125 53.078125 \r\nz\r\n\" id=\"DejaVuSans-115\"/>\r\n       <path id=\"DejaVuSans-32\"/>\r\n       <path d=\"M 31 75.875 \r\nQ 24.46875 64.65625 21.28125 53.65625 \r\nQ 18.109375 42.671875 18.109375 31.390625 \r\nQ 18.109375 20.125 21.3125 9.0625 \r\nQ 24.515625 -2 31 -13.1875 \r\nL 23.1875 -13.1875 \r\nQ 15.875 -1.703125 12.234375 9.375 \r\nQ 8.59375 20.453125 8.59375 31.390625 \r\nQ 8.59375 42.28125 12.203125 53.3125 \r\nQ 15.828125 64.359375 23.1875 75.875 \r\nz\r\n\" id=\"DejaVuSans-40\"/>\r\n       <path d=\"M 18.109375 8.203125 \r\nL 18.109375 -20.796875 \r\nL 9.078125 -20.796875 \r\nL 9.078125 54.6875 \r\nL 18.109375 54.6875 \r\nL 18.109375 46.390625 \r\nQ 20.953125 51.265625 25.265625 53.625 \r\nQ 29.59375 56 35.59375 56 \r\nQ 45.5625 56 51.78125 48.09375 \r\nQ 58.015625 40.1875 58.015625 27.296875 \r\nQ 58.015625 14.40625 51.78125 6.484375 \r\nQ 45.5625 -1.421875 35.59375 -1.421875 \r\nQ 29.59375 -1.421875 25.265625 0.953125 \r\nQ 20.953125 3.328125 18.109375 8.203125 \r\nz\r\nM 48.6875 27.296875 \r\nQ 48.6875 37.203125 44.609375 42.84375 \r\nQ 40.53125 48.484375 33.40625 48.484375 \r\nQ 26.265625 48.484375 22.1875 42.84375 \r\nQ 18.109375 37.203125 18.109375 27.296875 \r\nQ 18.109375 17.390625 22.1875 11.75 \r\nQ 26.265625 6.109375 33.40625 6.109375 \r\nQ 40.53125 6.109375 44.609375 11.75 \r\nQ 48.6875 17.390625 48.6875 27.296875 \r\nz\r\n\" id=\"DejaVuSans-112\"/>\r\n       <path d=\"M 54.890625 33.015625 \r\nL 54.890625 0 \r\nL 45.90625 0 \r\nL 45.90625 32.71875 \r\nQ 45.90625 40.484375 42.875 44.328125 \r\nQ 39.84375 48.1875 33.796875 48.1875 \r\nQ 26.515625 48.1875 22.3125 43.546875 \r\nQ 18.109375 38.921875 18.109375 30.90625 \r\nL 18.109375 0 \r\nL 9.078125 0 \r\nL 9.078125 75.984375 \r\nL 18.109375 75.984375 \r\nL 18.109375 46.1875 \r\nQ 21.34375 51.125 25.703125 53.5625 \r\nQ 30.078125 56 35.796875 56 \r\nQ 45.21875 56 50.046875 50.171875 \r\nQ 54.890625 44.34375 54.890625 33.015625 \r\nz\r\n\" id=\"DejaVuSans-104\"/>\r\n       <path d=\"M 8.5 21.578125 \r\nL 8.5 54.6875 \r\nL 17.484375 54.6875 \r\nL 17.484375 21.921875 \r\nQ 17.484375 14.15625 20.5 10.265625 \r\nQ 23.53125 6.390625 29.59375 6.390625 \r\nQ 36.859375 6.390625 41.078125 11.03125 \r\nQ 45.3125 15.671875 45.3125 23.6875 \r\nL 45.3125 54.6875 \r\nL 54.296875 54.6875 \r\nL 54.296875 0 \r\nL 45.3125 0 \r\nL 45.3125 8.40625 \r\nQ 42.046875 3.421875 37.71875 1 \r\nQ 33.40625 -1.421875 27.6875 -1.421875 \r\nQ 18.265625 -1.421875 13.375 4.4375 \r\nQ 8.5 10.296875 8.5 21.578125 \r\nz\r\nM 31.109375 56 \r\nz\r\n\" id=\"DejaVuSans-117\"/>\r\n       <path d=\"M 45.40625 46.390625 \r\nL 45.40625 75.984375 \r\nL 54.390625 75.984375 \r\nL 54.390625 0 \r\nL 45.40625 0 \r\nL 45.40625 8.203125 \r\nQ 42.578125 3.328125 38.25 0.953125 \r\nQ 33.9375 -1.421875 27.875 -1.421875 \r\nQ 17.96875 -1.421875 11.734375 6.484375 \r\nQ 5.515625 14.40625 5.515625 27.296875 \r\nQ 5.515625 40.1875 11.734375 48.09375 \r\nQ 17.96875 56 27.875 56 \r\nQ 33.9375 56 38.25 53.625 \r\nQ 42.578125 51.265625 45.40625 46.390625 \r\nz\r\nM 14.796875 27.296875 \r\nQ 14.796875 17.390625 18.875 11.75 \r\nQ 22.953125 6.109375 30.078125 6.109375 \r\nQ 37.203125 6.109375 41.296875 11.75 \r\nQ 45.40625 17.390625 45.40625 27.296875 \r\nQ 45.40625 37.203125 41.296875 42.84375 \r\nQ 37.203125 48.484375 30.078125 48.484375 \r\nQ 22.953125 48.484375 18.875 42.84375 \r\nQ 14.796875 37.203125 14.796875 27.296875 \r\nz\r\n\" id=\"DejaVuSans-100\"/>\r\n       <path d=\"M 8.015625 75.875 \r\nL 15.828125 75.875 \r\nQ 23.140625 64.359375 26.78125 53.3125 \r\nQ 30.421875 42.28125 30.421875 31.390625 \r\nQ 30.421875 20.453125 26.78125 9.375 \r\nQ 23.140625 -1.703125 15.828125 -13.1875 \r\nL 8.015625 -13.1875 \r\nQ 14.5 -2 17.703125 9.0625 \r\nQ 20.90625 20.125 20.90625 31.390625 \r\nQ 20.90625 42.671875 17.703125 53.65625 \r\nQ 14.5 64.65625 8.015625 75.875 \r\nz\r\n\" id=\"DejaVuSans-41\"/>\r\n      </defs>\r\n      <use xlink:href=\"#DejaVuSans-105\"/>\r\n      <use x=\"27.783203\" xlink:href=\"#DejaVuSans-116\"/>\r\n      <use x=\"66.992188\" xlink:href=\"#DejaVuSans-101\"/>\r\n      <use x=\"128.515625\" xlink:href=\"#DejaVuSans-114\"/>\r\n      <use x=\"169.628906\" xlink:href=\"#DejaVuSans-97\"/>\r\n      <use x=\"230.908203\" xlink:href=\"#DejaVuSans-116\"/>\r\n      <use x=\"270.117188\" xlink:href=\"#DejaVuSans-105\"/>\r\n      <use x=\"297.900391\" xlink:href=\"#DejaVuSans-111\"/>\r\n      <use x=\"359.082031\" xlink:href=\"#DejaVuSans-110\"/>\r\n      <use x=\"422.460938\" xlink:href=\"#DejaVuSans-115\"/>\r\n      <use x=\"474.560547\" xlink:href=\"#DejaVuSans-32\"/>\r\n      <use x=\"506.347656\" xlink:href=\"#DejaVuSans-40\"/>\r\n      <use x=\"545.361328\" xlink:href=\"#DejaVuSans-112\"/>\r\n      <use x=\"608.837891\" xlink:href=\"#DejaVuSans-101\"/>\r\n      <use x=\"670.361328\" xlink:href=\"#DejaVuSans-114\"/>\r\n      <use x=\"711.474609\" xlink:href=\"#DejaVuSans-32\"/>\r\n      <use x=\"743.261719\" xlink:href=\"#DejaVuSans-104\"/>\r\n      <use x=\"806.640625\" xlink:href=\"#DejaVuSans-117\"/>\r\n      <use x=\"870.019531\" xlink:href=\"#DejaVuSans-110\"/>\r\n      <use x=\"933.398438\" xlink:href=\"#DejaVuSans-100\"/>\r\n      <use x=\"996.875\" xlink:href=\"#DejaVuSans-114\"/>\r\n      <use x=\"1035.738281\" xlink:href=\"#DejaVuSans-101\"/>\r\n      <use x=\"1097.261719\" xlink:href=\"#DejaVuSans-100\"/>\r\n      <use x=\"1160.738281\" xlink:href=\"#DejaVuSans-115\"/>\r\n      <use x=\"1212.837891\" xlink:href=\"#DejaVuSans-41\"/>\r\n     </g>\r\n    </g>\r\n   </g>\r\n   <g id=\"matplotlib.axis_2\">\r\n    <g id=\"ytick_1\">\r\n     <g id=\"line2d_9\">\r\n      <defs>\r\n       <path d=\"M 0 0 \r\nL -3.5 0 \r\n\" id=\"mb5d18ef06c\" style=\"stroke:#000000;stroke-width:0.8;\"/>\r\n      </defs>\r\n      <g>\r\n       <use style=\"stroke:#000000;stroke-width:0.8;\" x=\"43.78125\" xlink:href=\"#mb5d18ef06c\" y=\"208.711163\"/>\r\n      </g>\r\n     </g>\r\n     <g id=\"text_10\">\r\n      <!-- 0.2 -->\r\n      <g transform=\"translate(20.878125 212.510381)scale(0.1 -0.1)\">\r\n       <use xlink:href=\"#DejaVuSans-48\"/>\r\n       <use x=\"63.623047\" xlink:href=\"#DejaVuSans-46\"/>\r\n       <use x=\"95.410156\" xlink:href=\"#DejaVuSans-50\"/>\r\n      </g>\r\n     </g>\r\n    </g>\r\n    <g id=\"ytick_2\">\r\n     <g id=\"line2d_10\">\r\n      <g>\r\n       <use style=\"stroke:#000000;stroke-width:0.8;\" x=\"43.78125\" xlink:href=\"#mb5d18ef06c\" y=\"172.918724\"/>\r\n      </g>\r\n     </g>\r\n     <g id=\"text_11\">\r\n      <!-- 0.3 -->\r\n      <g transform=\"translate(20.878125 176.717943)scale(0.1 -0.1)\">\r\n       <defs>\r\n        <path d=\"M 40.578125 39.3125 \r\nQ 47.65625 37.796875 51.625 33 \r\nQ 55.609375 28.21875 55.609375 21.1875 \r\nQ 55.609375 10.40625 48.1875 4.484375 \r\nQ 40.765625 -1.421875 27.09375 -1.421875 \r\nQ 22.515625 -1.421875 17.65625 -0.515625 \r\nQ 12.796875 0.390625 7.625 2.203125 \r\nL 7.625 11.71875 \r\nQ 11.71875 9.328125 16.59375 8.109375 \r\nQ 21.484375 6.890625 26.8125 6.890625 \r\nQ 36.078125 6.890625 40.9375 10.546875 \r\nQ 45.796875 14.203125 45.796875 21.1875 \r\nQ 45.796875 27.640625 41.28125 31.265625 \r\nQ 36.765625 34.90625 28.71875 34.90625 \r\nL 20.21875 34.90625 \r\nL 20.21875 43.015625 \r\nL 29.109375 43.015625 \r\nQ 36.375 43.015625 40.234375 45.921875 \r\nQ 44.09375 48.828125 44.09375 54.296875 \r\nQ 44.09375 59.90625 40.109375 62.90625 \r\nQ 36.140625 65.921875 28.71875 65.921875 \r\nQ 24.65625 65.921875 20.015625 65.03125 \r\nQ 15.375 64.15625 9.8125 62.3125 \r\nL 9.8125 71.09375 \r\nQ 15.4375 72.65625 20.34375 73.4375 \r\nQ 25.25 74.21875 29.59375 74.21875 \r\nQ 40.828125 74.21875 47.359375 69.109375 \r\nQ 53.90625 64.015625 53.90625 55.328125 \r\nQ 53.90625 49.265625 50.4375 45.09375 \r\nQ 46.96875 40.921875 40.578125 39.3125 \r\nz\r\n\" id=\"DejaVuSans-51\"/>\r\n       </defs>\r\n       <use xlink:href=\"#DejaVuSans-48\"/>\r\n       <use x=\"63.623047\" xlink:href=\"#DejaVuSans-46\"/>\r\n       <use x=\"95.410156\" xlink:href=\"#DejaVuSans-51\"/>\r\n      </g>\r\n     </g>\r\n    </g>\r\n    <g id=\"ytick_3\">\r\n     <g id=\"line2d_11\">\r\n      <g>\r\n       <use style=\"stroke:#000000;stroke-width:0.8;\" x=\"43.78125\" xlink:href=\"#mb5d18ef06c\" y=\"137.126286\"/>\r\n      </g>\r\n     </g>\r\n     <g id=\"text_12\">\r\n      <!-- 0.4 -->\r\n      <g transform=\"translate(20.878125 140.925504)scale(0.1 -0.1)\">\r\n       <defs>\r\n        <path d=\"M 37.796875 64.3125 \r\nL 12.890625 25.390625 \r\nL 37.796875 25.390625 \r\nz\r\nM 35.203125 72.90625 \r\nL 47.609375 72.90625 \r\nL 47.609375 25.390625 \r\nL 58.015625 25.390625 \r\nL 58.015625 17.1875 \r\nL 47.609375 17.1875 \r\nL 47.609375 0 \r\nL 37.796875 0 \r\nL 37.796875 17.1875 \r\nL 4.890625 17.1875 \r\nL 4.890625 26.703125 \r\nz\r\n\" id=\"DejaVuSans-52\"/>\r\n       </defs>\r\n       <use xlink:href=\"#DejaVuSans-48\"/>\r\n       <use x=\"63.623047\" xlink:href=\"#DejaVuSans-46\"/>\r\n       <use x=\"95.410156\" xlink:href=\"#DejaVuSans-52\"/>\r\n      </g>\r\n     </g>\r\n    </g>\r\n    <g id=\"ytick_4\">\r\n     <g id=\"line2d_12\">\r\n      <g>\r\n       <use style=\"stroke:#000000;stroke-width:0.8;\" x=\"43.78125\" xlink:href=\"#mb5d18ef06c\" y=\"101.333847\"/>\r\n      </g>\r\n     </g>\r\n     <g id=\"text_13\">\r\n      <!-- 0.5 -->\r\n      <g transform=\"translate(20.878125 105.133066)scale(0.1 -0.1)\">\r\n       <use xlink:href=\"#DejaVuSans-48\"/>\r\n       <use x=\"63.623047\" xlink:href=\"#DejaVuSans-46\"/>\r\n       <use x=\"95.410156\" xlink:href=\"#DejaVuSans-53\"/>\r\n      </g>\r\n     </g>\r\n    </g>\r\n    <g id=\"ytick_5\">\r\n     <g id=\"line2d_13\">\r\n      <g>\r\n       <use style=\"stroke:#000000;stroke-width:0.8;\" x=\"43.78125\" xlink:href=\"#mb5d18ef06c\" y=\"65.541409\"/>\r\n      </g>\r\n     </g>\r\n     <g id=\"text_14\">\r\n      <!-- 0.6 -->\r\n      <g transform=\"translate(20.878125 69.340627)scale(0.1 -0.1)\">\r\n       <defs>\r\n        <path d=\"M 33.015625 40.375 \r\nQ 26.375 40.375 22.484375 35.828125 \r\nQ 18.609375 31.296875 18.609375 23.390625 \r\nQ 18.609375 15.53125 22.484375 10.953125 \r\nQ 26.375 6.390625 33.015625 6.390625 \r\nQ 39.65625 6.390625 43.53125 10.953125 \r\nQ 47.40625 15.53125 47.40625 23.390625 \r\nQ 47.40625 31.296875 43.53125 35.828125 \r\nQ 39.65625 40.375 33.015625 40.375 \r\nz\r\nM 52.59375 71.296875 \r\nL 52.59375 62.3125 \r\nQ 48.875 64.0625 45.09375 64.984375 \r\nQ 41.3125 65.921875 37.59375 65.921875 \r\nQ 27.828125 65.921875 22.671875 59.328125 \r\nQ 17.53125 52.734375 16.796875 39.40625 \r\nQ 19.671875 43.65625 24.015625 45.921875 \r\nQ 28.375 48.1875 33.59375 48.1875 \r\nQ 44.578125 48.1875 50.953125 41.515625 \r\nQ 57.328125 34.859375 57.328125 23.390625 \r\nQ 57.328125 12.15625 50.6875 5.359375 \r\nQ 44.046875 -1.421875 33.015625 -1.421875 \r\nQ 20.359375 -1.421875 13.671875 8.265625 \r\nQ 6.984375 17.96875 6.984375 36.375 \r\nQ 6.984375 53.65625 15.1875 63.9375 \r\nQ 23.390625 74.21875 37.203125 74.21875 \r\nQ 40.921875 74.21875 44.703125 73.484375 \r\nQ 48.484375 72.75 52.59375 71.296875 \r\nz\r\n\" id=\"DejaVuSans-54\"/>\r\n       </defs>\r\n       <use xlink:href=\"#DejaVuSans-48\"/>\r\n       <use x=\"63.623047\" xlink:href=\"#DejaVuSans-46\"/>\r\n       <use x=\"95.410156\" xlink:href=\"#DejaVuSans-54\"/>\r\n      </g>\r\n     </g>\r\n    </g>\r\n    <g id=\"ytick_6\">\r\n     <g id=\"line2d_14\">\r\n      <g>\r\n       <use style=\"stroke:#000000;stroke-width:0.8;\" x=\"43.78125\" xlink:href=\"#mb5d18ef06c\" y=\"29.74897\"/>\r\n      </g>\r\n     </g>\r\n     <g id=\"text_15\">\r\n      <!-- 0.7 -->\r\n      <g transform=\"translate(20.878125 33.548189)scale(0.1 -0.1)\">\r\n       <use xlink:href=\"#DejaVuSans-48\"/>\r\n       <use x=\"63.623047\" xlink:href=\"#DejaVuSans-46\"/>\r\n       <use x=\"95.410156\" xlink:href=\"#DejaVuSans-55\"/>\r\n      </g>\r\n     </g>\r\n    </g>\r\n    <g id=\"text_16\">\r\n     <!-- cost -->\r\n     <g transform=\"translate(14.798438 141.411562)rotate(-90)scale(0.1 -0.1)\">\r\n      <defs>\r\n       <path d=\"M 48.78125 52.59375 \r\nL 48.78125 44.1875 \r\nQ 44.96875 46.296875 41.140625 47.34375 \r\nQ 37.3125 48.390625 33.40625 48.390625 \r\nQ 24.65625 48.390625 19.8125 42.84375 \r\nQ 14.984375 37.3125 14.984375 27.296875 \r\nQ 14.984375 17.28125 19.8125 11.734375 \r\nQ 24.65625 6.203125 33.40625 6.203125 \r\nQ 37.3125 6.203125 41.140625 7.25 \r\nQ 44.96875 8.296875 48.78125 10.40625 \r\nL 48.78125 2.09375 \r\nQ 45.015625 0.34375 40.984375 -0.53125 \r\nQ 36.96875 -1.421875 32.421875 -1.421875 \r\nQ 20.0625 -1.421875 12.78125 6.34375 \r\nQ 5.515625 14.109375 5.515625 27.296875 \r\nQ 5.515625 40.671875 12.859375 48.328125 \r\nQ 20.21875 56 33.015625 56 \r\nQ 37.15625 56 41.109375 55.140625 \r\nQ 45.0625 54.296875 48.78125 52.59375 \r\nz\r\n\" id=\"DejaVuSans-99\"/>\r\n      </defs>\r\n      <use xlink:href=\"#DejaVuSans-99\"/>\r\n      <use x=\"54.980469\" xlink:href=\"#DejaVuSans-111\"/>\r\n      <use x=\"116.162109\" xlink:href=\"#DejaVuSans-115\"/>\r\n      <use x=\"168.261719\" xlink:href=\"#DejaVuSans-116\"/>\r\n     </g>\r\n    </g>\r\n   </g>\r\n   <g id=\"line2d_15\">\r\n    <path clip-path=\"url(#pb8b339efd4)\" d=\"M 58.999432 32.201761 \r\nL 75.018571 71.086243 \r\nL 91.037709 113.163591 \r\nL 107.056848 145.714013 \r\nL 123.075987 161.657246 \r\nL 139.095126 171.747214 \r\nL 155.114264 180.120311 \r\nL 171.133403 187.220618 \r\nL 187.152542 193.341645 \r\nL 203.171681 198.687769 \r\nL 219.190819 203.406897 \r\nL 235.209958 207.609403 \r\nL 251.229097 211.379748 \r\nL 267.248236 214.783945 \r\nL 283.267374 217.87453 \r\nL 299.286513 220.693971 \r\nL 315.305652 223.277068 \r\nL 331.324791 225.652681 \r\nL 347.343929 227.845 \r\nL 363.363068 229.874489 \r\n\" style=\"fill:none;stroke:#1f77b4;stroke-linecap:square;stroke-width:1.5;\"/>\r\n   </g>\r\n   <g id=\"patch_3\">\r\n    <path d=\"M 43.78125 239.758125 \r\nL 43.78125 22.318125 \r\n\" style=\"fill:none;stroke:#000000;stroke-linecap:square;stroke-linejoin:miter;stroke-width:0.8;\"/>\r\n   </g>\r\n   <g id=\"patch_4\">\r\n    <path d=\"M 378.58125 239.758125 \r\nL 378.58125 22.318125 \r\n\" style=\"fill:none;stroke:#000000;stroke-linecap:square;stroke-linejoin:miter;stroke-width:0.8;\"/>\r\n   </g>\r\n   <g id=\"patch_5\">\r\n    <path d=\"M 43.78125 239.758125 \r\nL 378.58125 239.758125 \r\n\" style=\"fill:none;stroke:#000000;stroke-linecap:square;stroke-linejoin:miter;stroke-width:0.8;\"/>\r\n   </g>\r\n   <g id=\"patch_6\">\r\n    <path d=\"M 43.78125 22.318125 \r\nL 378.58125 22.318125 \r\n\" style=\"fill:none;stroke:#000000;stroke-linecap:square;stroke-linejoin:miter;stroke-width:0.8;\"/>\r\n   </g>\r\n   <g id=\"text_17\">\r\n    <!-- Learning rate =0.005 -->\r\n    <g transform=\"translate(146.925938 16.318125)scale(0.12 -0.12)\">\r\n     <defs>\r\n      <path d=\"M 9.8125 72.90625 \r\nL 19.671875 72.90625 \r\nL 19.671875 8.296875 \r\nL 55.171875 8.296875 \r\nL 55.171875 0 \r\nL 9.8125 0 \r\nz\r\n\" id=\"DejaVuSans-76\"/>\r\n      <path d=\"M 45.40625 27.984375 \r\nQ 45.40625 37.75 41.375 43.109375 \r\nQ 37.359375 48.484375 30.078125 48.484375 \r\nQ 22.859375 48.484375 18.828125 43.109375 \r\nQ 14.796875 37.75 14.796875 27.984375 \r\nQ 14.796875 18.265625 18.828125 12.890625 \r\nQ 22.859375 7.515625 30.078125 7.515625 \r\nQ 37.359375 7.515625 41.375 12.890625 \r\nQ 45.40625 18.265625 45.40625 27.984375 \r\nz\r\nM 54.390625 6.78125 \r\nQ 54.390625 -7.171875 48.1875 -13.984375 \r\nQ 42 -20.796875 29.203125 -20.796875 \r\nQ 24.46875 -20.796875 20.265625 -20.09375 \r\nQ 16.0625 -19.390625 12.109375 -17.921875 \r\nL 12.109375 -9.1875 \r\nQ 16.0625 -11.328125 19.921875 -12.34375 \r\nQ 23.78125 -13.375 27.78125 -13.375 \r\nQ 36.625 -13.375 41.015625 -8.765625 \r\nQ 45.40625 -4.15625 45.40625 5.171875 \r\nL 45.40625 9.625 \r\nQ 42.625 4.78125 38.28125 2.390625 \r\nQ 33.9375 0 27.875 0 \r\nQ 17.828125 0 11.671875 7.65625 \r\nQ 5.515625 15.328125 5.515625 27.984375 \r\nQ 5.515625 40.671875 11.671875 48.328125 \r\nQ 17.828125 56 27.875 56 \r\nQ 33.9375 56 38.28125 53.609375 \r\nQ 42.625 51.21875 45.40625 46.390625 \r\nL 45.40625 54.6875 \r\nL 54.390625 54.6875 \r\nz\r\n\" id=\"DejaVuSans-103\"/>\r\n      <path d=\"M 10.59375 45.40625 \r\nL 73.1875 45.40625 \r\nL 73.1875 37.203125 \r\nL 10.59375 37.203125 \r\nz\r\nM 10.59375 25.484375 \r\nL 73.1875 25.484375 \r\nL 73.1875 17.1875 \r\nL 10.59375 17.1875 \r\nz\r\n\" id=\"DejaVuSans-61\"/>\r\n     </defs>\r\n     <use xlink:href=\"#DejaVuSans-76\"/>\r\n     <use x=\"53.962891\" xlink:href=\"#DejaVuSans-101\"/>\r\n     <use x=\"115.486328\" xlink:href=\"#DejaVuSans-97\"/>\r\n     <use x=\"176.765625\" xlink:href=\"#DejaVuSans-114\"/>\r\n     <use x=\"216.128906\" xlink:href=\"#DejaVuSans-110\"/>\r\n     <use x=\"279.507812\" xlink:href=\"#DejaVuSans-105\"/>\r\n     <use x=\"307.291016\" xlink:href=\"#DejaVuSans-110\"/>\r\n     <use x=\"370.669922\" xlink:href=\"#DejaVuSans-103\"/>\r\n     <use x=\"434.146484\" xlink:href=\"#DejaVuSans-32\"/>\r\n     <use x=\"465.933594\" xlink:href=\"#DejaVuSans-114\"/>\r\n     <use x=\"507.046875\" xlink:href=\"#DejaVuSans-97\"/>\r\n     <use x=\"568.326172\" xlink:href=\"#DejaVuSans-116\"/>\r\n     <use x=\"607.535156\" xlink:href=\"#DejaVuSans-101\"/>\r\n     <use x=\"669.058594\" xlink:href=\"#DejaVuSans-32\"/>\r\n     <use x=\"700.845703\" xlink:href=\"#DejaVuSans-61\"/>\r\n     <use x=\"784.634766\" xlink:href=\"#DejaVuSans-48\"/>\r\n     <use x=\"848.257812\" xlink:href=\"#DejaVuSans-46\"/>\r\n     <use x=\"880.044922\" xlink:href=\"#DejaVuSans-48\"/>\r\n     <use x=\"943.667969\" xlink:href=\"#DejaVuSans-48\"/>\r\n     <use x=\"1007.291016\" xlink:href=\"#DejaVuSans-53\"/>\r\n    </g>\r\n   </g>\r\n  </g>\r\n </g>\r\n <defs>\r\n  <clipPath id=\"pb8b339efd4\">\r\n   <rect height=\"217.44\" width=\"334.8\" x=\"43.78125\" y=\"22.318125\"/>\r\n  </clipPath>\r\n </defs>\r\n</svg>\r\n",
      "image/png": "[encoded data removed]"
     },
     "metadata": {
      "needs_background": "light"
     }
    }
   ],
   "source": [
    "# Plot learning curve (with costs)\n",
    "costs = np.squeeze(d['costs'])\n",
    "plt.plot(costs)\n",
    "plt.ylabel('cost')\n",
    "plt.xlabel('iterations (per hundreds)')\n",
    "plt.title(\"Learning rate =\" + str(d[\"learning_rate\"]))\n",
    "plt.show()"
   ]
  },
  {
   "cell_type": "markdown",
   "metadata": {},
   "source": [
    "**Interpretation**:\n",
    "You can see the cost decreasing. It shows that the parameters are being learned. However, you see that you could train the model even more on the training set. Try to increase the number of iterations in the cell above and rerun the cells. You might see that the training set accuracy goes up, but the test set accuracy goes down. This is called overfitting. "
   ]
  },
  {
   "cell_type": "markdown",
   "metadata": {},
   "source": [
    "## 6 - Further analysis (optional/ungraded exercise) ##\n",
    "\n",
    "Congratulations on building your first image classification model. Let's analyze it further, and examine possible choices for the learning rate $\\alpha$. "
   ]
  },
  {
   "cell_type": "markdown",
   "metadata": {},
   "source": [
    "#### Choice of learning rate ####\n",
    "\n",
    "**Reminder**:\n",
    "In order for Gradient Descent to work you must choose the learning rate wisely. The learning rate $\\alpha$  determines how rapidly we update the parameters. If the learning rate is too large we may \"overshoot\" the optimal value. Similarly, if it is too small we will need too many iterations to converge to the best values. That's why it is crucial to use a well-tuned learning rate.\n",
    "\n",
    "Let's compare the learning curve of our model with several choices of learning rates. Run the cell below. This should take about 1 minute. Feel free also to try different values than the three we have initialized the `learning_rates` variable to contain, and see what happens. "
   ]
  },
  {
   "cell_type": "code",
   "execution_count": 158,
   "metadata": {},
   "outputs": [
    {
     "output_type": "stream",
     "name": "stdout",
     "text": [
      "learning rate is: 0.01\n",
      "train accuracy: 99.52153110047847 %\n",
      "test accuracy: 68.0 %\n",
      "\n",
      "-------------------------------------------------------\n",
      "\n",
      "learning rate is: 0.001\n",
      "train accuracy: 88.99521531100478 %\n",
      "test accuracy: 64.0 %\n",
      "\n",
      "-------------------------------------------------------\n",
      "\n",
      "learning rate is: 0.0001\n",
      "train accuracy: 68.42105263157895 %\n",
      "test accuracy: 36.0 %\n",
      "\n",
      "-------------------------------------------------------\n",
      "\n"
     ]
    },
    {
     "output_type": "display_data",
     "data": {
      "text/plain": "<Figure size 432x288 with 1 Axes>",
      "image/svg+xml": "<?xml version=\"1.0\" encoding=\"utf-8\" standalone=\"no\"?>\r\n<!DOCTYPE svg PUBLIC \"-//W3C//DTD SVG 1.1//EN\"\r\n  \"http://www.w3.org/Graphics/SVG/1.1/DTD/svg11.dtd\">\r\n<!-- Created with matplotlib (https://matplotlib.org/) -->\r\n<svg height=\"262.19625pt\" version=\"1.1\" viewBox=\"0 0 385.78125 262.19625\" width=\"385.78125pt\" xmlns=\"http://www.w3.org/2000/svg\" xmlns:xlink=\"http://www.w3.org/1999/xlink\">\r\n <metadata>\r\n  <rdf:RDF xmlns:cc=\"http://creativecommons.org/ns#\" xmlns:dc=\"http://purl.org/dc/elements/1.1/\" xmlns:rdf=\"http://www.w3.org/1999/02/22-rdf-syntax-ns#\">\r\n   <cc:Work>\r\n    <dc:type rdf:resource=\"http://purl.org/dc/dcmitype/StillImage\"/>\r\n    <dc:date>2020-12-10T17:21:17.127007</dc:date>\r\n    <dc:format>image/svg+xml</dc:format>\r\n    <dc:creator>\r\n     <cc:Agent>\r\n      <dc:title>Matplotlib v3.3.2, https://matplotlib.org/</dc:title>\r\n     </cc:Agent>\r\n    </dc:creator>\r\n   </cc:Work>\r\n  </rdf:RDF>\r\n </metadata>\r\n <defs>\r\n  <style type=\"text/css\">*{stroke-linecap:butt;stroke-linejoin:round;}</style>\r\n </defs>\r\n <g id=\"figure_1\">\r\n  <g id=\"patch_1\">\r\n   <path d=\"M 0 262.19625 \r\nL 385.78125 262.19625 \r\nL 385.78125 0 \r\nL 0 0 \r\nz\r\n\" style=\"fill:none;\"/>\r\n  </g>\r\n  <g id=\"axes_1\">\r\n   <g id=\"patch_2\">\r\n    <path d=\"M 43.78125 224.64 \r\nL 378.58125 224.64 \r\nL 378.58125 7.2 \r\nL 43.78125 7.2 \r\nz\r\n\" style=\"fill:#ffffff;\"/>\r\n   </g>\r\n   <g id=\"matplotlib.axis_1\">\r\n    <g id=\"xtick_1\">\r\n     <g id=\"line2d_1\">\r\n      <defs>\r\n       <path d=\"M 0 0 \r\nL 0 3.5 \r\n\" id=\"me05a42c62b\" style=\"stroke:#000000;stroke-width:0.8;\"/>\r\n      </defs>\r\n      <g>\r\n       <use style=\"stroke:#000000;stroke-width:0.8;\" x=\"58.999432\" xlink:href=\"#me05a42c62b\" y=\"224.64\"/>\r\n      </g>\r\n     </g>\r\n     <g id=\"text_1\">\r\n      <!-- 0 -->\r\n      <g transform=\"translate(55.818182 239.238437)scale(0.1 -0.1)\">\r\n       <defs>\r\n        <path d=\"M 31.78125 66.40625 \r\nQ 24.171875 66.40625 20.328125 58.90625 \r\nQ 16.5 51.421875 16.5 36.375 \r\nQ 16.5 21.390625 20.328125 13.890625 \r\nQ 24.171875 6.390625 31.78125 6.390625 \r\nQ 39.453125 6.390625 43.28125 13.890625 \r\nQ 47.125 21.390625 47.125 36.375 \r\nQ 47.125 51.421875 43.28125 58.90625 \r\nQ 39.453125 66.40625 31.78125 66.40625 \r\nz\r\nM 31.78125 74.21875 \r\nQ 44.046875 74.21875 50.515625 64.515625 \r\nQ 56.984375 54.828125 56.984375 36.375 \r\nQ 56.984375 17.96875 50.515625 8.265625 \r\nQ 44.046875 -1.421875 31.78125 -1.421875 \r\nQ 19.53125 -1.421875 13.0625 8.265625 \r\nQ 6.59375 17.96875 6.59375 36.375 \r\nQ 6.59375 54.828125 13.0625 64.515625 \r\nQ 19.53125 74.21875 31.78125 74.21875 \r\nz\r\n\" id=\"DejaVuSans-48\"/>\r\n       </defs>\r\n       <use xlink:href=\"#DejaVuSans-48\"/>\r\n      </g>\r\n     </g>\r\n    </g>\r\n    <g id=\"xtick_2\">\r\n     <g id=\"line2d_2\">\r\n      <g>\r\n       <use style=\"stroke:#000000;stroke-width:0.8;\" x=\"102.479951\" xlink:href=\"#me05a42c62b\" y=\"224.64\"/>\r\n      </g>\r\n     </g>\r\n     <g id=\"text_2\">\r\n      <!-- 2 -->\r\n      <g transform=\"translate(99.298701 239.238437)scale(0.1 -0.1)\">\r\n       <defs>\r\n        <path d=\"M 19.1875 8.296875 \r\nL 53.609375 8.296875 \r\nL 53.609375 0 \r\nL 7.328125 0 \r\nL 7.328125 8.296875 \r\nQ 12.9375 14.109375 22.625 23.890625 \r\nQ 32.328125 33.6875 34.8125 36.53125 \r\nQ 39.546875 41.84375 41.421875 45.53125 \r\nQ 43.3125 49.21875 43.3125 52.78125 \r\nQ 43.3125 58.59375 39.234375 62.25 \r\nQ 35.15625 65.921875 28.609375 65.921875 \r\nQ 23.96875 65.921875 18.8125 64.3125 \r\nQ 13.671875 62.703125 7.8125 59.421875 \r\nL 7.8125 69.390625 \r\nQ 13.765625 71.78125 18.9375 73 \r\nQ 24.125 74.21875 28.421875 74.21875 \r\nQ 39.75 74.21875 46.484375 68.546875 \r\nQ 53.21875 62.890625 53.21875 53.421875 \r\nQ 53.21875 48.921875 51.53125 44.890625 \r\nQ 49.859375 40.875 45.40625 35.40625 \r\nQ 44.1875 33.984375 37.640625 27.21875 \r\nQ 31.109375 20.453125 19.1875 8.296875 \r\nz\r\n\" id=\"DejaVuSans-50\"/>\r\n       </defs>\r\n       <use xlink:href=\"#DejaVuSans-50\"/>\r\n      </g>\r\n     </g>\r\n    </g>\r\n    <g id=\"xtick_3\">\r\n     <g id=\"line2d_3\">\r\n      <g>\r\n       <use style=\"stroke:#000000;stroke-width:0.8;\" x=\"145.960471\" xlink:href=\"#me05a42c62b\" y=\"224.64\"/>\r\n      </g>\r\n     </g>\r\n     <g id=\"text_3\">\r\n      <!-- 4 -->\r\n      <g transform=\"translate(142.779221 239.238437)scale(0.1 -0.1)\">\r\n       <defs>\r\n        <path d=\"M 37.796875 64.3125 \r\nL 12.890625 25.390625 \r\nL 37.796875 25.390625 \r\nz\r\nM 35.203125 72.90625 \r\nL 47.609375 72.90625 \r\nL 47.609375 25.390625 \r\nL 58.015625 25.390625 \r\nL 58.015625 17.1875 \r\nL 47.609375 17.1875 \r\nL 47.609375 0 \r\nL 37.796875 0 \r\nL 37.796875 17.1875 \r\nL 4.890625 17.1875 \r\nL 4.890625 26.703125 \r\nz\r\n\" id=\"DejaVuSans-52\"/>\r\n       </defs>\r\n       <use xlink:href=\"#DejaVuSans-52\"/>\r\n      </g>\r\n     </g>\r\n    </g>\r\n    <g id=\"xtick_4\">\r\n     <g id=\"line2d_4\">\r\n      <g>\r\n       <use style=\"stroke:#000000;stroke-width:0.8;\" x=\"189.44099\" xlink:href=\"#me05a42c62b\" y=\"224.64\"/>\r\n      </g>\r\n     </g>\r\n     <g id=\"text_4\">\r\n      <!-- 6 -->\r\n      <g transform=\"translate(186.25974 239.238437)scale(0.1 -0.1)\">\r\n       <defs>\r\n        <path d=\"M 33.015625 40.375 \r\nQ 26.375 40.375 22.484375 35.828125 \r\nQ 18.609375 31.296875 18.609375 23.390625 \r\nQ 18.609375 15.53125 22.484375 10.953125 \r\nQ 26.375 6.390625 33.015625 6.390625 \r\nQ 39.65625 6.390625 43.53125 10.953125 \r\nQ 47.40625 15.53125 47.40625 23.390625 \r\nQ 47.40625 31.296875 43.53125 35.828125 \r\nQ 39.65625 40.375 33.015625 40.375 \r\nz\r\nM 52.59375 71.296875 \r\nL 52.59375 62.3125 \r\nQ 48.875 64.0625 45.09375 64.984375 \r\nQ 41.3125 65.921875 37.59375 65.921875 \r\nQ 27.828125 65.921875 22.671875 59.328125 \r\nQ 17.53125 52.734375 16.796875 39.40625 \r\nQ 19.671875 43.65625 24.015625 45.921875 \r\nQ 28.375 48.1875 33.59375 48.1875 \r\nQ 44.578125 48.1875 50.953125 41.515625 \r\nQ 57.328125 34.859375 57.328125 23.390625 \r\nQ 57.328125 12.15625 50.6875 5.359375 \r\nQ 44.046875 -1.421875 33.015625 -1.421875 \r\nQ 20.359375 -1.421875 13.671875 8.265625 \r\nQ 6.984375 17.96875 6.984375 36.375 \r\nQ 6.984375 53.65625 15.1875 63.9375 \r\nQ 23.390625 74.21875 37.203125 74.21875 \r\nQ 40.921875 74.21875 44.703125 73.484375 \r\nQ 48.484375 72.75 52.59375 71.296875 \r\nz\r\n\" id=\"DejaVuSans-54\"/>\r\n       </defs>\r\n       <use xlink:href=\"#DejaVuSans-54\"/>\r\n      </g>\r\n     </g>\r\n    </g>\r\n    <g id=\"xtick_5\">\r\n     <g id=\"line2d_5\">\r\n      <g>\r\n       <use style=\"stroke:#000000;stroke-width:0.8;\" x=\"232.92151\" xlink:href=\"#me05a42c62b\" y=\"224.64\"/>\r\n      </g>\r\n     </g>\r\n     <g id=\"text_5\">\r\n      <!-- 8 -->\r\n      <g transform=\"translate(229.74026 239.238437)scale(0.1 -0.1)\">\r\n       <defs>\r\n        <path d=\"M 31.78125 34.625 \r\nQ 24.75 34.625 20.71875 30.859375 \r\nQ 16.703125 27.09375 16.703125 20.515625 \r\nQ 16.703125 13.921875 20.71875 10.15625 \r\nQ 24.75 6.390625 31.78125 6.390625 \r\nQ 38.8125 6.390625 42.859375 10.171875 \r\nQ 46.921875 13.96875 46.921875 20.515625 \r\nQ 46.921875 27.09375 42.890625 30.859375 \r\nQ 38.875 34.625 31.78125 34.625 \r\nz\r\nM 21.921875 38.8125 \r\nQ 15.578125 40.375 12.03125 44.71875 \r\nQ 8.5 49.078125 8.5 55.328125 \r\nQ 8.5 64.0625 14.71875 69.140625 \r\nQ 20.953125 74.21875 31.78125 74.21875 \r\nQ 42.671875 74.21875 48.875 69.140625 \r\nQ 55.078125 64.0625 55.078125 55.328125 \r\nQ 55.078125 49.078125 51.53125 44.71875 \r\nQ 48 40.375 41.703125 38.8125 \r\nQ 48.828125 37.15625 52.796875 32.3125 \r\nQ 56.78125 27.484375 56.78125 20.515625 \r\nQ 56.78125 9.90625 50.3125 4.234375 \r\nQ 43.84375 -1.421875 31.78125 -1.421875 \r\nQ 19.734375 -1.421875 13.25 4.234375 \r\nQ 6.78125 9.90625 6.78125 20.515625 \r\nQ 6.78125 27.484375 10.78125 32.3125 \r\nQ 14.796875 37.15625 21.921875 38.8125 \r\nz\r\nM 18.3125 54.390625 \r\nQ 18.3125 48.734375 21.84375 45.5625 \r\nQ 25.390625 42.390625 31.78125 42.390625 \r\nQ 38.140625 42.390625 41.71875 45.5625 \r\nQ 45.3125 48.734375 45.3125 54.390625 \r\nQ 45.3125 60.0625 41.71875 63.234375 \r\nQ 38.140625 66.40625 31.78125 66.40625 \r\nQ 25.390625 66.40625 21.84375 63.234375 \r\nQ 18.3125 60.0625 18.3125 54.390625 \r\nz\r\n\" id=\"DejaVuSans-56\"/>\r\n       </defs>\r\n       <use xlink:href=\"#DejaVuSans-56\"/>\r\n      </g>\r\n     </g>\r\n    </g>\r\n    <g id=\"xtick_6\">\r\n     <g id=\"line2d_6\">\r\n      <g>\r\n       <use style=\"stroke:#000000;stroke-width:0.8;\" x=\"276.402029\" xlink:href=\"#me05a42c62b\" y=\"224.64\"/>\r\n      </g>\r\n     </g>\r\n     <g id=\"text_6\">\r\n      <!-- 10 -->\r\n      <g transform=\"translate(270.039529 239.238437)scale(0.1 -0.1)\">\r\n       <defs>\r\n        <path d=\"M 12.40625 8.296875 \r\nL 28.515625 8.296875 \r\nL 28.515625 63.921875 \r\nL 10.984375 60.40625 \r\nL 10.984375 69.390625 \r\nL 28.421875 72.90625 \r\nL 38.28125 72.90625 \r\nL 38.28125 8.296875 \r\nL 54.390625 8.296875 \r\nL 54.390625 0 \r\nL 12.40625 0 \r\nz\r\n\" id=\"DejaVuSans-49\"/>\r\n       </defs>\r\n       <use xlink:href=\"#DejaVuSans-49\"/>\r\n       <use x=\"63.623047\" xlink:href=\"#DejaVuSans-48\"/>\r\n      </g>\r\n     </g>\r\n    </g>\r\n    <g id=\"xtick_7\">\r\n     <g id=\"line2d_7\">\r\n      <g>\r\n       <use style=\"stroke:#000000;stroke-width:0.8;\" x=\"319.882549\" xlink:href=\"#me05a42c62b\" y=\"224.64\"/>\r\n      </g>\r\n     </g>\r\n     <g id=\"text_7\">\r\n      <!-- 12 -->\r\n      <g transform=\"translate(313.520049 239.238437)scale(0.1 -0.1)\">\r\n       <use xlink:href=\"#DejaVuSans-49\"/>\r\n       <use x=\"63.623047\" xlink:href=\"#DejaVuSans-50\"/>\r\n      </g>\r\n     </g>\r\n    </g>\r\n    <g id=\"xtick_8\">\r\n     <g id=\"line2d_8\">\r\n      <g>\r\n       <use style=\"stroke:#000000;stroke-width:0.8;\" x=\"363.363068\" xlink:href=\"#me05a42c62b\" y=\"224.64\"/>\r\n      </g>\r\n     </g>\r\n     <g id=\"text_8\">\r\n      <!-- 14 -->\r\n      <g transform=\"translate(357.000568 239.238437)scale(0.1 -0.1)\">\r\n       <use xlink:href=\"#DejaVuSans-49\"/>\r\n       <use x=\"63.623047\" xlink:href=\"#DejaVuSans-52\"/>\r\n      </g>\r\n     </g>\r\n    </g>\r\n    <g id=\"text_9\">\r\n     <!-- iterations (hundreds) -->\r\n     <g transform=\"translate(158.484375 252.916562)scale(0.1 -0.1)\">\r\n      <defs>\r\n       <path d=\"M 9.421875 54.6875 \r\nL 18.40625 54.6875 \r\nL 18.40625 0 \r\nL 9.421875 0 \r\nz\r\nM 9.421875 75.984375 \r\nL 18.40625 75.984375 \r\nL 18.40625 64.59375 \r\nL 9.421875 64.59375 \r\nz\r\n\" id=\"DejaVuSans-105\"/>\r\n       <path d=\"M 18.3125 70.21875 \r\nL 18.3125 54.6875 \r\nL 36.8125 54.6875 \r\nL 36.8125 47.703125 \r\nL 18.3125 47.703125 \r\nL 18.3125 18.015625 \r\nQ 18.3125 11.328125 20.140625 9.421875 \r\nQ 21.96875 7.515625 27.59375 7.515625 \r\nL 36.8125 7.515625 \r\nL 36.8125 0 \r\nL 27.59375 0 \r\nQ 17.1875 0 13.234375 3.875 \r\nQ 9.28125 7.765625 9.28125 18.015625 \r\nL 9.28125 47.703125 \r\nL 2.6875 47.703125 \r\nL 2.6875 54.6875 \r\nL 9.28125 54.6875 \r\nL 9.28125 70.21875 \r\nz\r\n\" id=\"DejaVuSans-116\"/>\r\n       <path d=\"M 56.203125 29.59375 \r\nL 56.203125 25.203125 \r\nL 14.890625 25.203125 \r\nQ 15.484375 15.921875 20.484375 11.0625 \r\nQ 25.484375 6.203125 34.421875 6.203125 \r\nQ 39.59375 6.203125 44.453125 7.46875 \r\nQ 49.3125 8.734375 54.109375 11.28125 \r\nL 54.109375 2.78125 \r\nQ 49.265625 0.734375 44.1875 -0.34375 \r\nQ 39.109375 -1.421875 33.890625 -1.421875 \r\nQ 20.796875 -1.421875 13.15625 6.1875 \r\nQ 5.515625 13.8125 5.515625 26.8125 \r\nQ 5.515625 40.234375 12.765625 48.109375 \r\nQ 20.015625 56 32.328125 56 \r\nQ 43.359375 56 49.78125 48.890625 \r\nQ 56.203125 41.796875 56.203125 29.59375 \r\nz\r\nM 47.21875 32.234375 \r\nQ 47.125 39.59375 43.09375 43.984375 \r\nQ 39.0625 48.390625 32.421875 48.390625 \r\nQ 24.90625 48.390625 20.390625 44.140625 \r\nQ 15.875 39.890625 15.1875 32.171875 \r\nz\r\n\" id=\"DejaVuSans-101\"/>\r\n       <path d=\"M 41.109375 46.296875 \r\nQ 39.59375 47.171875 37.8125 47.578125 \r\nQ 36.03125 48 33.890625 48 \r\nQ 26.265625 48 22.1875 43.046875 \r\nQ 18.109375 38.09375 18.109375 28.8125 \r\nL 18.109375 0 \r\nL 9.078125 0 \r\nL 9.078125 54.6875 \r\nL 18.109375 54.6875 \r\nL 18.109375 46.1875 \r\nQ 20.953125 51.171875 25.484375 53.578125 \r\nQ 30.03125 56 36.53125 56 \r\nQ 37.453125 56 38.578125 55.875 \r\nQ 39.703125 55.765625 41.0625 55.515625 \r\nz\r\n\" id=\"DejaVuSans-114\"/>\r\n       <path d=\"M 34.28125 27.484375 \r\nQ 23.390625 27.484375 19.1875 25 \r\nQ 14.984375 22.515625 14.984375 16.5 \r\nQ 14.984375 11.71875 18.140625 8.90625 \r\nQ 21.296875 6.109375 26.703125 6.109375 \r\nQ 34.1875 6.109375 38.703125 11.40625 \r\nQ 43.21875 16.703125 43.21875 25.484375 \r\nL 43.21875 27.484375 \r\nz\r\nM 52.203125 31.203125 \r\nL 52.203125 0 \r\nL 43.21875 0 \r\nL 43.21875 8.296875 \r\nQ 40.140625 3.328125 35.546875 0.953125 \r\nQ 30.953125 -1.421875 24.3125 -1.421875 \r\nQ 15.921875 -1.421875 10.953125 3.296875 \r\nQ 6 8.015625 6 15.921875 \r\nQ 6 25.140625 12.171875 29.828125 \r\nQ 18.359375 34.515625 30.609375 34.515625 \r\nL 43.21875 34.515625 \r\nL 43.21875 35.40625 \r\nQ 43.21875 41.609375 39.140625 45 \r\nQ 35.0625 48.390625 27.6875 48.390625 \r\nQ 23 48.390625 18.546875 47.265625 \r\nQ 14.109375 46.140625 10.015625 43.890625 \r\nL 10.015625 52.203125 \r\nQ 14.9375 54.109375 19.578125 55.046875 \r\nQ 24.21875 56 28.609375 56 \r\nQ 40.484375 56 46.34375 49.84375 \r\nQ 52.203125 43.703125 52.203125 31.203125 \r\nz\r\n\" id=\"DejaVuSans-97\"/>\r\n       <path d=\"M 30.609375 48.390625 \r\nQ 23.390625 48.390625 19.1875 42.75 \r\nQ 14.984375 37.109375 14.984375 27.296875 \r\nQ 14.984375 17.484375 19.15625 11.84375 \r\nQ 23.34375 6.203125 30.609375 6.203125 \r\nQ 37.796875 6.203125 41.984375 11.859375 \r\nQ 46.1875 17.53125 46.1875 27.296875 \r\nQ 46.1875 37.015625 41.984375 42.703125 \r\nQ 37.796875 48.390625 30.609375 48.390625 \r\nz\r\nM 30.609375 56 \r\nQ 42.328125 56 49.015625 48.375 \r\nQ 55.71875 40.765625 55.71875 27.296875 \r\nQ 55.71875 13.875 49.015625 6.21875 \r\nQ 42.328125 -1.421875 30.609375 -1.421875 \r\nQ 18.84375 -1.421875 12.171875 6.21875 \r\nQ 5.515625 13.875 5.515625 27.296875 \r\nQ 5.515625 40.765625 12.171875 48.375 \r\nQ 18.84375 56 30.609375 56 \r\nz\r\n\" id=\"DejaVuSans-111\"/>\r\n       <path d=\"M 54.890625 33.015625 \r\nL 54.890625 0 \r\nL 45.90625 0 \r\nL 45.90625 32.71875 \r\nQ 45.90625 40.484375 42.875 44.328125 \r\nQ 39.84375 48.1875 33.796875 48.1875 \r\nQ 26.515625 48.1875 22.3125 43.546875 \r\nQ 18.109375 38.921875 18.109375 30.90625 \r\nL 18.109375 0 \r\nL 9.078125 0 \r\nL 9.078125 54.6875 \r\nL 18.109375 54.6875 \r\nL 18.109375 46.1875 \r\nQ 21.34375 51.125 25.703125 53.5625 \r\nQ 30.078125 56 35.796875 56 \r\nQ 45.21875 56 50.046875 50.171875 \r\nQ 54.890625 44.34375 54.890625 33.015625 \r\nz\r\n\" id=\"DejaVuSans-110\"/>\r\n       <path d=\"M 44.28125 53.078125 \r\nL 44.28125 44.578125 \r\nQ 40.484375 46.53125 36.375 47.5 \r\nQ 32.28125 48.484375 27.875 48.484375 \r\nQ 21.1875 48.484375 17.84375 46.4375 \r\nQ 14.5 44.390625 14.5 40.28125 \r\nQ 14.5 37.15625 16.890625 35.375 \r\nQ 19.28125 33.59375 26.515625 31.984375 \r\nL 29.59375 31.296875 \r\nQ 39.15625 29.25 43.1875 25.515625 \r\nQ 47.21875 21.78125 47.21875 15.09375 \r\nQ 47.21875 7.46875 41.1875 3.015625 \r\nQ 35.15625 -1.421875 24.609375 -1.421875 \r\nQ 20.21875 -1.421875 15.453125 -0.5625 \r\nQ 10.6875 0.296875 5.421875 2 \r\nL 5.421875 11.28125 \r\nQ 10.40625 8.6875 15.234375 7.390625 \r\nQ 20.0625 6.109375 24.8125 6.109375 \r\nQ 31.15625 6.109375 34.5625 8.28125 \r\nQ 37.984375 10.453125 37.984375 14.40625 \r\nQ 37.984375 18.0625 35.515625 20.015625 \r\nQ 33.0625 21.96875 24.703125 23.78125 \r\nL 21.578125 24.515625 \r\nQ 13.234375 26.265625 9.515625 29.90625 \r\nQ 5.8125 33.546875 5.8125 39.890625 \r\nQ 5.8125 47.609375 11.28125 51.796875 \r\nQ 16.75 56 26.8125 56 \r\nQ 31.78125 56 36.171875 55.265625 \r\nQ 40.578125 54.546875 44.28125 53.078125 \r\nz\r\n\" id=\"DejaVuSans-115\"/>\r\n       <path id=\"DejaVuSans-32\"/>\r\n       <path d=\"M 31 75.875 \r\nQ 24.46875 64.65625 21.28125 53.65625 \r\nQ 18.109375 42.671875 18.109375 31.390625 \r\nQ 18.109375 20.125 21.3125 9.0625 \r\nQ 24.515625 -2 31 -13.1875 \r\nL 23.1875 -13.1875 \r\nQ 15.875 -1.703125 12.234375 9.375 \r\nQ 8.59375 20.453125 8.59375 31.390625 \r\nQ 8.59375 42.28125 12.203125 53.3125 \r\nQ 15.828125 64.359375 23.1875 75.875 \r\nz\r\n\" id=\"DejaVuSans-40\"/>\r\n       <path d=\"M 54.890625 33.015625 \r\nL 54.890625 0 \r\nL 45.90625 0 \r\nL 45.90625 32.71875 \r\nQ 45.90625 40.484375 42.875 44.328125 \r\nQ 39.84375 48.1875 33.796875 48.1875 \r\nQ 26.515625 48.1875 22.3125 43.546875 \r\nQ 18.109375 38.921875 18.109375 30.90625 \r\nL 18.109375 0 \r\nL 9.078125 0 \r\nL 9.078125 75.984375 \r\nL 18.109375 75.984375 \r\nL 18.109375 46.1875 \r\nQ 21.34375 51.125 25.703125 53.5625 \r\nQ 30.078125 56 35.796875 56 \r\nQ 45.21875 56 50.046875 50.171875 \r\nQ 54.890625 44.34375 54.890625 33.015625 \r\nz\r\n\" id=\"DejaVuSans-104\"/>\r\n       <path d=\"M 8.5 21.578125 \r\nL 8.5 54.6875 \r\nL 17.484375 54.6875 \r\nL 17.484375 21.921875 \r\nQ 17.484375 14.15625 20.5 10.265625 \r\nQ 23.53125 6.390625 29.59375 6.390625 \r\nQ 36.859375 6.390625 41.078125 11.03125 \r\nQ 45.3125 15.671875 45.3125 23.6875 \r\nL 45.3125 54.6875 \r\nL 54.296875 54.6875 \r\nL 54.296875 0 \r\nL 45.3125 0 \r\nL 45.3125 8.40625 \r\nQ 42.046875 3.421875 37.71875 1 \r\nQ 33.40625 -1.421875 27.6875 -1.421875 \r\nQ 18.265625 -1.421875 13.375 4.4375 \r\nQ 8.5 10.296875 8.5 21.578125 \r\nz\r\nM 31.109375 56 \r\nz\r\n\" id=\"DejaVuSans-117\"/>\r\n       <path d=\"M 45.40625 46.390625 \r\nL 45.40625 75.984375 \r\nL 54.390625 75.984375 \r\nL 54.390625 0 \r\nL 45.40625 0 \r\nL 45.40625 8.203125 \r\nQ 42.578125 3.328125 38.25 0.953125 \r\nQ 33.9375 -1.421875 27.875 -1.421875 \r\nQ 17.96875 -1.421875 11.734375 6.484375 \r\nQ 5.515625 14.40625 5.515625 27.296875 \r\nQ 5.515625 40.1875 11.734375 48.09375 \r\nQ 17.96875 56 27.875 56 \r\nQ 33.9375 56 38.25 53.625 \r\nQ 42.578125 51.265625 45.40625 46.390625 \r\nz\r\nM 14.796875 27.296875 \r\nQ 14.796875 17.390625 18.875 11.75 \r\nQ 22.953125 6.109375 30.078125 6.109375 \r\nQ 37.203125 6.109375 41.296875 11.75 \r\nQ 45.40625 17.390625 45.40625 27.296875 \r\nQ 45.40625 37.203125 41.296875 42.84375 \r\nQ 37.203125 48.484375 30.078125 48.484375 \r\nQ 22.953125 48.484375 18.875 42.84375 \r\nQ 14.796875 37.203125 14.796875 27.296875 \r\nz\r\n\" id=\"DejaVuSans-100\"/>\r\n       <path d=\"M 8.015625 75.875 \r\nL 15.828125 75.875 \r\nQ 23.140625 64.359375 26.78125 53.3125 \r\nQ 30.421875 42.28125 30.421875 31.390625 \r\nQ 30.421875 20.453125 26.78125 9.375 \r\nQ 23.140625 -1.703125 15.828125 -13.1875 \r\nL 8.015625 -13.1875 \r\nQ 14.5 -2 17.703125 9.0625 \r\nQ 20.90625 20.125 20.90625 31.390625 \r\nQ 20.90625 42.671875 17.703125 53.65625 \r\nQ 14.5 64.65625 8.015625 75.875 \r\nz\r\n\" id=\"DejaVuSans-41\"/>\r\n      </defs>\r\n      <use xlink:href=\"#DejaVuSans-105\"/>\r\n      <use x=\"27.783203\" xlink:href=\"#DejaVuSans-116\"/>\r\n      <use x=\"66.992188\" xlink:href=\"#DejaVuSans-101\"/>\r\n      <use x=\"128.515625\" xlink:href=\"#DejaVuSans-114\"/>\r\n      <use x=\"169.628906\" xlink:href=\"#DejaVuSans-97\"/>\r\n      <use x=\"230.908203\" xlink:href=\"#DejaVuSans-116\"/>\r\n      <use x=\"270.117188\" xlink:href=\"#DejaVuSans-105\"/>\r\n      <use x=\"297.900391\" xlink:href=\"#DejaVuSans-111\"/>\r\n      <use x=\"359.082031\" xlink:href=\"#DejaVuSans-110\"/>\r\n      <use x=\"422.460938\" xlink:href=\"#DejaVuSans-115\"/>\r\n      <use x=\"474.560547\" xlink:href=\"#DejaVuSans-32\"/>\r\n      <use x=\"506.347656\" xlink:href=\"#DejaVuSans-40\"/>\r\n      <use x=\"545.361328\" xlink:href=\"#DejaVuSans-104\"/>\r\n      <use x=\"608.740234\" xlink:href=\"#DejaVuSans-117\"/>\r\n      <use x=\"672.119141\" xlink:href=\"#DejaVuSans-110\"/>\r\n      <use x=\"735.498047\" xlink:href=\"#DejaVuSans-100\"/>\r\n      <use x=\"798.974609\" xlink:href=\"#DejaVuSans-114\"/>\r\n      <use x=\"837.837891\" xlink:href=\"#DejaVuSans-101\"/>\r\n      <use x=\"899.361328\" xlink:href=\"#DejaVuSans-100\"/>\r\n      <use x=\"962.837891\" xlink:href=\"#DejaVuSans-115\"/>\r\n      <use x=\"1014.9375\" xlink:href=\"#DejaVuSans-41\"/>\r\n     </g>\r\n    </g>\r\n   </g>\r\n   <g id=\"matplotlib.axis_2\">\r\n    <g id=\"ytick_1\">\r\n     <g id=\"line2d_9\">\r\n      <defs>\r\n       <path d=\"M 0 0 \r\nL -3.5 0 \r\n\" id=\"mb9b8e5870b\" style=\"stroke:#000000;stroke-width:0.8;\"/>\r\n      </defs>\r\n      <g>\r\n       <use style=\"stroke:#000000;stroke-width:0.8;\" x=\"43.78125\" xlink:href=\"#mb9b8e5870b\" y=\"212.607331\"/>\r\n      </g>\r\n     </g>\r\n     <g id=\"text_10\">\r\n      <!-- 0.1 -->\r\n      <g transform=\"translate(20.878125 216.40655)scale(0.1 -0.1)\">\r\n       <defs>\r\n        <path d=\"M 10.6875 12.40625 \r\nL 21 12.40625 \r\nL 21 0 \r\nL 10.6875 0 \r\nz\r\n\" id=\"DejaVuSans-46\"/>\r\n       </defs>\r\n       <use xlink:href=\"#DejaVuSans-48\"/>\r\n       <use x=\"63.623047\" xlink:href=\"#DejaVuSans-46\"/>\r\n       <use x=\"95.410156\" xlink:href=\"#DejaVuSans-49\"/>\r\n      </g>\r\n     </g>\r\n    </g>\r\n    <g id=\"ytick_2\">\r\n     <g id=\"line2d_10\">\r\n      <g>\r\n       <use style=\"stroke:#000000;stroke-width:0.8;\" x=\"43.78125\" xlink:href=\"#mb9b8e5870b\" y=\"185.598344\"/>\r\n      </g>\r\n     </g>\r\n     <g id=\"text_11\">\r\n      <!-- 0.2 -->\r\n      <g transform=\"translate(20.878125 189.397563)scale(0.1 -0.1)\">\r\n       <use xlink:href=\"#DejaVuSans-48\"/>\r\n       <use x=\"63.623047\" xlink:href=\"#DejaVuSans-46\"/>\r\n       <use x=\"95.410156\" xlink:href=\"#DejaVuSans-50\"/>\r\n      </g>\r\n     </g>\r\n    </g>\r\n    <g id=\"ytick_3\">\r\n     <g id=\"line2d_11\">\r\n      <g>\r\n       <use style=\"stroke:#000000;stroke-width:0.8;\" x=\"43.78125\" xlink:href=\"#mb9b8e5870b\" y=\"158.589357\"/>\r\n      </g>\r\n     </g>\r\n     <g id=\"text_12\">\r\n      <!-- 0.3 -->\r\n      <g transform=\"translate(20.878125 162.388576)scale(0.1 -0.1)\">\r\n       <defs>\r\n        <path d=\"M 40.578125 39.3125 \r\nQ 47.65625 37.796875 51.625 33 \r\nQ 55.609375 28.21875 55.609375 21.1875 \r\nQ 55.609375 10.40625 48.1875 4.484375 \r\nQ 40.765625 -1.421875 27.09375 -1.421875 \r\nQ 22.515625 -1.421875 17.65625 -0.515625 \r\nQ 12.796875 0.390625 7.625 2.203125 \r\nL 7.625 11.71875 \r\nQ 11.71875 9.328125 16.59375 8.109375 \r\nQ 21.484375 6.890625 26.8125 6.890625 \r\nQ 36.078125 6.890625 40.9375 10.546875 \r\nQ 45.796875 14.203125 45.796875 21.1875 \r\nQ 45.796875 27.640625 41.28125 31.265625 \r\nQ 36.765625 34.90625 28.71875 34.90625 \r\nL 20.21875 34.90625 \r\nL 20.21875 43.015625 \r\nL 29.109375 43.015625 \r\nQ 36.375 43.015625 40.234375 45.921875 \r\nQ 44.09375 48.828125 44.09375 54.296875 \r\nQ 44.09375 59.90625 40.109375 62.90625 \r\nQ 36.140625 65.921875 28.71875 65.921875 \r\nQ 24.65625 65.921875 20.015625 65.03125 \r\nQ 15.375 64.15625 9.8125 62.3125 \r\nL 9.8125 71.09375 \r\nQ 15.4375 72.65625 20.34375 73.4375 \r\nQ 25.25 74.21875 29.59375 74.21875 \r\nQ 40.828125 74.21875 47.359375 69.109375 \r\nQ 53.90625 64.015625 53.90625 55.328125 \r\nQ 53.90625 49.265625 50.4375 45.09375 \r\nQ 46.96875 40.921875 40.578125 39.3125 \r\nz\r\n\" id=\"DejaVuSans-51\"/>\r\n       </defs>\r\n       <use xlink:href=\"#DejaVuSans-48\"/>\r\n       <use x=\"63.623047\" xlink:href=\"#DejaVuSans-46\"/>\r\n       <use x=\"95.410156\" xlink:href=\"#DejaVuSans-51\"/>\r\n      </g>\r\n     </g>\r\n    </g>\r\n    <g id=\"ytick_4\">\r\n     <g id=\"line2d_12\">\r\n      <g>\r\n       <use style=\"stroke:#000000;stroke-width:0.8;\" x=\"43.78125\" xlink:href=\"#mb9b8e5870b\" y=\"131.58037\"/>\r\n      </g>\r\n     </g>\r\n     <g id=\"text_13\">\r\n      <!-- 0.4 -->\r\n      <g transform=\"translate(20.878125 135.379588)scale(0.1 -0.1)\">\r\n       <use xlink:href=\"#DejaVuSans-48\"/>\r\n       <use x=\"63.623047\" xlink:href=\"#DejaVuSans-46\"/>\r\n       <use x=\"95.410156\" xlink:href=\"#DejaVuSans-52\"/>\r\n      </g>\r\n     </g>\r\n    </g>\r\n    <g id=\"ytick_5\">\r\n     <g id=\"line2d_13\">\r\n      <g>\r\n       <use style=\"stroke:#000000;stroke-width:0.8;\" x=\"43.78125\" xlink:href=\"#mb9b8e5870b\" y=\"104.571382\"/>\r\n      </g>\r\n     </g>\r\n     <g id=\"text_14\">\r\n      <!-- 0.5 -->\r\n      <g transform=\"translate(20.878125 108.370601)scale(0.1 -0.1)\">\r\n       <defs>\r\n        <path d=\"M 10.796875 72.90625 \r\nL 49.515625 72.90625 \r\nL 49.515625 64.59375 \r\nL 19.828125 64.59375 \r\nL 19.828125 46.734375 \r\nQ 21.96875 47.46875 24.109375 47.828125 \r\nQ 26.265625 48.1875 28.421875 48.1875 \r\nQ 40.625 48.1875 47.75 41.5 \r\nQ 54.890625 34.8125 54.890625 23.390625 \r\nQ 54.890625 11.625 47.5625 5.09375 \r\nQ 40.234375 -1.421875 26.90625 -1.421875 \r\nQ 22.3125 -1.421875 17.546875 -0.640625 \r\nQ 12.796875 0.140625 7.71875 1.703125 \r\nL 7.71875 11.625 \r\nQ 12.109375 9.234375 16.796875 8.0625 \r\nQ 21.484375 6.890625 26.703125 6.890625 \r\nQ 35.15625 6.890625 40.078125 11.328125 \r\nQ 45.015625 15.765625 45.015625 23.390625 \r\nQ 45.015625 31 40.078125 35.4375 \r\nQ 35.15625 39.890625 26.703125 39.890625 \r\nQ 22.75 39.890625 18.8125 39.015625 \r\nQ 14.890625 38.140625 10.796875 36.28125 \r\nz\r\n\" id=\"DejaVuSans-53\"/>\r\n       </defs>\r\n       <use xlink:href=\"#DejaVuSans-48\"/>\r\n       <use x=\"63.623047\" xlink:href=\"#DejaVuSans-46\"/>\r\n       <use x=\"95.410156\" xlink:href=\"#DejaVuSans-53\"/>\r\n      </g>\r\n     </g>\r\n    </g>\r\n    <g id=\"ytick_6\">\r\n     <g id=\"line2d_14\">\r\n      <g>\r\n       <use style=\"stroke:#000000;stroke-width:0.8;\" x=\"43.78125\" xlink:href=\"#mb9b8e5870b\" y=\"77.562395\"/>\r\n      </g>\r\n     </g>\r\n     <g id=\"text_15\">\r\n      <!-- 0.6 -->\r\n      <g transform=\"translate(20.878125 81.361614)scale(0.1 -0.1)\">\r\n       <use xlink:href=\"#DejaVuSans-48\"/>\r\n       <use x=\"63.623047\" xlink:href=\"#DejaVuSans-46\"/>\r\n       <use x=\"95.410156\" xlink:href=\"#DejaVuSans-54\"/>\r\n      </g>\r\n     </g>\r\n    </g>\r\n    <g id=\"ytick_7\">\r\n     <g id=\"line2d_15\">\r\n      <g>\r\n       <use style=\"stroke:#000000;stroke-width:0.8;\" x=\"43.78125\" xlink:href=\"#mb9b8e5870b\" y=\"50.553408\"/>\r\n      </g>\r\n     </g>\r\n     <g id=\"text_16\">\r\n      <!-- 0.7 -->\r\n      <g transform=\"translate(20.878125 54.352627)scale(0.1 -0.1)\">\r\n       <defs>\r\n        <path d=\"M 8.203125 72.90625 \r\nL 55.078125 72.90625 \r\nL 55.078125 68.703125 \r\nL 28.609375 0 \r\nL 18.3125 0 \r\nL 43.21875 64.59375 \r\nL 8.203125 64.59375 \r\nz\r\n\" id=\"DejaVuSans-55\"/>\r\n       </defs>\r\n       <use xlink:href=\"#DejaVuSans-48\"/>\r\n       <use x=\"63.623047\" xlink:href=\"#DejaVuSans-46\"/>\r\n       <use x=\"95.410156\" xlink:href=\"#DejaVuSans-55\"/>\r\n      </g>\r\n     </g>\r\n    </g>\r\n    <g id=\"ytick_8\">\r\n     <g id=\"line2d_16\">\r\n      <g>\r\n       <use style=\"stroke:#000000;stroke-width:0.8;\" x=\"43.78125\" xlink:href=\"#mb9b8e5870b\" y=\"23.544421\"/>\r\n      </g>\r\n     </g>\r\n     <g id=\"text_17\">\r\n      <!-- 0.8 -->\r\n      <g transform=\"translate(20.878125 27.343639)scale(0.1 -0.1)\">\r\n       <use xlink:href=\"#DejaVuSans-48\"/>\r\n       <use x=\"63.623047\" xlink:href=\"#DejaVuSans-46\"/>\r\n       <use x=\"95.410156\" xlink:href=\"#DejaVuSans-56\"/>\r\n      </g>\r\n     </g>\r\n    </g>\r\n    <g id=\"text_18\">\r\n     <!-- cost -->\r\n     <g transform=\"translate(14.798438 126.293437)rotate(-90)scale(0.1 -0.1)\">\r\n      <defs>\r\n       <path d=\"M 48.78125 52.59375 \r\nL 48.78125 44.1875 \r\nQ 44.96875 46.296875 41.140625 47.34375 \r\nQ 37.3125 48.390625 33.40625 48.390625 \r\nQ 24.65625 48.390625 19.8125 42.84375 \r\nQ 14.984375 37.3125 14.984375 27.296875 \r\nQ 14.984375 17.28125 19.8125 11.734375 \r\nQ 24.65625 6.203125 33.40625 6.203125 \r\nQ 37.3125 6.203125 41.140625 7.25 \r\nQ 44.96875 8.296875 48.78125 10.40625 \r\nL 48.78125 2.09375 \r\nQ 45.015625 0.34375 40.984375 -0.53125 \r\nQ 36.96875 -1.421875 32.421875 -1.421875 \r\nQ 20.0625 -1.421875 12.78125 6.34375 \r\nQ 5.515625 14.109375 5.515625 27.296875 \r\nQ 5.515625 40.671875 12.859375 48.328125 \r\nQ 20.21875 56 33.015625 56 \r\nQ 37.15625 56 41.109375 55.140625 \r\nQ 45.0625 54.296875 48.78125 52.59375 \r\nz\r\n\" id=\"DejaVuSans-99\"/>\r\n      </defs>\r\n      <use xlink:href=\"#DejaVuSans-99\"/>\r\n      <use x=\"54.980469\" xlink:href=\"#DejaVuSans-111\"/>\r\n      <use x=\"116.162109\" xlink:href=\"#DejaVuSans-115\"/>\r\n      <use x=\"168.261719\" xlink:href=\"#DejaVuSans-116\"/>\r\n     </g>\r\n    </g>\r\n   </g>\r\n   <g id=\"line2d_17\">\r\n    <path clip-path=\"url(#p944f4808f2)\" d=\"M 58.999432 52.404285 \r\nL 80.739692 17.083636 \r\nL 102.479951 126.463638 \r\nL 124.220211 72.876416 \r\nL 145.960471 98.598136 \r\nL 167.700731 134.900112 \r\nL 189.44099 175.806382 \r\nL 211.18125 197.962482 \r\nL 232.92151 203.065643 \r\nL 254.661769 205.862787 \r\nL 276.402029 208.156701 \r\nL 298.142289 210.124527 \r\nL 319.882549 211.849874 \r\nL 341.622808 213.38254 \r\nL 363.363068 214.756364 \r\n\" style=\"fill:none;stroke:#1f77b4;stroke-linecap:square;stroke-width:1.5;\"/>\r\n   </g>\r\n   <g id=\"line2d_18\">\r\n    <path clip-path=\"url(#p944f4808f2)\" d=\"M 58.999432 52.404285 \r\nL 80.739692 79.915033 \r\nL 102.479951 89.501418 \r\nL 124.220211 96.74512 \r\nL 145.960471 102.712815 \r\nL 167.700731 107.844908 \r\nL 189.44099 112.374744 \r\nL 211.18125 116.442964 \r\nL 232.92151 120.142002 \r\nL 254.661769 123.53663 \r\nL 276.402029 126.674505 \r\nL 298.142289 129.592035 \r\nL 319.882549 132.317858 \r\nL 341.622808 134.875032 \r\nL 363.363068 137.282472 \r\n\" style=\"fill:none;stroke:#ff7f0e;stroke-linecap:square;stroke-width:1.5;\"/>\r\n   </g>\r\n   <g id=\"line2d_19\">\r\n    <path clip-path=\"url(#p944f4808f2)\" d=\"M 58.999432 52.404285 \r\nL 80.739692 65.765746 \r\nL 102.479951 67.910144 \r\nL 124.220211 69.845375 \r\nL 145.960471 71.609749 \r\nL 167.700731 73.233022 \r\nL 189.44099 74.738583 \r\nL 211.18125 76.144917 \r\nL 232.92151 77.466731 \r\nL 254.661769 78.715818 \r\nL 276.402029 79.901707 \r\nL 298.142289 81.032165 \r\nL 319.882549 82.113583 \r\nL 341.622808 83.151258 \r\nL 363.363068 84.149629 \r\n\" style=\"fill:none;stroke:#2ca02c;stroke-linecap:square;stroke-width:1.5;\"/>\r\n   </g>\r\n   <g id=\"patch_3\">\r\n    <path d=\"M 43.78125 224.64 \r\nL 43.78125 7.2 \r\n\" style=\"fill:none;stroke:#000000;stroke-linecap:square;stroke-linejoin:miter;stroke-width:0.8;\"/>\r\n   </g>\r\n   <g id=\"patch_4\">\r\n    <path d=\"M 378.58125 224.64 \r\nL 378.58125 7.2 \r\n\" style=\"fill:none;stroke:#000000;stroke-linecap:square;stroke-linejoin:miter;stroke-width:0.8;\"/>\r\n   </g>\r\n   <g id=\"patch_5\">\r\n    <path d=\"M 43.78125 224.64 \r\nL 378.58125 224.64 \r\n\" style=\"fill:none;stroke:#000000;stroke-linecap:square;stroke-linejoin:miter;stroke-width:0.8;\"/>\r\n   </g>\r\n   <g id=\"patch_6\">\r\n    <path d=\"M 43.78125 7.2 \r\nL 378.58125 7.2 \r\n\" style=\"fill:none;stroke:#000000;stroke-linecap:square;stroke-linejoin:miter;stroke-width:0.8;\"/>\r\n   </g>\r\n   <g id=\"legend_1\">\r\n    <g id=\"patch_7\">\r\n     <path d=\"M 179.685938 61.234375 \r\nL 246.676563 61.234375 \r\nQ 248.676563 61.234375 248.676563 59.234375 \r\nL 248.676563 16.2 \r\nQ 248.676563 14.2 246.676563 14.2 \r\nL 179.685938 14.2 \r\nQ 177.685938 14.2 177.685938 16.2 \r\nL 177.685938 59.234375 \r\nQ 177.685938 61.234375 179.685938 61.234375 \r\nz\r\n\" style=\"fill:#454545;opacity:0.5;stroke:#454545;stroke-linejoin:miter;\"/>\r\n    </g>\r\n    <g id=\"patch_8\">\r\n     <path d=\"M 177.685938 59.234375 \r\nL 244.676563 59.234375 \r\nQ 246.676563 59.234375 246.676563 57.234375 \r\nL 246.676563 14.2 \r\nQ 246.676563 12.2 244.676563 12.2 \r\nL 177.685938 12.2 \r\nQ 175.685938 12.2 175.685938 14.2 \r\nL 175.685938 57.234375 \r\nQ 175.685938 59.234375 177.685938 59.234375 \r\nz\r\n\" style=\"fill:#e6e6e6;stroke:#cccccc;stroke-linejoin:miter;\"/>\r\n    </g>\r\n    <g id=\"line2d_20\">\r\n     <path d=\"M 179.685938 20.298437 \r\nL 199.685938 20.298437 \r\n\" style=\"fill:none;stroke:#1f77b4;stroke-linecap:square;stroke-width:1.5;\"/>\r\n    </g>\r\n    <g id=\"line2d_21\"/>\r\n    <g id=\"text_19\">\r\n     <!-- 0.01 -->\r\n     <g transform=\"translate(207.685938 23.798437)scale(0.1 -0.1)\">\r\n      <use xlink:href=\"#DejaVuSans-48\"/>\r\n      <use x=\"63.623047\" xlink:href=\"#DejaVuSans-46\"/>\r\n      <use x=\"95.410156\" xlink:href=\"#DejaVuSans-48\"/>\r\n      <use x=\"159.033203\" xlink:href=\"#DejaVuSans-49\"/>\r\n     </g>\r\n    </g>\r\n    <g id=\"line2d_22\">\r\n     <path d=\"M 179.685938 34.976562 \r\nL 199.685938 34.976562 \r\n\" style=\"fill:none;stroke:#ff7f0e;stroke-linecap:square;stroke-width:1.5;\"/>\r\n    </g>\r\n    <g id=\"line2d_23\"/>\r\n    <g id=\"text_20\">\r\n     <!-- 0.001 -->\r\n     <g transform=\"translate(207.685938 38.476562)scale(0.1 -0.1)\">\r\n      <use xlink:href=\"#DejaVuSans-48\"/>\r\n      <use x=\"63.623047\" xlink:href=\"#DejaVuSans-46\"/>\r\n      <use x=\"95.410156\" xlink:href=\"#DejaVuSans-48\"/>\r\n      <use x=\"159.033203\" xlink:href=\"#DejaVuSans-48\"/>\r\n      <use x=\"222.65625\" xlink:href=\"#DejaVuSans-49\"/>\r\n     </g>\r\n    </g>\r\n    <g id=\"line2d_24\">\r\n     <path d=\"M 179.685938 49.654687 \r\nL 199.685938 49.654687 \r\n\" style=\"fill:none;stroke:#2ca02c;stroke-linecap:square;stroke-width:1.5;\"/>\r\n    </g>\r\n    <g id=\"line2d_25\"/>\r\n    <g id=\"text_21\">\r\n     <!-- 0.0001 -->\r\n     <g transform=\"translate(207.685938 53.154687)scale(0.1 -0.1)\">\r\n      <use xlink:href=\"#DejaVuSans-48\"/>\r\n      <use x=\"63.623047\" xlink:href=\"#DejaVuSans-46\"/>\r\n      <use x=\"95.410156\" xlink:href=\"#DejaVuSans-48\"/>\r\n      <use x=\"159.033203\" xlink:href=\"#DejaVuSans-48\"/>\r\n      <use x=\"222.65625\" xlink:href=\"#DejaVuSans-48\"/>\r\n      <use x=\"286.279297\" xlink:href=\"#DejaVuSans-49\"/>\r\n     </g>\r\n    </g>\r\n   </g>\r\n  </g>\r\n </g>\r\n <defs>\r\n  <clipPath id=\"p944f4808f2\">\r\n   <rect height=\"217.44\" width=\"334.8\" x=\"43.78125\" y=\"7.2\"/>\r\n  </clipPath>\r\n </defs>\r\n</svg>\r\n",
      "image/png": "[encoded data removed]"
     },
     "metadata": {
      "needs_background": "light"
     }
    }
   ],
   "source": [
    "learning_rates = [0.01, 0.001, 0.0001]\n",
    "models = {}\n",
    "for i in learning_rates:\n",
    "    print (\"learning rate is: \" + str(i))\n",
    "    models[str(i)] = model(train_set_x, train_set_y, test_set_x, test_set_y, num_iterations = 1500, learning_rate = i, print_cost = False)\n",
    "    print ('\\n' + \"-------------------------------------------------------\" + '\\n')\n",
    "\n",
    "for i in learning_rates:\n",
    "    plt.plot(np.squeeze(models[str(i)][\"costs\"]), label= str(models[str(i)][\"learning_rate\"]))\n",
    "\n",
    "plt.ylabel('cost')\n",
    "plt.xlabel('iterations (hundreds)')\n",
    "\n",
    "legend = plt.legend(loc='upper center', shadow=True)\n",
    "frame = legend.get_frame()\n",
    "frame.set_facecolor('0.90')\n",
    "plt.show()"
   ]
  },
  {
   "cell_type": "markdown",
   "metadata": {},
   "source": [
    "**Interpretation**: \n",
    "- Different learning rates give different costs and thus different predictions results.\n",
    "- If the learning rate is too large (0.01), the cost may oscillate up and down. It may even diverge (though in this example, using 0.01 still eventually ends up at a good value for the cost). \n",
    "- A lower cost doesn't mean a better model. You have to check if there is possibly overfitting. It happens when the training accuracy is a lot higher than the test accuracy.\n",
    "- In deep learning, we usually recommend that you: \n",
    "    - Choose the learning rate that better minimizes the cost function.\n",
    "    - If your model overfits, use other techniques to reduce overfitting. (We'll talk about this in later videos.) \n"
   ]
  },
  {
   "cell_type": "markdown",
   "metadata": {},
   "source": [
    "## 7 - Test with your own image (optional/ungraded exercise) ##\n",
    "\n",
    "Congratulations on finishing this assignment. You can use your own image and see the output of your model. To do that:\n",
    "    1. Click on \"File\" in the upper bar of this notebook, then click \"Open\" to go on your Coursera Hub.\n",
    "    2. Add your image to this Jupyter Notebook's directory, in the \"images\" folder\n",
    "    3. Change your image's name in the following code\n",
    "    4. Run the code and check if the algorithm is right (1 = cat, 0 = non-cat)!"
   ]
  },
  {
   "cell_type": "code",
   "execution_count": 159,
   "metadata": {
    "scrolled": false
   },
   "outputs": [
    {
     "output_type": "error",
     "ename": "AttributeError",
     "evalue": "module 'scipy.misc' has no attribute 'imresize'",
     "traceback": [
      "\u001b[1;31m---------------------------------------------------------------------------\u001b[0m",
      "\u001b[1;31mAttributeError\u001b[0m                            Traceback (most recent call last)",
      "\u001b[1;32m<ipython-input-159-be43f18618d1>\u001b[0m in \u001b[0;36m<module>\u001b[1;34m\u001b[0m\n\u001b[0;32m      7\u001b[0m \u001b[0mimage\u001b[0m \u001b[1;33m=\u001b[0m \u001b[0mnp\u001b[0m\u001b[1;33m.\u001b[0m\u001b[0marray\u001b[0m\u001b[1;33m(\u001b[0m\u001b[0mplt\u001b[0m\u001b[1;33m.\u001b[0m\u001b[0mimread\u001b[0m\u001b[1;33m(\u001b[0m\u001b[0mfname\u001b[0m\u001b[1;33m)\u001b[0m\u001b[1;33m)\u001b[0m\u001b[1;33m\u001b[0m\u001b[1;33m\u001b[0m\u001b[0m\n\u001b[0;32m      8\u001b[0m \u001b[0mimage\u001b[0m \u001b[1;33m=\u001b[0m \u001b[0mimage\u001b[0m\u001b[1;33m/\u001b[0m\u001b[1;36m255.\u001b[0m\u001b[1;33m\u001b[0m\u001b[1;33m\u001b[0m\u001b[0m\n\u001b[1;32m----> 9\u001b[1;33m \u001b[0mmy_image\u001b[0m \u001b[1;33m=\u001b[0m \u001b[0mscipy\u001b[0m\u001b[1;33m.\u001b[0m\u001b[0mmisc\u001b[0m\u001b[1;33m.\u001b[0m\u001b[0mimresize\u001b[0m\u001b[1;33m(\u001b[0m\u001b[0mimage\u001b[0m\u001b[1;33m,\u001b[0m \u001b[0msize\u001b[0m\u001b[1;33m=\u001b[0m\u001b[1;33m(\u001b[0m\u001b[0mnum_px\u001b[0m\u001b[1;33m,\u001b[0m\u001b[0mnum_px\u001b[0m\u001b[1;33m)\u001b[0m\u001b[1;33m)\u001b[0m\u001b[1;33m.\u001b[0m\u001b[0mreshape\u001b[0m\u001b[1;33m(\u001b[0m\u001b[1;33m(\u001b[0m\u001b[1;36m1\u001b[0m\u001b[1;33m,\u001b[0m \u001b[0mnum_px\u001b[0m\u001b[1;33m*\u001b[0m\u001b[0mnum_px\u001b[0m\u001b[1;33m*\u001b[0m\u001b[1;36m3\u001b[0m\u001b[1;33m)\u001b[0m\u001b[1;33m)\u001b[0m\u001b[1;33m.\u001b[0m\u001b[0mT\u001b[0m\u001b[1;33m\u001b[0m\u001b[1;33m\u001b[0m\u001b[0m\n\u001b[0m\u001b[0;32m     10\u001b[0m \u001b[0mmy_predicted_image\u001b[0m \u001b[1;33m=\u001b[0m \u001b[0mpredict\u001b[0m\u001b[1;33m(\u001b[0m\u001b[0md\u001b[0m\u001b[1;33m[\u001b[0m\u001b[1;34m\"w\"\u001b[0m\u001b[1;33m]\u001b[0m\u001b[1;33m,\u001b[0m \u001b[0md\u001b[0m\u001b[1;33m[\u001b[0m\u001b[1;34m\"b\"\u001b[0m\u001b[1;33m]\u001b[0m\u001b[1;33m,\u001b[0m \u001b[0mmy_image\u001b[0m\u001b[1;33m)\u001b[0m\u001b[1;33m\u001b[0m\u001b[1;33m\u001b[0m\u001b[0m\n\u001b[0;32m     11\u001b[0m \u001b[1;33m\u001b[0m\u001b[0m\n",
      "\u001b[1;31mAttributeError\u001b[0m: module 'scipy.misc' has no attribute 'imresize'"
     ]
    }
   ],
   "source": [
    "## START CODE HERE ## (PUT YOUR IMAGE NAME) \n",
    "my_image = \"cat_in_iran.jpg\"   # change this to the name of your image file \n",
    "## END CODE HERE ##\n",
    "\n",
    "# We preprocess the image to fit your algorithm.\n",
    "fname = \"images/\" + my_image\n",
    "image = np.array(plt.imread(fname))\n",
    "image = image/255.\n",
    "my_image = scipy.misc.imresize(image, size=(num_px,num_px)).reshape((1, num_px*num_px*3)).T\n",
    "my_predicted_image = predict(d[\"w\"], d[\"b\"], my_image)\n",
    "\n",
    "plt.imshow(image)\n",
    "print(\"y = \" + str(np.squeeze(my_predicted_image)) + \", your algorithm predicts a \\\"\" + classes[int(np.squeeze(my_predicted_image)),].decode(\"utf-8\") +  \"\\\" picture.\")"
   ]
  },
  {
   "cell_type": "markdown",
   "metadata": {},
   "source": [
    "<font color='blue'>\n",
    "**What to remember from this assignment:**\n",
    "1. Preprocessing the dataset is important.\n",
    "2. You implemented each function separately: initialize(), propagate(), optimize(). Then you built a model().\n",
    "3. Tuning the learning rate (which is an example of a \"hyperparameter\") can make a big difference to the algorithm. You will see more examples of this later in this course!"
   ]
  },
  {
   "cell_type": "markdown",
   "metadata": {},
   "source": [
    "Finally, if you'd like, we invite you to try different things on this Notebook. Make sure you submit before trying anything. Once you submit, things you can play with include:\n",
    "    - Play with the learning rate and the number of iterations\n",
    "    - Try different initialization methods and compare the results\n",
    "    - Test other preprocessings (center the data, or divide each row by its standard deviation)"
   ]
  },
  {
   "cell_type": "markdown",
   "metadata": {},
   "source": [
    "Bibliography:\n",
    "- http://www.wildml.com/2015/09/implementing-a-neural-network-from-scratch/\n",
    "- https://stats.stackexchange.com/questions/211436/why-do-we-normalize-images-by-subtracting-the-datasets-image-mean-and-not-the-c"
   ]
  },
  {
   "cell_type": "code",
   "execution_count": null,
   "metadata": {
    "collapsed": true
   },
   "outputs": [],
   "source": []
  }
 ],
 "metadata": {
  "coursera": {
   "course_slug": "neural-networks-deep-learning",
   "graded_item_id": "XaIWT",
   "launcher_item_id": "zAgPl"
  },
  "kernelspec": {
   "name": "python3",
   "display_name": "Python 3.8.6 64-bit",
   "metadata": {
    "interpreter": {
     "hash": "1baa965d5efe3ac65b79dfc60c0d706280b1da80fedb7760faf2759126c4f253"
    }
   }
  },
  "language_info": {
   "codemirror_mode": {
    "name": "ipython",
    "version": 2
   },
   "file_extension": ".py",
   "mimetype": "text/x-python",
   "name": "python",
   "nbconvert_exporter": "python",
   "pygments_lexer": "ipython2",
   "version": "3.8.6-final"
  }
 },
 "nbformat": 4,
 "nbformat_minor": 2
}